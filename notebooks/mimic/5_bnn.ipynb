{
 "cells": [
  {
   "cell_type": "markdown",
   "id": "c6e5e527",
   "metadata": {},
   "source": [
    "# Load Packages"
   ]
  },
  {
   "cell_type": "code",
   "execution_count": null,
   "id": "19f36cda",
   "metadata": {},
   "outputs": [],
   "source": [
    "\n",
    "%load_ext autoreload\n",
    "%autoreload 2\n",
    "\n",
    "import sys\n",
    "from os.path import join\n",
    "from tqdm.auto import tqdm\n",
    "import joblib\n",
    "import torch\n",
    "sys.path.append(\"../../\")\n",
    "\n",
    "from src.file_manager.load_data import load_split_dict\n",
    "from src.models.bnn.tuning import tune_bnn_model\n",
    "from src.models.bnn.training import train_model_w_best_param\n",
    "from src.models.bnn.predicting import bnn_model_prediction\n",
    "from src.misc import create_folder\n",
    "# from seed_file import seed\n",
    "\n",
    "seed = 2023\n",
    "tuning_seed = 2023\n",
    "data_label = \"mimic\"\n",
    "batch_size = 64\n",
    "\n",
    "# File paths\n",
    "fp_notebooks_folder = \"../\"\n",
    "fp_project_folder = join(fp_notebooks_folder, \"../\")\n",
    "fp_data_folder = join(fp_project_folder, \"../\", \"data\")\n",
    "fp_processed_folder = join(fp_project_folder, \"processed_data\", data_label)\n",
    "fp_output_data_folder = join(fp_data_folder, data_label)\n",
    "fp_checkpoint_folder = join(fp_project_folder, \"checkpoints\")\n",
    "fp_project_checkpoints = join(fp_checkpoint_folder, data_label)\n",
    "fp_tuning = join(fp_project_checkpoints, \"tuning\")\n",
    "fp_models = join(fp_project_checkpoints, \"models\")\n",
    "fp_predictions = join(fp_project_checkpoints, \"predictions\")\n",
    "\n",
    "# Seed filepaths\n",
    "fp_cur_tune_folder = join(fp_tuning, str(tuning_seed))\n",
    "create_folder(fp_cur_tune_folder)\n",
    "fp_cur_model_folder = join(fp_models, str(seed))\n",
    "create_folder(fp_cur_model_folder)\n",
    "fp_cur_predictions_folder = join(fp_predictions, str(seed))\n",
    "create_folder(fp_cur_predictions_folder)"
   ]
  },
  {
   "cell_type": "markdown",
   "id": "422bc1fb",
   "metadata": {},
   "source": [
    "# Load Data"
   ]
  },
  {
   "cell_type": "code",
   "execution_count": null,
   "id": "14cb53b7",
   "metadata": {},
   "outputs": [],
   "source": [
    "split_dict = joblib.load(join(fp_processed_folder, \"mimic_split_dict.joblib\"))\n",
    "predictors = ['ABPdias (mmHg)_mean Min0', 'RESP (bpm)_mean Min0', 'ABPmean (mmHg)_mean Min0', 'ABPsys (mmHg)_mean Min0', 'SpO2 (%)_mean Min0', 'HR (bpm)_mean Min0', 'ABPdias (mmHg)_std Min0', 'RESP (bpm)_std Min0', 'ABPmean (mmHg)_std Min0', 'ABPsys (mmHg)_std Min0', 'SpO2 (%)_std Min0', 'HR (bpm)_std Min0', 'ABPdias (mmHg)_mean Min1', 'RESP (bpm)_mean Min1', 'ABPmean (mmHg)_mean Min1', 'ABPsys (mmHg)_mean Min1', 'SpO2 (%)_mean Min1', 'HR (bpm)_mean Min1', 'ABPdias (mmHg)_std Min1', 'RESP (bpm)_std Min1', 'ABPmean (mmHg)_std Min1', 'ABPsys (mmHg)_std Min1', 'SpO2 (%)_std Min1', 'HR (bpm)_std Min1', 'ABPdias (mmHg)_mean Min2', 'RESP (bpm)_mean Min2', 'ABPmean (mmHg)_mean Min2', 'ABPsys (mmHg)_mean Min2', 'SpO2 (%)_mean Min2', 'HR (bpm)_mean Min2', 'ABPdias (mmHg)_std Min2', 'RESP (bpm)_std Min2', 'ABPmean (mmHg)_std Min2', 'ABPsys (mmHg)_std Min2', 'SpO2 (%)_std Min2', 'HR (bpm)_std Min2', 'ABPdias (mmHg)_mean Min3', 'RESP (bpm)_mean Min3', 'ABPmean (mmHg)_mean Min3', 'ABPsys (mmHg)_mean Min3', 'SpO2 (%)_mean Min3', 'HR (bpm)_mean Min3', 'ABPdias (mmHg)_std Min3', 'RESP (bpm)_std Min3', 'ABPmean (mmHg)_std Min3', 'ABPsys (mmHg)_std Min3', 'SpO2 (%)_std Min3', 'HR (bpm)_std Min3', 'ABPdias (mmHg)_mean Min4', 'RESP (bpm)_mean Min4', 'ABPmean (mmHg)_mean Min4', 'ABPsys (mmHg)_mean Min4', 'SpO2 (%)_mean Min4', 'HR (bpm)_mean Min4', 'ABPdias (mmHg)_std Min4', 'RESP (bpm)_std Min4', 'ABPmean (mmHg)_std Min4', 'ABPsys (mmHg)_std Min4', 'SpO2 (%)_std Min4', 'HR (bpm)_std Min4']"
   ]
  },
  {
   "cell_type": "markdown",
   "id": "586d8e30",
   "metadata": {},
   "source": [
    "# Tune BNN"
   ]
  },
  {
   "cell_type": "code",
   "execution_count": null,
   "id": "ecdaedeb",
   "metadata": {},
   "outputs": [],
   "source": [
    "if seed==tuning_seed:\n",
    "    all_bnn_best_hp = {}\n",
    "    for time_label, time_info_dict in split_dict.items():\n",
    "        fp_model = join(fp_cur_model_folder, f\"bnn_{time_label}.pt\")\n",
    "        bnn_tuning_df, bnn_best_hp = tune_bnn_model(\n",
    "            param_grid={\"num_layers\":[2, 3], \"width\":[32, 64, 128, 256]}, \n",
    "            train_df=time_info_dict[\"train_df\"], valid_df=time_info_dict[\"valid_df\"], \n",
    "            feat_cols=predictors, target_cols=time_info_dict[\"outputs\"], epochs=500, patience=5, \n",
    "            seed=seed, fp_model=fp_model, batch_size=batch_size\n",
    "        )\n",
    "        bnn_tuning_df.to_csv(join(fp_tuning, str(seed), f\"tuning_bnn_{time_label}.csv\"))\n",
    "        all_bnn_best_hp[time_label] = bnn_best_hp\n",
    "    joblib.dump(all_bnn_best_hp, join(fp_tuning, \"all_bnn_best_hp.joblib\"))"
   ]
  },
  {
   "cell_type": "code",
   "execution_count": null,
   "id": "8f7893eb",
   "metadata": {},
   "outputs": [],
   "source": [
    "all_bnn_best_hp = joblib.load(join(fp_cur_tune_folder, \"all_bnn_best_hp.joblib\"))\n",
    "print(all_bnn_best_hp)"
   ]
  },
  {
   "cell_type": "markdown",
   "id": "176f1ae2",
   "metadata": {},
   "source": [
    "# Training"
   ]
  },
  {
   "cell_type": "code",
   "execution_count": null,
   "id": "a968818c",
   "metadata": {},
   "outputs": [],
   "source": [
    "all_bnn_best_hp = joblib.load(join(fp_cur_tune_folder, \"all_bnn_best_hp.joblib\"))\n",
    "for time_label, time_info_dict in tqdm(split_dict.items()):\n",
    "    fp_model = join(fp_cur_model_folder, f\"bnn_{time_label}.pt\")\n",
    "    bnn_best_hp = all_bnn_best_hp[time_label]\n",
    "    bnn_model = train_model_w_best_param(\n",
    "        best_param=bnn_best_hp, train_df=time_info_dict[\"train_df\"], valid_df=time_info_dict[\"valid_df\"], \n",
    "        feat_cols=predictors, target_cols=time_info_dict[\"outputs\"],\n",
    "        epochs=500, patience=5, seed=seed, fp_model=fp_model, batch_size=batch_size\n",
    "    )"
   ]
  },
  {
   "cell_type": "markdown",
   "id": "2558386d",
   "metadata": {},
   "source": [
    "# Prediction"
   ]
  },
  {
   "cell_type": "code",
   "execution_count": null,
   "id": "0a174cff",
   "metadata": {},
   "outputs": [],
   "source": [
    "for time_label, time_info_dict in tqdm(split_dict.items()):\n",
    "    fp_model = join(fp_cur_model_folder, f\"bnn_{time_label}.pt\")\n",
    "    bnn_model = torch.load(fp_model)\n",
    "    bnn_valid_df = bnn_model_prediction(bnn_model, time_info_dict[\"valid_df\"], feat_cols=predictors, target_cols=time_info_dict[\"outputs\"], T=10, seed=seed, regressor_label=time_label, batch_size=batch_size)\n",
    "    bnn_test_df = bnn_model_prediction(bnn_model, time_info_dict[\"test_df\"], feat_cols=predictors, target_cols=time_info_dict[\"outputs\"], T=10, seed=seed, regressor_label=time_label, batch_size=batch_size)\n",
    "    # display(bnn_test_df)\n",
    "    bnn_valid_df.to_csv(join(fp_cur_predictions_folder, f\"bnn_valid_{time_label[-1]}.csv\"))\n",
    "    bnn_test_df.to_csv(join(fp_cur_predictions_folder, f\"bnn_test_{time_label[-1]}.csv\"))"
   ]
  }
 ],
 "metadata": {
  "kernelspec": {
   "display_name": "main",
   "language": "python",
   "name": "python3"
  },
  "language_info": {
   "codemirror_mode": {
    "name": "ipython",
    "version": 3
   },
   "file_extension": ".py",
   "mimetype": "text/x-python",
   "name": "python",
   "nbconvert_exporter": "python",
   "pygments_lexer": "ipython3",
   "version": "3.10.14"
  }
 },
 "nbformat": 4,
 "nbformat_minor": 5
}
