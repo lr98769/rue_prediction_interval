{
 "cells": [
  {
   "cell_type": "code",
   "execution_count": null,
   "id": "51385398",
   "metadata": {},
   "outputs": [],
   "source": [
    "%load_ext autoreload\n",
    "%autoreload 2\n",
    "\n",
    "import sys\n",
    "from os.path import join\n",
    "from tqdm.auto import tqdm\n",
    "import joblib\n",
    "sys.path.append(\"../../\")\n",
    "\n",
    "from src.models.sgpr.training import model_training_gpr\n",
    "from src.models.sgpr.save_load_model import save_model_gpr, load_model_gpr\n",
    "from src.models.sgpr.predicting import model_test_predictions_gpr\n",
    "from src.misc import create_folder\n",
    "# from seed_file import seed\n",
    "\n",
    "seed = 2023\n",
    "tuning_seed = 2023\n",
    "data_label = \"mimic\"\n",
    "batch_size = 64\n",
    "\n",
    "# File paths\n",
    "fp_notebooks_folder = \"../\"\n",
    "fp_project_folder = join(fp_notebooks_folder, \"../\")\n",
    "fp_data_folder = join(fp_project_folder, \"../\", \"data\")\n",
    "fp_processed_folder = join(fp_project_folder, \"processed_data\", data_label)\n",
    "fp_output_data_folder = join(fp_data_folder, data_label)\n",
    "fp_checkpoint_folder = join(fp_project_folder, \"checkpoints\")\n",
    "fp_project_checkpoints = join(fp_checkpoint_folder, data_label)\n",
    "fp_tuning = join(fp_project_checkpoints, \"tuning\")\n",
    "fp_models = join(fp_project_checkpoints, \"models\")\n",
    "fp_predictions = join(fp_project_checkpoints, \"predictions\")\n",
    "\n",
    "# Seed filepaths\n",
    "fp_cur_tune_folder = join(fp_tuning, str(tuning_seed))\n",
    "create_folder(fp_cur_tune_folder)\n",
    "fp_cur_model_folder = join(fp_models, str(seed))\n",
    "create_folder(fp_cur_model_folder)\n",
    "fp_cur_predictions_folder = join(fp_predictions, str(seed))\n",
    "create_folder(fp_cur_predictions_folder)"
   ]
  },
  {
   "cell_type": "markdown",
   "id": "5156f865",
   "metadata": {},
   "source": [
    "# Load Data"
   ]
  },
  {
   "cell_type": "code",
   "execution_count": null,
   "id": "a76f18ed",
   "metadata": {},
   "outputs": [],
   "source": [
    "split_dict = joblib.load(join(fp_processed_folder, \"mimic_split_dict.joblib\"))\n",
    "predictors = ['ABPdias (mmHg)_mean Min0', 'RESP (bpm)_mean Min0', 'ABPmean (mmHg)_mean Min0', 'ABPsys (mmHg)_mean Min0', 'SpO2 (%)_mean Min0', 'HR (bpm)_mean Min0', 'ABPdias (mmHg)_std Min0', 'RESP (bpm)_std Min0', 'ABPmean (mmHg)_std Min0', 'ABPsys (mmHg)_std Min0', 'SpO2 (%)_std Min0', 'HR (bpm)_std Min0', 'ABPdias (mmHg)_mean Min1', 'RESP (bpm)_mean Min1', 'ABPmean (mmHg)_mean Min1', 'ABPsys (mmHg)_mean Min1', 'SpO2 (%)_mean Min1', 'HR (bpm)_mean Min1', 'ABPdias (mmHg)_std Min1', 'RESP (bpm)_std Min1', 'ABPmean (mmHg)_std Min1', 'ABPsys (mmHg)_std Min1', 'SpO2 (%)_std Min1', 'HR (bpm)_std Min1', 'ABPdias (mmHg)_mean Min2', 'RESP (bpm)_mean Min2', 'ABPmean (mmHg)_mean Min2', 'ABPsys (mmHg)_mean Min2', 'SpO2 (%)_mean Min2', 'HR (bpm)_mean Min2', 'ABPdias (mmHg)_std Min2', 'RESP (bpm)_std Min2', 'ABPmean (mmHg)_std Min2', 'ABPsys (mmHg)_std Min2', 'SpO2 (%)_std Min2', 'HR (bpm)_std Min2', 'ABPdias (mmHg)_mean Min3', 'RESP (bpm)_mean Min3', 'ABPmean (mmHg)_mean Min3', 'ABPsys (mmHg)_mean Min3', 'SpO2 (%)_mean Min3', 'HR (bpm)_mean Min3', 'ABPdias (mmHg)_std Min3', 'RESP (bpm)_std Min3', 'ABPmean (mmHg)_std Min3', 'ABPsys (mmHg)_std Min3', 'SpO2 (%)_std Min3', 'HR (bpm)_std Min3', 'ABPdias (mmHg)_mean Min4', 'RESP (bpm)_mean Min4', 'ABPmean (mmHg)_mean Min4', 'ABPsys (mmHg)_mean Min4', 'SpO2 (%)_mean Min4', 'HR (bpm)_mean Min4', 'ABPdias (mmHg)_std Min4', 'RESP (bpm)_std Min4', 'ABPmean (mmHg)_std Min4', 'ABPsys (mmHg)_std Min4', 'SpO2 (%)_std Min4', 'HR (bpm)_std Min4']"
   ]
  },
  {
   "cell_type": "markdown",
   "id": "0d658c9f",
   "metadata": {},
   "source": [
    "# Train SGPR"
   ]
  },
  {
   "cell_type": "code",
   "execution_count": null,
   "id": "2e910fc6",
   "metadata": {},
   "outputs": [],
   "source": [
    "for time_label, time_info_dict in tqdm(split_dict.items()):\n",
    "    gpr = model_training_gpr(\n",
    "        predictors=predictors, pred_cols=time_info_dict[\"outputs\"], \n",
    "        train_df=time_info_dict[\"train_df\"], valid_df = time_info_dict[\"valid_df\"], \n",
    "        seed=seed, prop_inducing=0.001\n",
    "    ) \n",
    "    save_model_gpr(\n",
    "        model=gpr, name=f\"gpr_{time_label}\", \n",
    "        fp_checkpoints=fp_cur_model_folder, predictors=predictors)"
   ]
  },
  {
   "cell_type": "markdown",
   "id": "f673800b",
   "metadata": {},
   "source": [
    "# Prediction"
   ]
  },
  {
   "cell_type": "code",
   "execution_count": null,
   "id": "c2a614f5",
   "metadata": {},
   "outputs": [],
   "source": [
    "for time_label, time_info_dict in tqdm(split_dict.items()):\n",
    "    pred_min = int(time_label[-1])\n",
    "    gpr = load_model_gpr(\n",
    "        name=f\"gpr_{pred_min}\", fp_checkpoints=fp_cur_model_folder)\n",
    "    gpr_valid_pred = model_test_predictions_gpr(\n",
    "        gpr=gpr, df_test=time_info_dict[\"valid_df\"], pred_cols=time_info_dict[\"outputs\"], \n",
    "        predictors=predictors, \n",
    "        regressor_label=f\"_{time_label}\", pred_min=pred_min, seed=seed)\n",
    "    gpr_valid_pred.to_csv(join(fp_cur_predictions_folder, f\"gpr_valid_{pred_min}.csv\"))\n",
    "    gpr_test_pred = model_test_predictions_gpr(\n",
    "        gpr=gpr, df_test=time_info_dict[\"test_df\"], pred_cols=time_info_dict[\"outputs\"], \n",
    "        predictors=predictors, \n",
    "        regressor_label=f\"_{time_label}\", pred_min=pred_min, seed=seed)\n",
    "    gpr_test_pred.to_csv(join(fp_cur_predictions_folder, f\"gpr_test_{pred_min}.csv\"))"
   ]
  }
 ],
 "metadata": {
  "kernelspec": {
   "display_name": "main",
   "language": "python",
   "name": "python3"
  },
  "language_info": {
   "codemirror_mode": {
    "name": "ipython",
    "version": 3
   },
   "file_extension": ".py",
   "mimetype": "text/x-python",
   "name": "python",
   "nbconvert_exporter": "python",
   "pygments_lexer": "ipython3",
   "version": "3.10.14"
  }
 },
 "nbformat": 4,
 "nbformat_minor": 5
}
