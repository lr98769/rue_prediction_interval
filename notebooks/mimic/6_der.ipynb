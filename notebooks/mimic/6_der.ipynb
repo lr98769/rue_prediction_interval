{
 "cells": [
  {
   "cell_type": "markdown",
   "id": "cf5003da",
   "metadata": {},
   "source": [
    "# Load Packages"
   ]
  },
  {
   "cell_type": "code",
   "execution_count": null,
   "id": "89aaeaf7",
   "metadata": {},
   "outputs": [],
   "source": [
    "%load_ext autoreload\n",
    "%autoreload 2\n",
    "\n",
    "import sys\n",
    "from os.path import join\n",
    "from tqdm.auto import tqdm\n",
    "import joblib\n",
    "import torch\n",
    "sys.path.append(\"../../\")\n",
    "\n",
    "from src.file_manager.load_data import load_split_dict\n",
    "from src.models.der.tuning import tune_der_model\n",
    "from src.models.der.training import train_der_w_param\n",
    "from src.models.der.predicting import der_model_prediction\n",
    "from src.misc import create_folder\n",
    "# from seed_file import seed\n",
    "\n",
    "seed = 2023\n",
    "tuning_seed = 2023\n",
    "data_label = \"mimic\"\n",
    "batch_size = 64\n",
    "\n",
    "# File paths\n",
    "fp_notebooks_folder = \"../\"\n",
    "fp_project_folder = join(fp_notebooks_folder, \"../\")\n",
    "fp_data_folder = join(fp_project_folder, \"../\", \"data\")\n",
    "fp_processed_folder = join(fp_project_folder, \"processed_data\", data_label)\n",
    "fp_output_data_folder = join(fp_data_folder, data_label)\n",
    "fp_checkpoint_folder = join(fp_project_folder, \"checkpoints\")\n",
    "fp_project_checkpoints = join(fp_checkpoint_folder, data_label)\n",
    "fp_tuning = join(fp_project_checkpoints, \"tuning\")\n",
    "fp_models = join(fp_project_checkpoints, \"models\")\n",
    "fp_predictions = join(fp_project_checkpoints, \"predictions\")\n",
    "\n",
    "# Seed filepaths\n",
    "fp_cur_tune_folder = join(fp_tuning, str(tuning_seed))\n",
    "create_folder(fp_cur_tune_folder)\n",
    "fp_cur_model_folder = join(fp_models, str(seed))\n",
    "create_folder(fp_cur_model_folder)\n",
    "fp_cur_predictions_folder = join(fp_predictions, str(seed))\n",
    "create_folder(fp_cur_predictions_folder)"
   ]
  },
  {
   "cell_type": "markdown",
   "id": "96d6326f",
   "metadata": {},
   "source": [
    "# Load Data"
   ]
  },
  {
   "cell_type": "code",
   "execution_count": null,
   "id": "883f7814",
   "metadata": {},
   "outputs": [],
   "source": [
    "split_dict = joblib.load(join(fp_processed_folder, \"mimic_split_dict.joblib\"))\n",
    "predictors = ['ABPdias (mmHg)_mean Min0', 'RESP (bpm)_mean Min0', 'ABPmean (mmHg)_mean Min0', 'ABPsys (mmHg)_mean Min0', 'SpO2 (%)_mean Min0', 'HR (bpm)_mean Min0', 'ABPdias (mmHg)_std Min0', 'RESP (bpm)_std Min0', 'ABPmean (mmHg)_std Min0', 'ABPsys (mmHg)_std Min0', 'SpO2 (%)_std Min0', 'HR (bpm)_std Min0', 'ABPdias (mmHg)_mean Min1', 'RESP (bpm)_mean Min1', 'ABPmean (mmHg)_mean Min1', 'ABPsys (mmHg)_mean Min1', 'SpO2 (%)_mean Min1', 'HR (bpm)_mean Min1', 'ABPdias (mmHg)_std Min1', 'RESP (bpm)_std Min1', 'ABPmean (mmHg)_std Min1', 'ABPsys (mmHg)_std Min1', 'SpO2 (%)_std Min1', 'HR (bpm)_std Min1', 'ABPdias (mmHg)_mean Min2', 'RESP (bpm)_mean Min2', 'ABPmean (mmHg)_mean Min2', 'ABPsys (mmHg)_mean Min2', 'SpO2 (%)_mean Min2', 'HR (bpm)_mean Min2', 'ABPdias (mmHg)_std Min2', 'RESP (bpm)_std Min2', 'ABPmean (mmHg)_std Min2', 'ABPsys (mmHg)_std Min2', 'SpO2 (%)_std Min2', 'HR (bpm)_std Min2', 'ABPdias (mmHg)_mean Min3', 'RESP (bpm)_mean Min3', 'ABPmean (mmHg)_mean Min3', 'ABPsys (mmHg)_mean Min3', 'SpO2 (%)_mean Min3', 'HR (bpm)_mean Min3', 'ABPdias (mmHg)_std Min3', 'RESP (bpm)_std Min3', 'ABPmean (mmHg)_std Min3', 'ABPsys (mmHg)_std Min3', 'SpO2 (%)_std Min3', 'HR (bpm)_std Min3', 'ABPdias (mmHg)_mean Min4', 'RESP (bpm)_mean Min4', 'ABPmean (mmHg)_mean Min4', 'ABPsys (mmHg)_mean Min4', 'SpO2 (%)_mean Min4', 'HR (bpm)_mean Min4', 'ABPdias (mmHg)_std Min4', 'RESP (bpm)_std Min4', 'ABPmean (mmHg)_std Min4', 'ABPsys (mmHg)_std Min4', 'SpO2 (%)_std Min4', 'HR (bpm)_std Min4']"
   ]
  },
  {
   "cell_type": "markdown",
   "id": "cbc1b191",
   "metadata": {},
   "source": [
    "# Tune DER"
   ]
  },
  {
   "cell_type": "code",
   "execution_count": null,
   "id": "e20b7f2f",
   "metadata": {},
   "outputs": [],
   "source": [
    "if seed==tuning_seed:\n",
    "    all_der_best_hp = {}\n",
    "    for time_label, time_info_dict in tqdm(split_dict.items()):\n",
    "        der_tuning_df, der_best_hp = tune_der_model(\n",
    "            param_grid={\n",
    "                \"n_hidden_layers\":[2, 3, 4],\n",
    "                \"hidden_width\": [128, 256, 512]}, \n",
    "            train_df=time_info_dict[\"train_df\"], valid_df=time_info_dict[\"valid_df\"], \n",
    "            feat_cols=predictors, target_cols=time_info_dict[\"outputs\"], epochs=500, patience=5, \n",
    "            seed=seed, batch_size=batch_size\n",
    "        )\n",
    "        der_tuning_df.to_csv(join(fp_cur_tune_folder, f\"tuning_der_{time_label}.csv\"))\n",
    "        all_der_best_hp[time_label] = der_best_hp\n",
    "        display(der_tuning_df)\n",
    "    joblib.dump(all_der_best_hp, join(fp_cur_tune_folder, \"all_der_best_hp.joblib\"))"
   ]
  },
  {
   "cell_type": "markdown",
   "id": "2a6eb97e",
   "metadata": {},
   "source": [
    "# Training DER"
   ]
  },
  {
   "cell_type": "code",
   "execution_count": null,
   "id": "769b2a02",
   "metadata": {},
   "outputs": [],
   "source": [
    "all_der_best_hp = joblib.load(join(fp_cur_tune_folder, \"all_der_best_hp.joblib\"))\n",
    "for time_label, time_info_dict in tqdm(split_dict.items()):\n",
    "    fp_model = join(fp_cur_model_folder, f\"der_{time_label}.pt\")\n",
    "    der_model, _ = train_der_w_param(\n",
    "        **all_der_best_hp[time_label], \n",
    "        train_df=time_info_dict[\"train_df\"], valid_df=time_info_dict[\"valid_df\"], \n",
    "        inputs=predictors, outputs=time_info_dict[\"outputs\"],\n",
    "        seed=seed, max_epochs=500, patience=5, batch_size=batch_size\n",
    "    )\n",
    "    torch.save(der_model, fp_model)"
   ]
  },
  {
   "cell_type": "markdown",
   "id": "4ff4df8c",
   "metadata": {},
   "source": [
    "# Prediction"
   ]
  },
  {
   "cell_type": "code",
   "execution_count": null,
   "id": "5b2d3b09",
   "metadata": {},
   "outputs": [],
   "source": [
    "for time_label, time_info_dict in tqdm(split_dict.items()):\n",
    "    fp_model = join(fp_cur_model_folder, f\"der_{time_label}.pt\")\n",
    "    der_model = torch.load(fp_model)\n",
    "    der_valid_df = der_model_prediction(\n",
    "        der_model, test_df=time_info_dict[\"valid_df\"], feat_cols=predictors, target_cols=time_info_dict[\"outputs\"], seed=seed, silent=False, regressor_label=time_label)\n",
    "    der_test_df = der_model_prediction(\n",
    "        der_model, test_df=time_info_dict[\"test_df\"], feat_cols=predictors, target_cols=time_info_dict[\"outputs\"], seed=seed, silent=False, regressor_label=time_label)\n",
    "    # display(der_test_df)\n",
    "    der_valid_df.to_csv(join(fp_cur_predictions_folder, f\"der_valid_{time_label[-1]}.csv\"))\n",
    "    der_test_df.to_csv(join(fp_cur_predictions_folder, f\"der_test_{time_label[-1]}.csv\"))"
   ]
  }
 ],
 "metadata": {
  "kernelspec": {
   "display_name": "main",
   "language": "python",
   "name": "python3"
  },
  "language_info": {
   "codemirror_mode": {
    "name": "ipython",
    "version": 3
   },
   "file_extension": ".py",
   "mimetype": "text/x-python",
   "name": "python",
   "nbconvert_exporter": "python",
   "pygments_lexer": "ipython3",
   "version": "3.10.14"
  }
 },
 "nbformat": 4,
 "nbformat_minor": 5
}
