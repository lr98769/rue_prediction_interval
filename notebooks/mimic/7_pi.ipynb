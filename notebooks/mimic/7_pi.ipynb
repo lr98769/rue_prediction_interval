{
 "cells": [
  {
   "cell_type": "markdown",
   "id": "2f2cd308",
   "metadata": {},
   "source": [
    "# Load Packages"
   ]
  },
  {
   "cell_type": "code",
   "execution_count": null,
   "id": "30fff032",
   "metadata": {},
   "outputs": [],
   "source": [
    "\n",
    "%load_ext autoreload\n",
    "%autoreload 2\n",
    "\n",
    "import sys\n",
    "from os.path import join\n",
    "from tqdm.auto import tqdm\n",
    "import joblib\n",
    "import torch\n",
    "sys.path.append(\"../../\")\n",
    "\n",
    "from src.file_manager.load_data import load_split_dict\n",
    "from src.file_processing.processing_predictions import load_prediction_df_dict, save_pi_df_dict\n",
    "from src.file_manager.save_load_scaler import load_scaler\n",
    "from src.pi_methods.knn import knn_prediction_interval\n",
    "from src.pi_methods.weighted import weighted_prediction_interval\n",
    "from src.pi_methods.cond_gaussian import cond_gauss_prediction_interval\n",
    "from src.pi_methods.gaussian_copula import gauss_copula_prediction_interval\n",
    "from src.pi_methods.conformal_prediction import conformal_prediction_interval\n",
    "from src.misc import create_folder\n",
    "from ue_pi_dicts import ue_dict\n",
    "from seed_file import seed\n",
    "\n",
    "# seed = 2023\n",
    "data_label = \"mimic\"\n",
    "batch_size = 64\n",
    "\n",
    "# File paths\n",
    "fp_notebooks_folder = \"../\"\n",
    "fp_project_folder = join(fp_notebooks_folder, \"../\")\n",
    "fp_data_folder = join(fp_project_folder, \"../\", \"data\")\n",
    "fp_processed_folder = join(fp_project_folder, \"processed_data\", data_label)\n",
    "fp_output_data_folder = join(fp_data_folder, data_label)\n",
    "fp_checkpoint_folder = join(fp_project_folder, \"checkpoints\")\n",
    "fp_project_checkpoints = join(fp_checkpoint_folder, data_label)\n",
    "fp_tuning = join(fp_project_checkpoints, \"tuning\")\n",
    "fp_models = join(fp_project_checkpoints, \"models\")\n",
    "fp_predictions = join(fp_project_checkpoints, \"predictions\")\n",
    "fp_pi_predictions = join(fp_project_checkpoints, \"pi_predictions\")\n",
    "\n",
    "# Seed filepaths\n",
    "fp_cur_model_folder = join(fp_models, str(seed))\n",
    "create_folder(fp_cur_model_folder)\n",
    "fp_cur_predictions_folder = join(fp_predictions, str(seed))\n",
    "create_folder(fp_cur_predictions_folder)\n",
    "fp_cur_pi_predictions_folder = join(fp_pi_predictions, str(seed))\n",
    "create_folder(fp_cur_pi_predictions_folder)\n",
    "\n",
    "pred_file_names =  [\"rue\", \"gpr\", \"infernoise\", \"der\", \"bnn\"]"
   ]
  },
  {
   "cell_type": "markdown",
   "id": "5cae1327",
   "metadata": {},
   "source": [
    "# Load Data"
   ]
  },
  {
   "cell_type": "code",
   "execution_count": null,
   "id": "968d400c",
   "metadata": {},
   "outputs": [],
   "source": [
    "split_dict = joblib.load(join(fp_processed_folder, \"mimic_split_dict.joblib\"))\n",
    "split_dict[\"target_cols\"] = {\n",
    "    time_label: time_info[\"outputs\"] for time_label, time_info in split_dict.items()\n",
    "}\n",
    "split_dict[\"feat_cols\"] = ['ABPdias (mmHg)_mean Min0', 'RESP (bpm)_mean Min0', 'ABPmean (mmHg)_mean Min0', 'ABPsys (mmHg)_mean Min0', 'SpO2 (%)_mean Min0', 'HR (bpm)_mean Min0', 'ABPdias (mmHg)_std Min0', 'RESP (bpm)_std Min0', 'ABPmean (mmHg)_std Min0', 'ABPsys (mmHg)_std Min0', 'SpO2 (%)_std Min0', 'HR (bpm)_std Min0', 'ABPdias (mmHg)_mean Min1', 'RESP (bpm)_mean Min1', 'ABPmean (mmHg)_mean Min1', 'ABPsys (mmHg)_mean Min1', 'SpO2 (%)_mean Min1', 'HR (bpm)_mean Min1', 'ABPdias (mmHg)_std Min1', 'RESP (bpm)_std Min1', 'ABPmean (mmHg)_std Min1', 'ABPsys (mmHg)_std Min1', 'SpO2 (%)_std Min1', 'HR (bpm)_std Min1', 'ABPdias (mmHg)_mean Min2', 'RESP (bpm)_mean Min2', 'ABPmean (mmHg)_mean Min2', 'ABPsys (mmHg)_mean Min2', 'SpO2 (%)_mean Min2', 'HR (bpm)_mean Min2', 'ABPdias (mmHg)_std Min2', 'RESP (bpm)_std Min2', 'ABPmean (mmHg)_std Min2', 'ABPsys (mmHg)_std Min2', 'SpO2 (%)_std Min2', 'HR (bpm)_std Min2', 'ABPdias (mmHg)_mean Min3', 'RESP (bpm)_mean Min3', 'ABPmean (mmHg)_mean Min3', 'ABPsys (mmHg)_mean Min3', 'SpO2 (%)_mean Min3', 'HR (bpm)_mean Min3', 'ABPdias (mmHg)_std Min3', 'RESP (bpm)_std Min3', 'ABPmean (mmHg)_std Min3', 'ABPsys (mmHg)_std Min3', 'SpO2 (%)_std Min3', 'HR (bpm)_std Min3', 'ABPdias (mmHg)_mean Min4', 'RESP (bpm)_mean Min4', 'ABPmean (mmHg)_mean Min4', 'ABPsys (mmHg)_mean Min4', 'SpO2 (%)_mean Min4', 'HR (bpm)_mean Min4', 'ABPdias (mmHg)_std Min4', 'RESP (bpm)_std Min4', 'ABPmean (mmHg)_std Min4', 'ABPsys (mmHg)_std Min4', 'SpO2 (%)_std Min4', 'HR (bpm)_std Min4']"
   ]
  },
  {
   "cell_type": "markdown",
   "id": "d4dc0964",
   "metadata": {},
   "source": [
    "# Load All Predictions"
   ]
  },
  {
   "cell_type": "code",
   "execution_count": null,
   "id": "97163ba4",
   "metadata": {},
   "outputs": [],
   "source": [
    "scaler = load_scaler(join(fp_processed_folder, \"scaler.pkl\"))\n",
    "pred_df_dict = load_prediction_df_dict(\n",
    "    split_dict, fp_cur_predictions_folder, pred_file_names=pred_file_names) "
   ]
  },
  {
   "cell_type": "markdown",
   "id": "d1e40d5c",
   "metadata": {},
   "source": [
    "# Add KNN PI"
   ]
  },
  {
   "cell_type": "code",
   "execution_count": null,
   "id": "8d619030",
   "metadata": {},
   "outputs": [],
   "source": [
    "# Apply knn_prediction_interval to all RUE\n",
    "ue_label = \"RUE\"\n",
    "for time_label, time_info in tqdm(pred_df_dict.items()):\n",
    "    val_df, test_df, pred_cols = time_info[\"valid_df\"], time_info[\"test_df\"], time_info[\"pred_cols\"]\n",
    "    pred_label, ue_col = ue_dict[ue_label][\"pred_label\"], ue_dict[ue_label][\"ue_col\"]\n",
    "    pred_df_dict[time_label][\"test_df\"] = knn_prediction_interval(\n",
    "        df_val=val_df, df_test=test_df, \n",
    "        predictors=split_dict[\"feat_cols\"], pred_cols=pred_cols, \n",
    "        pred_label=pred_label, regressor_label=time_label, ue_col=ue_col, \n",
    "        scaler=scaler, seed=seed\n",
    "    )\n"
   ]
  },
  {
   "cell_type": "markdown",
   "id": "0d8aa929",
   "metadata": {},
   "source": [
    "# Add Weighted Percentile PI"
   ]
  },
  {
   "cell_type": "code",
   "execution_count": null,
   "id": "1099d3ea",
   "metadata": {},
   "outputs": [],
   "source": [
    "# Apply weighted_prediction_interval to all RUE\n",
    "ue_label = \"RUE\"\n",
    "for time_label, time_info in tqdm(pred_df_dict.items()):\n",
    "    val_df, test_df, pred_cols = time_info[\"valid_df\"], time_info[\"test_df\"], time_info[\"pred_cols\"]\n",
    "    pred_label, ue_col = ue_dict[ue_label][\"pred_label\"], ue_dict[ue_label][\"ue_col\"]\n",
    "    pred_df_dict[time_label][\"test_df\"] = weighted_prediction_interval(\n",
    "        df_val=val_df, df_test=test_df, \n",
    "        predictors=split_dict[\"feat_cols\"], pred_cols=pred_cols, \n",
    "        pred_label=pred_label, regressor_label=time_label, ue_col=ue_col, \n",
    "        scaler=scaler, seed=seed\n",
    "    )"
   ]
  },
  {
   "cell_type": "markdown",
   "id": "256a059c",
   "metadata": {},
   "source": [
    "# Add Cond Gauss PI"
   ]
  },
  {
   "cell_type": "code",
   "execution_count": null,
   "id": "f9667882",
   "metadata": {},
   "outputs": [],
   "source": [
    "# Apply cond_gauss_prediction_interval to all RUE\n",
    "ue_label = \"RUE\"\n",
    "for time_label, time_info in tqdm(pred_df_dict.items()):\n",
    "    val_df, test_df, pred_cols = time_info[\"valid_df\"], time_info[\"test_df\"], time_info[\"pred_cols\"]\n",
    "    pred_label, ue_col = ue_dict[ue_label][\"pred_label\"], ue_dict[ue_label][\"ue_col\"]\n",
    "    pred_df_dict[time_label][\"test_df\"] = cond_gauss_prediction_interval(\n",
    "        df_val=val_df, df_test=test_df, predictors=split_dict[\"feat_cols\"], pred_cols=pred_cols, \n",
    "        pred_label=pred_label, regressor_label=time_label, ue_col=ue_col, \n",
    "        scaler=scaler, seed=seed\n",
    "    )"
   ]
  },
  {
   "cell_type": "markdown",
   "id": "e5376836",
   "metadata": {},
   "source": [
    "# Add Gaussian Copula PI"
   ]
  },
  {
   "cell_type": "code",
   "execution_count": null,
   "id": "ada273a0",
   "metadata": {},
   "outputs": [],
   "source": [
    "# Apply weighted_prediction_interval to all RUE\n",
    "ue_label = \"RUE\"\n",
    "for time_label, time_info in tqdm(pred_df_dict.items()):\n",
    "    val_df, test_df, pred_cols = time_info[\"valid_df\"], time_info[\"test_df\"], time_info[\"pred_cols\"]\n",
    "    pred_label, ue_col = ue_dict[ue_label][\"pred_label\"], ue_dict[ue_label][\"ue_col\"]\n",
    "    pred_df_dict[time_label][\"test_df\"] = gauss_copula_prediction_interval(\n",
    "        df_val=val_df, df_test=test_df, \n",
    "        predictors=split_dict[\"feat_cols\"], pred_cols=pred_cols, \n",
    "        pred_label=pred_label, regressor_label=time_label, ue_col=ue_col, \n",
    "        scaler=scaler, seed=seed\n",
    "    )"
   ]
  },
  {
   "cell_type": "markdown",
   "id": "b5cebad9",
   "metadata": {},
   "source": [
    "# Add CP"
   ]
  },
  {
   "cell_type": "code",
   "execution_count": null,
   "id": "e2d55fc7",
   "metadata": {},
   "outputs": [],
   "source": [
    "# Apply conformal prediction to all UEs\n",
    "for time_label, time_info in tqdm(pred_df_dict.items()):\n",
    "    val_df, test_df, pred_cols = time_info[\"valid_df\"], time_info[\"test_df\"], time_info[\"pred_cols\"]\n",
    "    for ue_label, ue_info in ue_dict.items():\n",
    "        val_df, test_df, pred_cols = time_info[\"valid_df\"], time_info[\"test_df\"], time_info[\"pred_cols\"]\n",
    "        pred_label, ue_col = ue_info[\"pred_label\"], ue_info[\"ue_col\"]\n",
    "        pred_df_dict[time_label][\"test_df\"] = conformal_prediction_interval(\n",
    "            df_val=val_df, df_test=test_df, \n",
    "            predictors=split_dict[\"feat_cols\"], pred_cols=pred_cols, \n",
    "            pred_label=pred_label, regressor_label=time_label, ue_col=ue_col, \n",
    "            scaler=scaler, seed=seed\n",
    "        )"
   ]
  },
  {
   "cell_type": "markdown",
   "id": "2906d442",
   "metadata": {},
   "source": [
    "# Export df dict"
   ]
  },
  {
   "cell_type": "code",
   "execution_count": null,
   "id": "f624cb1c",
   "metadata": {},
   "outputs": [],
   "source": [
    "save_pi_df_dict(pred_df_dict, fp_cur_pi_predictions_folder)"
   ]
  }
 ],
 "metadata": {
  "kernelspec": {
   "display_name": "main",
   "language": "python",
   "name": "python3"
  },
  "language_info": {
   "codemirror_mode": {
    "name": "ipython",
    "version": 3
   },
   "file_extension": ".py",
   "mimetype": "text/x-python",
   "name": "python",
   "nbconvert_exporter": "python",
   "pygments_lexer": "ipython3",
   "version": "3.10.14"
  }
 },
 "nbformat": 4,
 "nbformat_minor": 5
}
