{
 "cells": [
  {
   "cell_type": "markdown",
   "id": "f34b976c",
   "metadata": {},
   "source": [
    "# Load Package"
   ]
  },
  {
   "cell_type": "code",
   "execution_count": null,
   "id": "e80e3c9a",
   "metadata": {},
   "outputs": [],
   "source": [
    "%load_ext autoreload\n",
    "%autoreload 2\n",
    "\n",
    "import sys\n",
    "from os.path import join\n",
    "from tqdm.auto import tqdm\n",
    "import joblib\n",
    "import torch\n",
    "sys.path.append(\"../../\")\n",
    "\n",
    "from src.file_manager.load_data import load_split_dict\n",
    "from src.file_processing.processing_predictions import load_pi_df_dict\n",
    "from src.evaluation.perf_eval import get_prediction_performance_table, display_pred_perf\n",
    "from src.evaluation.ue_eval import get_ue_performance_table, display_ue_perf, restructure_ue_df\n",
    "from src.evaluation.pi_eval import get_pi_performance_table, display_pi_perf\n",
    "from src.evaluation.pi_plots import plot_predictions_with_pi_across_methods\n",
    "from src.misc import create_folder\n",
    "from ue_pi_dicts import ue_dict, pi_dict, pi_order\n",
    "from seed_file import seed\n",
    "\n",
    "seed = 2023\n",
    "data_label = \"mimic\"\n",
    "batch_size = 64\n",
    "\n",
    "# File paths\n",
    "fp_notebooks_folder = \"../\"\n",
    "fp_project_folder = join(fp_notebooks_folder, \"../\")\n",
    "fp_data_folder = join(fp_project_folder, \"../\", \"data\")\n",
    "fp_output_data_folder = join(fp_data_folder, data_label)\n",
    "fp_checkpoint_folder = join(fp_project_folder, \"checkpoints\")\n",
    "fp_project_checkpoints = join(fp_checkpoint_folder, data_label)\n",
    "fp_tuning = join(fp_project_checkpoints, \"tuning\")\n",
    "fp_models = join(fp_project_checkpoints, \"models\")\n",
    "fp_predictions = join(fp_project_checkpoints, \"predictions\")\n",
    "fp_pi_predictions = join(fp_project_checkpoints, \"pi_predictions\")\n",
    "fp_evaluation = join(fp_project_checkpoints, \"model_evaluation\")\n",
    "\n",
    "# Seed filepaths\n",
    "fp_cur_model_folder = join(fp_models, str(seed))\n",
    "create_folder(fp_cur_model_folder)\n",
    "fp_cur_predictions_folder = join(fp_predictions, str(seed))\n",
    "create_folder(fp_cur_predictions_folder)\n",
    "fp_cur_pi_predictions_folder = join(fp_pi_predictions, str(seed))\n",
    "create_folder(fp_cur_pi_predictions_folder)\n",
    "fp_cur_evaluation_folder = join(fp_evaluation, str(seed))\n",
    "create_folder(fp_cur_evaluation_folder)"
   ]
  },
  {
   "cell_type": "markdown",
   "id": "5a6aa5c2",
   "metadata": {},
   "source": [
    "# Load PI Prediction Dict"
   ]
  },
  {
   "cell_type": "code",
   "execution_count": null,
   "id": "475c696c",
   "metadata": {},
   "outputs": [],
   "source": [
    "pi_df_dict = load_pi_df_dict(fp_cur_pi_predictions_folder)"
   ]
  },
  {
   "cell_type": "markdown",
   "id": "3cf0e0e8",
   "metadata": {},
   "source": [
    "# Prediction Performance"
   ]
  },
  {
   "cell_type": "code",
   "execution_count": null,
   "id": "41ef6ae1",
   "metadata": {},
   "outputs": [],
   "source": [
    "pred_perf_df = get_prediction_performance_table(pi_df_dict, ue_dict)\n",
    "display_pred_perf(pred_perf_df)\n",
    "pred_perf_df.to_csv(join(fp_cur_evaluation_folder, \"pred_perf.csv\"))"
   ]
  },
  {
   "cell_type": "markdown",
   "id": "c4438332",
   "metadata": {},
   "source": [
    "# UE Performance"
   ]
  },
  {
   "cell_type": "code",
   "execution_count": null,
   "id": "37968310",
   "metadata": {},
   "outputs": [],
   "source": [
    "ue_perf_df = get_ue_performance_table(pi_df_dict, ue_dict)\n",
    "ue_perf_df = restructure_ue_df(ue_perf_df)\n",
    "display_ue_perf(ue_perf_df)\n",
    "ue_perf_df.to_csv(join(fp_cur_evaluation_folder, \"ue_perf.csv\"))"
   ]
  },
  {
   "cell_type": "markdown",
   "id": "ab366697",
   "metadata": {},
   "source": [
    "# PI Performance"
   ]
  },
  {
   "cell_type": "code",
   "execution_count": null,
   "id": "2e53852c",
   "metadata": {},
   "outputs": [],
   "source": [
    "pi_perf_df = get_pi_performance_table(pi_df_dict, pi_dict)\n",
    "display_pi_perf(pi_perf_df)\n",
    "pi_perf_df.to_csv(join(fp_cur_evaluation_folder, \"pi_perf.csv\"))"
   ]
  },
  {
   "cell_type": "markdown",
   "id": "885b5bfc",
   "metadata": {},
   "source": [
    "# Plot PI"
   ]
  },
  {
   "cell_type": "code",
   "execution_count": null,
   "id": "0a4bc44e",
   "metadata": {},
   "outputs": [],
   "source": [
    "plot_predictions_with_pi_across_methods(\n",
    "    pi_df_dict, pi_dict, record='465n', record_col=\"record\", time_col=\"target_index\",\n",
    "    fp_cur_evaluation_folder=fp_cur_evaluation_folder, dpi=300, save_fig=True,\n",
    "    display_feature=\"ABPsys (mmHg)\", regressor_label=\"t+1\", ylim=[70, 160],\n",
    "    pi_order=[\"RUE Gauss Copula\", \"RUE KNN\", \"RUE CP\"], xlabel=\"Minutes\", ylabel=\"Systolic ABP\",\n",
    "    #xlim=[0,80]\n",
    ") # ABPsys (mmHg), RESP (bpm), # ylim=[0, 50]"
   ]
  },
  {
   "cell_type": "code",
   "execution_count": null,
   "id": "a0e72ce0",
   "metadata": {},
   "outputs": [],
   "source": []
  }
 ],
 "metadata": {
  "kernelspec": {
   "display_name": "main",
   "language": "python",
   "name": "python3"
  },
  "language_info": {
   "codemirror_mode": {
    "name": "ipython",
    "version": 3
   },
   "file_extension": ".py",
   "mimetype": "text/x-python",
   "name": "python",
   "nbconvert_exporter": "python",
   "pygments_lexer": "ipython3",
   "version": "3.10.14"
  }
 },
 "nbformat": 4,
 "nbformat_minor": 5
}
