{
 "cells": [
  {
   "cell_type": "markdown",
   "id": "e4260797",
   "metadata": {},
   "source": [
    "# Load Packages"
   ]
  },
  {
   "cell_type": "code",
   "execution_count": null,
   "id": "ab5e7f5d",
   "metadata": {},
   "outputs": [],
   "source": [
    "%load_ext autoreload\n",
    "%autoreload 2\n",
    "\n",
    "import sys\n",
    "from os.path import join\n",
    "from tqdm.auto import tqdm\n",
    "import joblib\n",
    "sys.path.append(\"../../\")\n",
    "\n",
    "from src.file_manager.load_data import load_split_dict\n",
    "from src.models.rue.tuning import model_tuning_regressor, model_tuning_decoder\n",
    "from src.models.rue.training import model_training_predictor, model_training_decoder\n",
    "from src.models.rue.save_load_model import save_model, load_model\n",
    "from src.models.rue.predicting import model_test_predictions\n",
    "from src.misc import create_folder\n",
    "\n",
    "seed = 2023\n",
    "tuning_seed = 2023\n",
    "data_label = \"mimic\"\n",
    "batch_size = 64\n",
    "\n",
    "# File paths\n",
    "fp_notebooks_folder = \"../\"\n",
    "fp_project_folder = join(fp_notebooks_folder, \"../\")\n",
    "fp_data_folder = join(fp_project_folder, \"../\", \"data\")\n",
    "fp_processed_folder = join(fp_project_folder, \"processed_data\", data_label)\n",
    "fp_output_data_folder = join(fp_data_folder, data_label)\n",
    "fp_checkpoint_folder = join(fp_project_folder, \"checkpoints\")\n",
    "fp_project_checkpoints = join(fp_checkpoint_folder, data_label)\n",
    "fp_tuning = join(fp_project_checkpoints, \"tuning\")\n",
    "fp_models = join(fp_project_checkpoints, \"models\")\n",
    "fp_predictions = join(fp_project_checkpoints, \"predictions\")\n",
    "\n",
    "# Seed filepaths\n",
    "fp_cur_tune_folder = join(fp_tuning, str(tuning_seed))\n",
    "create_folder(fp_cur_tune_folder)\n",
    "fp_cur_model_folder = join(fp_models, str(seed))\n",
    "create_folder(fp_cur_model_folder)\n",
    "fp_cur_predictions_folder = join(fp_predictions, str(seed))\n",
    "create_folder(fp_cur_predictions_folder)"
   ]
  },
  {
   "cell_type": "markdown",
   "id": "1b0cbea1",
   "metadata": {},
   "source": [
    "# Load Data"
   ]
  },
  {
   "cell_type": "code",
   "execution_count": null,
   "id": "92e3d0e2",
   "metadata": {},
   "outputs": [],
   "source": [
    "split_dict = joblib.load(join(fp_processed_folder, \"mimic_split_dict.joblib\"))\n",
    "predictors = ['ABPdias (mmHg)_mean Min0', 'RESP (bpm)_mean Min0', 'ABPmean (mmHg)_mean Min0', 'ABPsys (mmHg)_mean Min0', 'SpO2 (%)_mean Min0', 'HR (bpm)_mean Min0', 'ABPdias (mmHg)_std Min0', 'RESP (bpm)_std Min0', 'ABPmean (mmHg)_std Min0', 'ABPsys (mmHg)_std Min0', 'SpO2 (%)_std Min0', 'HR (bpm)_std Min0', 'ABPdias (mmHg)_mean Min1', 'RESP (bpm)_mean Min1', 'ABPmean (mmHg)_mean Min1', 'ABPsys (mmHg)_mean Min1', 'SpO2 (%)_mean Min1', 'HR (bpm)_mean Min1', 'ABPdias (mmHg)_std Min1', 'RESP (bpm)_std Min1', 'ABPmean (mmHg)_std Min1', 'ABPsys (mmHg)_std Min1', 'SpO2 (%)_std Min1', 'HR (bpm)_std Min1', 'ABPdias (mmHg)_mean Min2', 'RESP (bpm)_mean Min2', 'ABPmean (mmHg)_mean Min2', 'ABPsys (mmHg)_mean Min2', 'SpO2 (%)_mean Min2', 'HR (bpm)_mean Min2', 'ABPdias (mmHg)_std Min2', 'RESP (bpm)_std Min2', 'ABPmean (mmHg)_std Min2', 'ABPsys (mmHg)_std Min2', 'SpO2 (%)_std Min2', 'HR (bpm)_std Min2', 'ABPdias (mmHg)_mean Min3', 'RESP (bpm)_mean Min3', 'ABPmean (mmHg)_mean Min3', 'ABPsys (mmHg)_mean Min3', 'SpO2 (%)_mean Min3', 'HR (bpm)_mean Min3', 'ABPdias (mmHg)_std Min3', 'RESP (bpm)_std Min3', 'ABPmean (mmHg)_std Min3', 'ABPsys (mmHg)_std Min3', 'SpO2 (%)_std Min3', 'HR (bpm)_std Min3', 'ABPdias (mmHg)_mean Min4', 'RESP (bpm)_mean Min4', 'ABPmean (mmHg)_mean Min4', 'ABPsys (mmHg)_mean Min4', 'SpO2 (%)_mean Min4', 'HR (bpm)_mean Min4', 'ABPdias (mmHg)_std Min4', 'RESP (bpm)_std Min4', 'ABPmean (mmHg)_std Min4', 'ABPsys (mmHg)_std Min4', 'SpO2 (%)_std Min4', 'HR (bpm)_std Min4']"
   ]
  },
  {
   "cell_type": "markdown",
   "id": "d11d754c",
   "metadata": {},
   "source": [
    "# Tune and Train Predictor"
   ]
  },
  {
   "cell_type": "markdown",
   "id": "fe0801f6",
   "metadata": {},
   "source": [
    "## Tune"
   ]
  },
  {
   "cell_type": "code",
   "execution_count": null,
   "id": "cf6a7449",
   "metadata": {},
   "outputs": [],
   "source": [
    "if seed == tuning_seed:\n",
    "    all_rue_predictor_best_hp = {}\n",
    "    for time_label, time_info_dict in tqdm(split_dict.items(), total=len(split_dict)):\n",
    "        rue_predictor_tuning_df, rue_best_hp = model_tuning_regressor(\n",
    "            param_grid=dict(\n",
    "                encoder_width = [256, 512, 1028], # , 256, 512\n",
    "                encoder_depth = [1, 2, 3], #  3, 4\n",
    "                decoder_width = [128],\n",
    "                decoder_depth = [2]\n",
    "            ), predictors=predictors, pred_cols=time_info_dict[\"outputs\"], \n",
    "            train_df=time_info_dict[\"train_df\"], valid_df=time_info_dict[\"valid_df\"], seed=seed,\n",
    "            batch_size=batch_size, max_epochs=10000, verbose=1, patience=20\n",
    "        )\n",
    "        display(rue_predictor_tuning_df)\n",
    "        rue_predictor_tuning_df.to_csv(join(fp_cur_tune_folder, f\"tuning_rue_{time_label}.csv\"))\n",
    "        all_rue_predictor_best_hp[time_label] = rue_best_hp\n",
    "    joblib.dump(all_rue_predictor_best_hp, join(fp_cur_tune_folder, \"all_rue_predictor_best_hp.joblib\"))"
   ]
  },
  {
   "cell_type": "markdown",
   "id": "99010489",
   "metadata": {},
   "source": [
    "## Train"
   ]
  },
  {
   "cell_type": "code",
   "execution_count": null,
   "id": "fbfd863a",
   "metadata": {},
   "outputs": [],
   "source": [
    "all_rue_predictor_best_hp = joblib.load(join(fp_cur_tune_folder, \"all_rue_predictor_best_hp.joblib\"))\n",
    "all_rue_decoder_best_hp = {}\n",
    "for time_label, time_info_dict in tqdm(split_dict.items(), total=len(split_dict)):\n",
    "    best_predictor_hp = all_rue_predictor_best_hp[time_label]\n",
    "    ae_regressor = model_training_predictor(\n",
    "        best_predictor_hp, predictors=predictors, pred_cols=time_info_dict[\"outputs\"], \n",
    "        train_df=time_info_dict[\"train_df\"], valid_df = time_info_dict[\"valid_df\"], seed=seed,\n",
    "        batch_size=batch_size, max_epochs=10000, verbose=1, patience=20\n",
    "    ) \n",
    "    save_model(model=ae_regressor, name=f\"rue_predictor_{time_label}\",\n",
    "               fp_checkpoints=join(fp_cur_model_folder, str(seed)), override=True)"
   ]
  },
  {
   "cell_type": "markdown",
   "id": "af12e70a",
   "metadata": {},
   "source": [
    "# Tune and Train Decoder"
   ]
  },
  {
   "cell_type": "markdown",
   "id": "582e40eb",
   "metadata": {},
   "source": [
    "## Tune"
   ]
  },
  {
   "cell_type": "code",
   "execution_count": null,
   "id": "936bfd15",
   "metadata": {},
   "outputs": [],
   "source": [
    "if seed == tuning_seed:\n",
    "    all_rue_decoder_best_hp = {}\n",
    "    for time_label, time_info_dict in tqdm(split_dict.items(), total=len(split_dict)):\n",
    "        best_predictor_hp = all_rue_predictor_best_hp[time_label]\n",
    "        prev_model = load_model(name=f\"rue_predictor_{time_label}\", fp_checkpoints=fp_cur_model_folder)\n",
    "        rue_tuning_df, rue_best_hp = model_tuning_decoder(\n",
    "            param_grid=dict(\n",
    "                encoder_width = [best_predictor_hp[\"encoder_width\"]], # , 256, 512\n",
    "                encoder_depth = [best_predictor_hp[\"encoder_depth\"]], #  3, 4\n",
    "                decoder_width = [256, 512, 1028], \n",
    "                decoder_depth = [1, 2, 3]\n",
    "            ), predictors=predictors, pred_cols=time_info_dict[\"outputs\"], \n",
    "            train_df=time_info_dict[\"train_df\"], valid_df=time_info_dict[\"valid_df\"], seed=seed,\n",
    "            max_epochs=10000, verbose=1, patience=20, prev_model=prev_model\n",
    "        )\n",
    "        display(rue_tuning_df)\n",
    "        rue_tuning_df.to_csv(join(fp_cur_tune_folder, f\"tuning_rue_decoder_{time_label}.csv\"))\n",
    "        all_rue_decoder_best_hp[time_label] = rue_best_hp\n",
    "    joblib.dump(all_rue_decoder_best_hp, join(fp_cur_tune_folder, \"all_rue_decoder_best_hp.joblib\"))"
   ]
  },
  {
   "cell_type": "markdown",
   "id": "262f6bca",
   "metadata": {},
   "source": [
    "## Train"
   ]
  },
  {
   "cell_type": "code",
   "execution_count": null,
   "id": "6e8b00ea",
   "metadata": {},
   "outputs": [],
   "source": [
    "all_rue_decoder_best_hp = joblib.load(join(fp_cur_tune_folder, \"all_rue_decoder_best_hp.joblib\"))\n",
    "for time_label, time_info_dict in tqdm(split_dict.items(), total=len(split_dict)):\n",
    "    prev_model = load_model(name=f\"rue_predictor_{time_label}\", fp_checkpoints=fp_cur_model_folder)\n",
    "    hp_dict = all_rue_decoder_best_hp[time_label]\n",
    "    ae_regressor = model_training_decoder(\n",
    "        hp_dict, predictors=predictors, pred_cols=time_info_dict[\"outputs\"], \n",
    "        train_df=time_info_dict[\"train_df\"], valid_df = time_info_dict[\"valid_df\"], seed=seed, prev_model=prev_model,\n",
    "        batch_size=batch_size, max_epochs=10000, verbose=1, patience=20\n",
    "    ) \n",
    "    save_model(model=ae_regressor, name=f\"rue_{time_label}\", fp_checkpoints=fp_cur_model_folder, override=True)"
   ]
  },
  {
   "cell_type": "markdown",
   "id": "09290cb4",
   "metadata": {},
   "source": [
    "# Prediction"
   ]
  },
  {
   "cell_type": "code",
   "execution_count": null,
   "id": "da8fd1d2",
   "metadata": {},
   "outputs": [],
   "source": [
    "for time_label, time_info_dict in tqdm(split_dict.items(), total=len(split_dict)):\n",
    "    ae_regressor = load_model(name=f\"rue_{time_label}\", fp_checkpoints=fp_cur_model_folder)\n",
    "    rue_valid_df = model_test_predictions(\n",
    "        ae_regressor, df_train=time_info_dict[\"train_df\"], df_test=time_info_dict[\"valid_df\"], \n",
    "        pred_cols=time_info_dict[\"outputs\"], predictors=predictors, regressor_label=\"_\"+time_label, pred_min=int(time_label[-1]), T=10, seed=seed)\n",
    "    rue_test_df = model_test_predictions(\n",
    "        ae_regressor, df_train=time_info_dict[\"train_df\"], df_test=time_info_dict[\"test_df\"], \n",
    "        pred_cols=time_info_dict[\"outputs\"], predictors=predictors, regressor_label=\"_\"+time_label, pred_min=int(time_label[-1]), T=10, seed=seed)\n",
    "    # display(rue_test_df)\n",
    "    rue_valid_df.to_csv(join(fp_predictions, f\"rue_valid_{time_label[-1]}.csv\"))\n",
    "    rue_test_df.to_csv(join(fp_predictions, f\"rue_test_{time_label[-1]}.csv\"))\n"
   ]
  }
 ],
 "metadata": {
  "kernelspec": {
   "display_name": "main",
   "language": "python",
   "name": "python3"
  },
  "language_info": {
   "codemirror_mode": {
    "name": "ipython",
    "version": 3
   },
   "file_extension": ".py",
   "mimetype": "text/x-python",
   "name": "python",
   "nbconvert_exporter": "python",
   "pygments_lexer": "ipython3",
   "version": "3.10.14"
  }
 },
 "nbformat": 4,
 "nbformat_minor": 5
}
