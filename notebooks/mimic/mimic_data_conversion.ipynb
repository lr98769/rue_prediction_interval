{
 "cells": [
  {
   "cell_type": "markdown",
   "id": "5d3e5e25",
   "metadata": {},
   "source": [
    "# Converting Data to CSV"
   ]
  },
  {
   "cell_type": "code",
   "execution_count": null,
   "id": "20a64079",
   "metadata": {},
   "outputs": [],
   "source": [
    "# Important libraries\n",
    "import os\n",
    "import wfdb\n",
    "import numpy as np\n",
    "import pandas as pd\n",
    "from tqdm import tqdm\n",
    "\n",
    "# File paths\n",
    "fp_notebooks_folder = \"./\"\n",
    "fp_code_folder = \"../\"\n",
    "fp_raw_data_folder = os.path.join(fp_code_folder, \"../mimic-database-1.0.0\")\n",
    "fp_processed_folder = os.path.join(fp_code_folder, \"../processed_data\")\n",
    "fp_converted_folder = os.path.join(fp_code_folder, \"../processed_data\", \"converted_to_csv\")"
   ]
  },
  {
   "cell_type": "markdown",
   "id": "382b53d4",
   "metadata": {},
   "source": [
    "## Signal Data"
   ]
  },
  {
   "cell_type": "code",
   "execution_count": null,
   "id": "7958170a",
   "metadata": {},
   "outputs": [],
   "source": [
    "# Get Record Names\n",
    "def get_record_names(fp_raw_data_folder, remove_trailing=2):\n",
    "    fp_records_file = os.path.join(fp_raw_data_folder, \"RECORDS\")\n",
    "    if not os.path.exists(fp_records_file):\n",
    "        raise Exception(\"Records file does not exist!\") \n",
    "    else:\n",
    "        with open(fp_records_file, \"r\") as f:\n",
    "            records = f.readlines()\n",
    "            # remove trailing \\n and slash\n",
    "            records = [record[:-remove_trailing] for record in records]\n",
    "        return records\n",
    "    \n",
    "records = get_record_names(fp_raw_data_folder)\n",
    "print(len(records), \"Records:\", records)"
   ]
  },
  {
   "cell_type": "code",
   "execution_count": null,
   "id": "927e48f4",
   "metadata": {},
   "outputs": [],
   "source": [
    "def filter_record_names(records, remove_trailing=None, filter_limit=55):\n",
    "    # Only keep records after 055 (which contain alarms)\n",
    "    # \"al (annotations for alarms related to changes in the patient's status) and \n",
    "    # in (annotations related to changes in the functioning of the monitor) for all records after 055\"\n",
    "    if remove_trailing:\n",
    "        return [record for record in records if int(record[:-remove_trailing])>=filter_limit]\n",
    "    return [record for record in records if int(record)>=filter_limit]\n",
    "\n",
    "filtered_records = filter_record_names(records)\n",
    "print(len(filtered_records), \"Filtered Records:\", filtered_records)"
   ]
  },
  {
   "cell_type": "code",
   "execution_count": null,
   "id": "8f84a816",
   "metadata": {},
   "outputs": [],
   "source": [
    "# Get data in dataframe format for a single record's files\n",
    "def get_record_data(fp_raw_data_folder, record_name):\n",
    "    fp_record_folder = os.path.join(fp_raw_data_folder, record_name, record_name)\n",
    "    \n",
    "    # 1. Get signal data\n",
    "    signal, fields = wfdb.rdsamp(fp_record_folder)\n",
    "    # Check that signal length is the same as signal length in fields description\n",
    "    assert signal.shape[0] == fields[\"sig_len\"]\n",
    "    # Check that we have units for all features\n",
    "    colnames, colunits = fields['sig_name'], fields['units']\n",
    "    assert len(colnames) == len(colunits)\n",
    "    # Column names = feature (units)\n",
    "    num_cols = len(colnames) \n",
    "    new_colnames = [colnames[i]+\" (\"+colunits[i]+\")\" for i in range(num_cols)]\n",
    "    data_df = pd.DataFrame(signal, columns=new_colnames)\n",
    "    \n",
    "    # 2. Get annotations\n",
    "    def add_annotation(ann_type, data_df, name):\n",
    "        ann = wfdb.rdann(fp_record_folder, ann_type)\n",
    "        ann_df = pd.DataFrame({\"index\": ann.sample, name: ann.aux_note})\n",
    "        # Remove duplicate alarms\n",
    "        ann_df = ann_df.drop_duplicates()\n",
    "        fields[f\"unique_{name}\"] = str(ann_df[name].value_counts().to_dict())\n",
    "        # If multiple alarms occur at the same time\n",
    "        ann_df = ann_df.groupby('index').agg({name:'first'.join})\n",
    "        # Add annotation to existing data_df\n",
    "        data_df = data_df.join(ann_df, how='left')\n",
    "        return data_df\n",
    "    data_df = add_annotation(\"al\", data_df, \"alarms\")\n",
    "    data_df = add_annotation(\"abp\", data_df, \"abp\")\n",
    "    \n",
    "    return data_df, fields\n",
    "\n",
    "# Example of how a record data would appear\n",
    "testing = get_record_data(fp_raw_data_folder, '409')\n",
    "display(testing[0])\n",
    "print(testing[1])"
   ]
  },
  {
   "cell_type": "code",
   "execution_count": null,
   "id": "6d8a04cb",
   "metadata": {},
   "outputs": [],
   "source": [
    "# NA values exist in columns\n",
    "testing[0].isna().sum()"
   ]
  },
  {
   "cell_type": "code",
   "execution_count": null,
   "id": "fd943e40",
   "metadata": {},
   "outputs": [],
   "source": [
    "testing[0][testing[0][\"alarms\"].notna()].tail(50)"
   ]
  },
  {
   "cell_type": "code",
   "execution_count": null,
   "id": "c33a28c3",
   "metadata": {},
   "outputs": [],
   "source": [
    "fgap, bgap = 5, 5\n",
    "index =13905952\t\n",
    "testing[0].iloc[index-fgap:index+bgap]"
   ]
  },
  {
   "cell_type": "markdown",
   "id": "1910bca3",
   "metadata": {},
   "source": [
    "## Periodic Measurements \"Numerics\"    fields_list = []\n"
   ]
  },
  {
   "cell_type": "code",
   "execution_count": null,
   "id": "a5e82824",
   "metadata": {},
   "outputs": [],
   "source": [
    "records_numerics = get_record_names(os.path.join(fp_raw_data_folder, \"numerics\"), 1)\n",
    "print(len(records_numerics), \"Records:\", records_numerics)"
   ]
  },
  {
   "cell_type": "code",
   "execution_count": null,
   "id": "00b74c5a",
   "metadata": {},
   "outputs": [],
   "source": [
    "filtered_records_numerics = filter_record_names(records_numerics, 1, filter_limit=48)\n",
    "print(len(filtered_records_numerics), \"Filtered Records:\", filtered_records_numerics)"
   ]
  },
  {
   "cell_type": "code",
   "execution_count": null,
   "id": "fc67e4d9",
   "metadata": {},
   "outputs": [],
   "source": [
    "# Get data in dataframe format for a single record's files\n",
    "def get_record_data_numeric(fp_raw_data_folder, record_name):\n",
    "    fp_record_folder = os.path.join(fp_raw_data_folder, \"numerics\", record_name)\n",
    "    \n",
    "    # 1. Get signal data\n",
    "    signal, fields = wfdb.rdsamp(fp_record_folder)\n",
    "    # Check that signal length is the same as signal length in fields description\n",
    "    assert signal.shape[0] == fields[\"sig_len\"]\n",
    "    # Check that we have units for all features\n",
    "    colnames, colunits = fields['sig_name'], fields['units']\n",
    "    assert len(colnames) == len(colunits)\n",
    "    # Column names = feature (units)\n",
    "    num_cols = len(colnames) \n",
    "    new_colnames = [colnames[i]+\" (\"+colunits[i]+\")\" for i in range(num_cols)]\n",
    "    data_df = pd.DataFrame(signal, columns=new_colnames)\n",
    "    \n",
    "    # 2. Get annotations\n",
    "    def add_annotation(ann_type, data_df, name):\n",
    "        ann = wfdb.rdann(fp_record_folder, ann_type)\n",
    "        ann_df = pd.DataFrame({\"index\": ann.sample, name: ann.aux_note})\n",
    "        if len(ann_df)==0:\n",
    "            data_df[name] = np.nan\n",
    "            return data_df\n",
    "        ann_df[name] = ann_df[name].str.strip()\n",
    "        # Remove duplicate alarms\n",
    "        ann_df = ann_df.drop_duplicates()\n",
    "        fields[f\"unique_{name}\"] = str(ann_df[name].value_counts().to_dict())\n",
    "        # If multiple alarms occur at the same time\n",
    "        groups = ann_df.groupby('index')\n",
    "        indices, alarm_list = [], []\n",
    "        for index, alarms in groups[name]:\n",
    "            alarm_set = set(alarms[alarms.notna()])\n",
    "            alarm_list.append(alarm_set)\n",
    "            indices.append(index)\n",
    "        ann_df = pd.DataFrame({\"index\":indices, name:alarm_list}).set_index(\"index\")\n",
    "\n",
    "        # Add annotation to existing data_df\n",
    "        data_df = data_df.join(ann_df, how='left')\n",
    "        return data_df\n",
    "    data_df = add_annotation(\"al\", data_df, \"alarms\")\n",
    "    \n",
    "    return data_df, fields\n",
    "\n",
    "testing2 = get_record_data_numeric(fp_raw_data_folder, \"055n\")\n",
    "display(testing2[0])\n",
    "print(testing2[1])"
   ]
  },
  {
   "cell_type": "code",
   "execution_count": null,
   "id": "bfed47e4",
   "metadata": {},
   "outputs": [],
   "source": [
    "testing2[0][testing2[0][\"alarms\"].notna()]"
   ]
  },
  {
   "cell_type": "code",
   "execution_count": null,
   "id": "d485d0a7",
   "metadata": {},
   "outputs": [],
   "source": [
    "# NA values exist in columns\n",
    "testing2[0].isna().sum()"
   ]
  },
  {
   "cell_type": "markdown",
   "id": "72640b68",
   "metadata": {},
   "source": [
    "## Output Converted Record (Numerics)"
   ]
  },
  {
   "cell_type": "code",
   "execution_count": null,
   "id": "68b1228a",
   "metadata": {},
   "outputs": [],
   "source": [
    "def get_all_records(fp_raw_data_folder, fp_output, records):\n",
    "    import csv\n",
    "    if not os.path.exists(fp_output):\n",
    "        os.makedirs(fp_output)\n",
    "    fields_list = []\n",
    "    pbar = tqdm(records)\n",
    "    for record in pbar:\n",
    "        pbar.set_description(f\"Getting record data [{record}]...\")\n",
    "        # Output data_df\n",
    "        fp_output_file = os.path.join(fp_output, record+\".csv\")\n",
    "        if os.path.exists(fp_output_file):\n",
    "            continue\n",
    "        data_df, fields = get_record_data_numeric(fp_raw_data_folder, record)\n",
    "        pbar.set_description(f\"Outputing record data [{record}]...\")\n",
    "        data_df.to_csv(fp_output_file)\n",
    "        # Append fields data to be outputted\n",
    "        fields[\"record\"] = record\n",
    "        fields_list.append(fields)\n",
    "    fp_output_file = os.path.join(fp_output, \"fields.csv\")\n",
    "    fields_df = pd.DataFrame(fields_list)\n",
    "    fields_df.to_csv(fp_output_file, quoting=csv.QUOTE_NONE, escapechar='/')\n",
    "    print(\"All records converted to CSV!\")\n",
    "    \n",
    "get_all_records(fp_raw_data_folder=fp_raw_data_folder, fp_output=fp_converted_folder, records=filtered_records_numerics)"
   ]
  },
  {
   "cell_type": "code",
   "execution_count": null,
   "id": "9443ddd1",
   "metadata": {},
   "outputs": [],
   "source": [
    "def get_all_fields(fp_raw_data_folder, fp_output, records):\n",
    "    import csv\n",
    "    if not os.path.exists(fp_output):\n",
    "        os.makedirs(fp_output)\n",
    "    fields_list = []\n",
    "    pbar = tqdm(records)\n",
    "    for record in pbar:\n",
    "        pbar.set_description(f\"Getting field data [{record}]...\")\n",
    "        # Output data_df\n",
    "        fp_output_file = os.path.join(fp_output, record+\".csv\")\n",
    "        data_df, fields = get_record_data_numeric(fp_raw_data_folder, record)\n",
    "        pbar.set_description(f\"Outputing record data [{record}]...\")\n",
    "        fields[\"record\"] = record\n",
    "        fields_list.append(fields)\n",
    "    fp_output_file = os.path.join(fp_output, \"fields.csv\")\n",
    "    fields_df = pd.DataFrame(fields_list)\n",
    "    fields_df.to_csv(fp_output_file, quoting=csv.QUOTE_NONE, escapechar='/')\n",
    "    print(\"All records converted to CSV!\")\n",
    "get_all_fields(fp_raw_data_folder=fp_raw_data_folder, fp_output=fp_converted_folder, records=filtered_records_numerics)"
   ]
  },
  {
   "cell_type": "code",
   "execution_count": null,
   "id": "2c1663a2",
   "metadata": {},
   "outputs": [],
   "source": []
  }
 ],
 "metadata": {
  "kernelspec": {
   "display_name": "Python 3 (ipykernel)",
   "language": "python",
   "name": "python3"
  },
  "language_info": {
   "codemirror_mode": {
    "name": "ipython",
    "version": 3
   },
   "file_extension": ".py",
   "mimetype": "text/x-python",
   "name": "python",
   "nbconvert_exporter": "python",
   "pygments_lexer": "ipython3",
   "version": "3.10.12"
  },
  "toc-autonumbering": true
 },
 "nbformat": 4,
 "nbformat_minor": 5
}
