{
 "cells": [
  {
   "cell_type": "markdown",
   "id": "b7abd654",
   "metadata": {},
   "source": [
    "# Load Packages"
   ]
  },
  {
   "cell_type": "code",
   "execution_count": 2,
   "id": "daeed8b1",
   "metadata": {},
   "outputs": [
    {
     "name": "stdout",
     "output_type": "stream",
     "text": [
      "The autoreload extension is already loaded. To reload it, use:\n",
      "  %reload_ext autoreload\n"
     ]
    }
   ],
   "source": [
    "\n",
    "%load_ext autoreload\n",
    "%autoreload 2\n",
    "\n",
    "import sys\n",
    "from os.path import join\n",
    "from tqdm.auto import tqdm\n",
    "import joblib\n",
    "import torch\n",
    "sys.path.append(\"../../\")\n",
    "\n",
    "from src.file_manager.load_data import load_split_dict\n",
    "from src.file_processing.processing_predictions import load_prediction_df_dict, save_pi_df_dict\n",
    "from src.file_manager.save_load_scaler import load_scaler\n",
    "from src.pi_methods.knn import knn_prediction_interval\n",
    "from src.pi_methods.weighted import weighted_prediction_interval\n",
    "from src.pi_methods.cond_gaussian import cond_gauss_prediction_interval\n",
    "from src.pi_methods.gaussian_copula import gauss_copula_prediction_interval\n",
    "from src.pi_methods.conformal_prediction import conformal_prediction_interval\n",
    "from src.evaluation.investigate_re_pe_distribution import investigate_re_n_pe_for_all_seeds, investigate_re_n_pe\n",
    "from src.misc import create_folder\n",
    "from ue_pi_dicts import ue_dict\n",
    "# from seed_file import seed\n",
    "\n",
    "seed_list = [2023, 2024, 2025, 2026, 2027]\n",
    "data_label = \"mimic\"\n",
    "batch_size = 64\n",
    "\n",
    "# File paths\n",
    "fp_notebooks_folder = \"../\"\n",
    "fp_project_folder = join(fp_notebooks_folder, \"../\")\n",
    "fp_data_folder = join(fp_project_folder, \"../\", \"data\")\n",
    "fp_processed_folder = join(fp_project_folder, \"../\", \"processed_data\")\n",
    "fp_output_data_folder = join(fp_data_folder, data_label)\n",
    "fp_checkpoint_folder = join(fp_project_folder, \"checkpoints\")\n",
    "fp_project_checkpoints = join(fp_checkpoint_folder, data_label)\n",
    "fp_tuning = join(fp_project_checkpoints, \"tuning\")\n",
    "fp_models = join(fp_project_checkpoints, \"models\")\n",
    "fp_predictions = join(fp_project_checkpoints, \"predictions\")\n",
    "fp_pi_predictions = join(fp_project_checkpoints, \"pi_predictions\")\n",
    "\n",
    "# Seed filepaths\n",
    "fp_cur_model_folder = join(fp_models, str(seed))\n",
    "create_folder(fp_cur_model_folder)\n",
    "fp_cur_predictions_folder = join(fp_predictions, str(seed))\n",
    "create_folder(fp_cur_predictions_folder)\n",
    "fp_cur_pi_predictions_folder = join(fp_pi_predictions, str(seed))\n",
    "create_folder(fp_cur_pi_predictions_folder)\n",
    "\n",
    "pred_file_names =  [\"rue\", \"gpr\", \"infernoise\", \"der\", \"bnn\"]"
   ]
  },
  {
   "cell_type": "markdown",
   "id": "89d137dc",
   "metadata": {},
   "source": [
    "# Load Data"
   ]
  },
  {
   "cell_type": "code",
   "execution_count": 4,
   "id": "8a98cf4c",
   "metadata": {},
   "outputs": [],
   "source": [
    "split_dict = joblib.load(join(fp_processed_folder, \"mimic_split_dict.joblib\"))\n",
    "split_dict[\"target_cols\"] = {\n",
    "    time_label: time_info[\"outputs\"] for time_label, time_info in split_dict.items()\n",
    "}\n",
    "split_dict[\"feat_cols\"] = ['ABPdias (mmHg)_mean Min0', 'RESP (bpm)_mean Min0', 'ABPmean (mmHg)_mean Min0', 'ABPsys (mmHg)_mean Min0', 'SpO2 (%)_mean Min0', 'HR (bpm)_mean Min0', 'ABPdias (mmHg)_std Min0', 'RESP (bpm)_std Min0', 'ABPmean (mmHg)_std Min0', 'ABPsys (mmHg)_std Min0', 'SpO2 (%)_std Min0', 'HR (bpm)_std Min0', 'ABPdias (mmHg)_mean Min1', 'RESP (bpm)_mean Min1', 'ABPmean (mmHg)_mean Min1', 'ABPsys (mmHg)_mean Min1', 'SpO2 (%)_mean Min1', 'HR (bpm)_mean Min1', 'ABPdias (mmHg)_std Min1', 'RESP (bpm)_std Min1', 'ABPmean (mmHg)_std Min1', 'ABPsys (mmHg)_std Min1', 'SpO2 (%)_std Min1', 'HR (bpm)_std Min1', 'ABPdias (mmHg)_mean Min2', 'RESP (bpm)_mean Min2', 'ABPmean (mmHg)_mean Min2', 'ABPsys (mmHg)_mean Min2', 'SpO2 (%)_mean Min2', 'HR (bpm)_mean Min2', 'ABPdias (mmHg)_std Min2', 'RESP (bpm)_std Min2', 'ABPmean (mmHg)_std Min2', 'ABPsys (mmHg)_std Min2', 'SpO2 (%)_std Min2', 'HR (bpm)_std Min2', 'ABPdias (mmHg)_mean Min3', 'RESP (bpm)_mean Min3', 'ABPmean (mmHg)_mean Min3', 'ABPsys (mmHg)_mean Min3', 'SpO2 (%)_mean Min3', 'HR (bpm)_mean Min3', 'ABPdias (mmHg)_std Min3', 'RESP (bpm)_std Min3', 'ABPmean (mmHg)_std Min3', 'ABPsys (mmHg)_std Min3', 'SpO2 (%)_std Min3', 'HR (bpm)_std Min3', 'ABPdias (mmHg)_mean Min4', 'RESP (bpm)_mean Min4', 'ABPmean (mmHg)_mean Min4', 'ABPsys (mmHg)_mean Min4', 'SpO2 (%)_mean Min4', 'HR (bpm)_mean Min4', 'ABPdias (mmHg)_std Min4', 'RESP (bpm)_std Min4', 'ABPmean (mmHg)_std Min4', 'ABPsys (mmHg)_std Min4', 'SpO2 (%)_std Min4', 'HR (bpm)_std Min4']\n",
    "scaler = load_scaler(join(fp_processed_folder, \"downsampled\", \"scaler.pkl\"))"
   ]
  },
  {
   "cell_type": "markdown",
   "id": "0938ea57",
   "metadata": {},
   "source": [
    "# Investigate Recon-Pred Error Space"
   ]
  },
  {
   "cell_type": "code",
   "execution_count": 5,
   "id": "bc38d923",
   "metadata": {},
   "outputs": [
    {
     "data": {
      "application/vnd.jupyter.widget-view+json": {
       "model_id": "f280d3bb10bf4a79a84f308a74ec6631",
       "version_major": 2,
       "version_minor": 0
      },
      "text/plain": [
       "  0%|          | 0/5 [00:00<?, ?it/s]"
      ]
     },
     "metadata": {},
     "output_type": "display_data"
    },
    {
     "data": {
      "application/vnd.jupyter.widget-view+json": {
       "model_id": "ababd1d2af8a4b3c944c6f800f6cd2e9",
       "version_major": 2,
       "version_minor": 0
      },
      "text/plain": [
       "  0%|          | 0/3 [00:00<?, ?it/s]"
      ]
     },
     "metadata": {},
     "output_type": "display_data"
    },
    {
     "name": "stdout",
     "output_type": "stream",
     "text": [
      "Loaded df_dict!\n"
     ]
    },
    {
     "data": {
      "application/vnd.jupyter.widget-view+json": {
       "model_id": "09d6622194f64dc9b96b29efe655eaf5",
       "version_major": 2,
       "version_minor": 0
      },
      "text/plain": [
       "  0%|          | 0/3 [00:00<?, ?it/s]"
      ]
     },
     "metadata": {},
     "output_type": "display_data"
    },
    {
     "name": "stderr",
     "output_type": "stream",
     "text": [
      "/home/lirong/miniconda3/envs/main/lib/python3.10/site-packages/scipy/stats/_stats_py.py:9694: RuntimeWarning: divide by zero encountered in log\n",
      "  statistic = -2 * np.sum(np.log(pvalues))\n",
      "/home/lirong/miniconda3/envs/main/lib/python3.10/site-packages/scipy/stats/_stats_py.py:9694: RuntimeWarning: divide by zero encountered in log\n",
      "  statistic = -2 * np.sum(np.log(pvalues))\n",
      "/home/lirong/miniconda3/envs/main/lib/python3.10/site-packages/scipy/stats/_stats_py.py:9694: RuntimeWarning: divide by zero encountered in log\n",
      "  statistic = -2 * np.sum(np.log(pvalues))\n",
      "/home/lirong/miniconda3/envs/main/lib/python3.10/site-packages/scipy/stats/_stats_py.py:9694: RuntimeWarning: divide by zero encountered in log\n",
      "  statistic = -2 * np.sum(np.log(pvalues))\n",
      "/home/lirong/miniconda3/envs/main/lib/python3.10/site-packages/scipy/stats/_stats_py.py:9694: RuntimeWarning: divide by zero encountered in log\n",
      "  statistic = -2 * np.sum(np.log(pvalues))\n",
      "/home/lirong/miniconda3/envs/main/lib/python3.10/site-packages/scipy/stats/_stats_py.py:9694: RuntimeWarning: divide by zero encountered in log\n",
      "  statistic = -2 * np.sum(np.log(pvalues))\n"
     ]
    },
    {
     "data": {
      "application/vnd.jupyter.widget-view+json": {
       "model_id": "b5a5de6f05c647d78e83011a9f577c60",
       "version_major": 2,
       "version_minor": 0
      },
      "text/plain": [
       "  0%|          | 0/3 [00:00<?, ?it/s]"
      ]
     },
     "metadata": {},
     "output_type": "display_data"
    },
    {
     "name": "stdout",
     "output_type": "stream",
     "text": [
      "Loaded df_dict!\n"
     ]
    },
    {
     "data": {
      "application/vnd.jupyter.widget-view+json": {
       "model_id": "41112fc2cca345649a1aaefee21c348c",
       "version_major": 2,
       "version_minor": 0
      },
      "text/plain": [
       "  0%|          | 0/3 [00:00<?, ?it/s]"
      ]
     },
     "metadata": {},
     "output_type": "display_data"
    },
    {
     "name": "stderr",
     "output_type": "stream",
     "text": [
      "/home/lirong/miniconda3/envs/main/lib/python3.10/site-packages/scipy/stats/_stats_py.py:9694: RuntimeWarning: divide by zero encountered in log\n",
      "  statistic = -2 * np.sum(np.log(pvalues))\n",
      "/home/lirong/miniconda3/envs/main/lib/python3.10/site-packages/scipy/stats/_stats_py.py:9694: RuntimeWarning: divide by zero encountered in log\n",
      "  statistic = -2 * np.sum(np.log(pvalues))\n",
      "/home/lirong/miniconda3/envs/main/lib/python3.10/site-packages/scipy/stats/_stats_py.py:9694: RuntimeWarning: divide by zero encountered in log\n",
      "  statistic = -2 * np.sum(np.log(pvalues))\n",
      "/home/lirong/miniconda3/envs/main/lib/python3.10/site-packages/scipy/stats/_stats_py.py:9694: RuntimeWarning: divide by zero encountered in log\n",
      "  statistic = -2 * np.sum(np.log(pvalues))\n",
      "/home/lirong/miniconda3/envs/main/lib/python3.10/site-packages/scipy/stats/_stats_py.py:9694: RuntimeWarning: divide by zero encountered in log\n",
      "  statistic = -2 * np.sum(np.log(pvalues))\n",
      "/home/lirong/miniconda3/envs/main/lib/python3.10/site-packages/scipy/stats/_stats_py.py:9694: RuntimeWarning: divide by zero encountered in log\n",
      "  statistic = -2 * np.sum(np.log(pvalues))\n"
     ]
    },
    {
     "data": {
      "application/vnd.jupyter.widget-view+json": {
       "model_id": "1ffaa750a37848e2b7d98293d71c338a",
       "version_major": 2,
       "version_minor": 0
      },
      "text/plain": [
       "  0%|          | 0/3 [00:00<?, ?it/s]"
      ]
     },
     "metadata": {},
     "output_type": "display_data"
    },
    {
     "name": "stdout",
     "output_type": "stream",
     "text": [
      "Loaded df_dict!\n"
     ]
    },
    {
     "data": {
      "application/vnd.jupyter.widget-view+json": {
       "model_id": "5bc674807ebd49beb5cbf748457e26b9",
       "version_major": 2,
       "version_minor": 0
      },
      "text/plain": [
       "  0%|          | 0/3 [00:00<?, ?it/s]"
      ]
     },
     "metadata": {},
     "output_type": "display_data"
    },
    {
     "name": "stderr",
     "output_type": "stream",
     "text": [
      "/home/lirong/miniconda3/envs/main/lib/python3.10/site-packages/scipy/stats/_stats_py.py:9694: RuntimeWarning: divide by zero encountered in log\n",
      "  statistic = -2 * np.sum(np.log(pvalues))\n",
      "/home/lirong/miniconda3/envs/main/lib/python3.10/site-packages/scipy/stats/_stats_py.py:9694: RuntimeWarning: divide by zero encountered in log\n",
      "  statistic = -2 * np.sum(np.log(pvalues))\n",
      "/home/lirong/miniconda3/envs/main/lib/python3.10/site-packages/scipy/stats/_stats_py.py:9694: RuntimeWarning: divide by zero encountered in log\n",
      "  statistic = -2 * np.sum(np.log(pvalues))\n",
      "/home/lirong/miniconda3/envs/main/lib/python3.10/site-packages/scipy/stats/_stats_py.py:9694: RuntimeWarning: divide by zero encountered in log\n",
      "  statistic = -2 * np.sum(np.log(pvalues))\n",
      "/home/lirong/miniconda3/envs/main/lib/python3.10/site-packages/scipy/stats/_stats_py.py:9694: RuntimeWarning: divide by zero encountered in log\n",
      "  statistic = -2 * np.sum(np.log(pvalues))\n",
      "/home/lirong/miniconda3/envs/main/lib/python3.10/site-packages/scipy/stats/_stats_py.py:9694: RuntimeWarning: divide by zero encountered in log\n",
      "  statistic = -2 * np.sum(np.log(pvalues))\n"
     ]
    },
    {
     "data": {
      "application/vnd.jupyter.widget-view+json": {
       "model_id": "027c827ff03046abb136f3061d7583a0",
       "version_major": 2,
       "version_minor": 0
      },
      "text/plain": [
       "  0%|          | 0/3 [00:00<?, ?it/s]"
      ]
     },
     "metadata": {},
     "output_type": "display_data"
    },
    {
     "name": "stdout",
     "output_type": "stream",
     "text": [
      "Loaded df_dict!\n"
     ]
    },
    {
     "data": {
      "application/vnd.jupyter.widget-view+json": {
       "model_id": "b09c6c0fa8c4411da5c8b44595991ffb",
       "version_major": 2,
       "version_minor": 0
      },
      "text/plain": [
       "  0%|          | 0/3 [00:00<?, ?it/s]"
      ]
     },
     "metadata": {},
     "output_type": "display_data"
    },
    {
     "name": "stderr",
     "output_type": "stream",
     "text": [
      "/home/lirong/miniconda3/envs/main/lib/python3.10/site-packages/scipy/stats/_stats_py.py:9694: RuntimeWarning: divide by zero encountered in log\n",
      "  statistic = -2 * np.sum(np.log(pvalues))\n",
      "/home/lirong/miniconda3/envs/main/lib/python3.10/site-packages/scipy/stats/_stats_py.py:9694: RuntimeWarning: divide by zero encountered in log\n",
      "  statistic = -2 * np.sum(np.log(pvalues))\n",
      "/home/lirong/miniconda3/envs/main/lib/python3.10/site-packages/scipy/stats/_stats_py.py:9694: RuntimeWarning: divide by zero encountered in log\n",
      "  statistic = -2 * np.sum(np.log(pvalues))\n",
      "/home/lirong/miniconda3/envs/main/lib/python3.10/site-packages/scipy/stats/_stats_py.py:9694: RuntimeWarning: divide by zero encountered in log\n",
      "  statistic = -2 * np.sum(np.log(pvalues))\n",
      "/home/lirong/miniconda3/envs/main/lib/python3.10/site-packages/scipy/stats/_stats_py.py:9694: RuntimeWarning: divide by zero encountered in log\n",
      "  statistic = -2 * np.sum(np.log(pvalues))\n",
      "/home/lirong/miniconda3/envs/main/lib/python3.10/site-packages/scipy/stats/_stats_py.py:9694: RuntimeWarning: divide by zero encountered in log\n",
      "  statistic = -2 * np.sum(np.log(pvalues))\n"
     ]
    },
    {
     "data": {
      "application/vnd.jupyter.widget-view+json": {
       "model_id": "38d11fb28ae14c20a2faae36ffb02439",
       "version_major": 2,
       "version_minor": 0
      },
      "text/plain": [
       "  0%|          | 0/3 [00:00<?, ?it/s]"
      ]
     },
     "metadata": {},
     "output_type": "display_data"
    },
    {
     "name": "stdout",
     "output_type": "stream",
     "text": [
      "Loaded df_dict!\n"
     ]
    },
    {
     "data": {
      "application/vnd.jupyter.widget-view+json": {
       "model_id": "fa1b9790cbf8462aab604024728b96b6",
       "version_major": 2,
       "version_minor": 0
      },
      "text/plain": [
       "  0%|          | 0/3 [00:00<?, ?it/s]"
      ]
     },
     "metadata": {},
     "output_type": "display_data"
    },
    {
     "name": "stderr",
     "output_type": "stream",
     "text": [
      "/home/lirong/miniconda3/envs/main/lib/python3.10/site-packages/scipy/stats/_stats_py.py:9694: RuntimeWarning: divide by zero encountered in log\n",
      "  statistic = -2 * np.sum(np.log(pvalues))\n",
      "/home/lirong/miniconda3/envs/main/lib/python3.10/site-packages/scipy/stats/_stats_py.py:9694: RuntimeWarning: divide by zero encountered in log\n",
      "  statistic = -2 * np.sum(np.log(pvalues))\n",
      "/home/lirong/miniconda3/envs/main/lib/python3.10/site-packages/scipy/stats/_stats_py.py:9694: RuntimeWarning: divide by zero encountered in log\n",
      "  statistic = -2 * np.sum(np.log(pvalues))\n",
      "/home/lirong/miniconda3/envs/main/lib/python3.10/site-packages/scipy/stats/_stats_py.py:9694: RuntimeWarning: divide by zero encountered in log\n",
      "  statistic = -2 * np.sum(np.log(pvalues))\n",
      "/home/lirong/miniconda3/envs/main/lib/python3.10/site-packages/scipy/stats/_stats_py.py:9694: RuntimeWarning: divide by zero encountered in log\n",
      "  statistic = -2 * np.sum(np.log(pvalues))\n",
      "/home/lirong/miniconda3/envs/main/lib/python3.10/site-packages/scipy/stats/_stats_py.py:9694: RuntimeWarning: divide by zero encountered in log\n",
      "  statistic = -2 * np.sum(np.log(pvalues))\n"
     ]
    },
    {
     "data": {
      "text/html": [
       "<div>\n",
       "<style scoped>\n",
       "    .dataframe tbody tr th:only-of-type {\n",
       "        vertical-align: middle;\n",
       "    }\n",
       "\n",
       "    .dataframe tbody tr th {\n",
       "        vertical-align: top;\n",
       "    }\n",
       "\n",
       "    .dataframe thead th {\n",
       "        text-align: right;\n",
       "    }\n",
       "</style>\n",
       "<table border=\"1\" class=\"dataframe\">\n",
       "  <thead>\n",
       "    <tr style=\"text-align: right;\">\n",
       "      <th></th>\n",
       "      <th>dist\\ntest_df</th>\n",
       "      <th>dist\\nvalid_df</th>\n",
       "      <th>dist meaning\\ntest_df</th>\n",
       "      <th>dist meaning\\nvalid_df</th>\n",
       "      <th>marginal gauss\\ntest_df</th>\n",
       "      <th>marginal gauss\\nvalid_df</th>\n",
       "      <th>normality pval test_df</th>\n",
       "      <th>normality pval valid_df</th>\n",
       "      <th>normality stat test_df</th>\n",
       "      <th>normality stat valid_df</th>\n",
       "    </tr>\n",
       "  </thead>\n",
       "  <tbody>\n",
       "    <tr>\n",
       "      <th>t+1</th>\n",
       "      <td>0.71473 ± 0.053</td>\n",
       "      <td>0.84824 ± 0.064</td>\n",
       "      <td>0.23653 ± 0.009</td>\n",
       "      <td>0.17932 ± 0.004</td>\n",
       "      <td>0.0 ± 0.000</td>\n",
       "      <td>0.0 ± 0.000</td>\n",
       "      <td>0.0 ± 0.000</td>\n",
       "      <td>0.0 ± 0.000</td>\n",
       "      <td>4.58509 ± 0.809</td>\n",
       "      <td>1.92017 ± 0.282</td>\n",
       "    </tr>\n",
       "    <tr>\n",
       "      <th>t+2</th>\n",
       "      <td>1.30005 ± 0.033</td>\n",
       "      <td>1.71927 ± 0.106</td>\n",
       "      <td>0.20697 ± 0.005</td>\n",
       "      <td>0.12655 ± 0.004</td>\n",
       "      <td>0.0 ± 0.000</td>\n",
       "      <td>0.0 ± 0.000</td>\n",
       "      <td>0.0 ± 0.000</td>\n",
       "      <td>0.0 ± 0.000</td>\n",
       "      <td>14.30199 ± 2.292</td>\n",
       "      <td>3.30353 ± 0.459</td>\n",
       "    </tr>\n",
       "    <tr>\n",
       "      <th>t+3</th>\n",
       "      <td>0.73425 ± 0.019</td>\n",
       "      <td>0.88808 ± 0.058</td>\n",
       "      <td>0.19382 ± 0.004</td>\n",
       "      <td>0.10677 ± 0.008</td>\n",
       "      <td>0.0 ± 0.000</td>\n",
       "      <td>0.0 ± 0.000</td>\n",
       "      <td>0.0 ± 0.000</td>\n",
       "      <td>0.0 ± 0.000</td>\n",
       "      <td>4.22427 ± 0.390</td>\n",
       "      <td>1.89705 ± 0.282</td>\n",
       "    </tr>\n",
       "  </tbody>\n",
       "</table>\n",
       "</div>"
      ],
      "text/plain": [
       "       dist\\ntest_df   dist\\nvalid_df dist meaning\\ntest_df  \\\n",
       "t+1  0.71473 ± 0.053  0.84824 ± 0.064       0.23653 ± 0.009   \n",
       "t+2  1.30005 ± 0.033  1.71927 ± 0.106       0.20697 ± 0.005   \n",
       "t+3  0.73425 ± 0.019  0.88808 ± 0.058       0.19382 ± 0.004   \n",
       "\n",
       "    dist meaning\\nvalid_df marginal gauss\\ntest_df marginal gauss\\nvalid_df  \\\n",
       "t+1        0.17932 ± 0.004             0.0 ± 0.000              0.0 ± 0.000   \n",
       "t+2        0.12655 ± 0.004             0.0 ± 0.000              0.0 ± 0.000   \n",
       "t+3        0.10677 ± 0.008             0.0 ± 0.000              0.0 ± 0.000   \n",
       "\n",
       "    normality pval test_df normality pval valid_df normality stat test_df  \\\n",
       "t+1            0.0 ± 0.000             0.0 ± 0.000        4.58509 ± 0.809   \n",
       "t+2            0.0 ± 0.000             0.0 ± 0.000       14.30199 ± 2.292   \n",
       "t+3            0.0 ± 0.000             0.0 ± 0.000        4.22427 ± 0.390   \n",
       "\n",
       "    normality stat valid_df  \n",
       "t+1         1.92017 ± 0.282  \n",
       "t+2         3.30353 ± 0.459  \n",
       "t+3         1.89705 ± 0.282  "
      ]
     },
     "execution_count": 5,
     "metadata": {},
     "output_type": "execute_result"
    }
   ],
   "source": [
    "investigate_re_n_pe_for_all_seeds(\n",
    "    seed_list=seed_list, split_dict=split_dict, fp_pi_predictions=fp_pi_predictions)"
   ]
  }
 ],
 "metadata": {
  "kernelspec": {
   "display_name": "main",
   "language": "python",
   "name": "python3"
  },
  "language_info": {
   "codemirror_mode": {
    "name": "ipython",
    "version": 3
   },
   "file_extension": ".py",
   "mimetype": "text/x-python",
   "name": "python",
   "nbconvert_exporter": "python",
   "pygments_lexer": "ipython3",
   "version": "3.10.14"
  }
 },
 "nbformat": 4,
 "nbformat_minor": 5
}
