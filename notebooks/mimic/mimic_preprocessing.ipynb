{
 "cells": [
  {
   "cell_type": "markdown",
   "id": "e96b84de",
   "metadata": {},
   "source": [
    "# Data Preprocessing"
   ]
  },
  {
   "cell_type": "code",
   "execution_count": null,
   "id": "10211e41",
   "metadata": {
    "execution": {
     "iopub.execute_input": "2024-08-15T06:13:52.647868Z",
     "iopub.status.busy": "2024-08-15T06:13:52.647483Z",
     "iopub.status.idle": "2024-08-15T06:13:52.884117Z",
     "shell.execute_reply": "2024-08-15T06:13:52.883386Z",
     "shell.execute_reply.started": "2024-08-15T06:13:52.647836Z"
    }
   },
   "outputs": [],
   "source": [
    "# Important libraries\n",
    "import os\n",
    "import numpy as np\n",
    "import pandas as pd\n",
    "from tqdm import tqdm\n",
    "import csv\n",
    "from wordcloud import WordCloud\n",
    "from wordcloud import STOPWORDS\n",
    "import matplotlib.pyplot as plt\n",
    "\n",
    "# File paths\n",
    "fp_notebooks_folder = \"./\"\n",
    "fp_code_folder = \"../\"\n",
    "fp_processed_folder = os.path.join(fp_code_folder, \"../processed_data\")\n",
    "fp_converted_folder = os.path.join(fp_processed_folder, \"converted_to_csv\")\n",
    "fp_downsampled_folder = os.path.join(fp_processed_folder, \"downsampled\")\n",
    "fp_downsampled_concatenated_file = os.path.join(fp_downsampled_folder, \"concatenated.csv\")\n",
    "fp_downsampled_continuous_file = os.path.join(fp_downsampled_folder, \"continous.csv\")\n",
    "fp_downsampled_continuous_ae_file = os.path.join(fp_downsampled_folder, \"continous_ae.csv\")\n",
    "fp_downsampled_dropna_file = os.path.join(fp_downsampled_folder, \"dropna.csv\")\n",
    "fp_downsampled_scaler_file = os.path.join(fp_downsampled_folder, \"scaler.pkl\")\n",
    "fp_fields_file = os.path.join(fp_converted_folder, \"fields.csv\")"
   ]
  },
  {
   "cell_type": "code",
   "execution_count": null,
   "id": "ffd851e3",
   "metadata": {
    "execution": {
     "iopub.execute_input": "2024-08-15T06:13:53.117923Z",
     "iopub.status.busy": "2024-08-15T06:13:53.117685Z",
     "iopub.status.idle": "2024-08-15T06:13:53.133485Z",
     "shell.execute_reply": "2024-08-15T06:13:53.132915Z",
     "shell.execute_reply.started": "2024-08-15T06:13:53.117910Z"
    }
   },
   "outputs": [],
   "source": [
    "# Get fields file to analyse\n",
    "fields_df = pd.read_csv(fp_fields_file, quoting=csv.QUOTE_NONE, escapechar='/', index_col=0)\n",
    "fields_df"
   ]
  },
  {
   "cell_type": "code",
   "execution_count": null,
   "id": "1f66ef4f",
   "metadata": {
    "execution": {
     "iopub.execute_input": "2024-08-15T06:13:53.745170Z",
     "iopub.status.busy": "2024-08-15T06:13:53.744961Z",
     "iopub.status.idle": "2024-08-15T06:13:53.780966Z",
     "shell.execute_reply": "2024-08-15T06:13:53.780438Z",
     "shell.execute_reply.started": "2024-08-15T06:13:53.745150Z"
    }
   },
   "outputs": [],
   "source": [
    "def add_feat_names(fields_df):\n",
    "    feat_names = []\n",
    "    for i in range(len(fields_df)):\n",
    "        row = fields_df.iloc[i]\n",
    "        units_list, sig_list = eval(row[\"units\"]), eval(row[\"sig_name\"])\n",
    "        cur_feat_names = {sig_list[j] + \" (\" + units_list[j] + \")\" for j in range(len(units_list))}\n",
    "        feat_names.append(cur_feat_names)\n",
    "    return feat_names\n",
    "\n",
    "fields_df[\"feat_cols\"] = add_feat_names(fields_df)\n",
    "fields_df"
   ]
  },
  {
   "cell_type": "markdown",
   "id": "070970ac",
   "metadata": {},
   "source": [
    "## Select Feature Set"
   ]
  },
  {
   "cell_type": "code",
   "execution_count": null,
   "id": "229fd368",
   "metadata": {
    "execution": {
     "iopub.execute_input": "2024-08-15T06:13:54.239923Z",
     "iopub.status.busy": "2024-08-15T06:13:54.239628Z",
     "iopub.status.idle": "2024-08-15T06:13:54.580454Z",
     "shell.execute_reply": "2024-08-15T06:13:54.579915Z",
     "shell.execute_reply.started": "2024-08-15T06:13:54.239895Z"
    }
   },
   "outputs": [],
   "source": [
    "# Check what are the most common subset of features\n",
    "def most_comment_subset_of_features(fields_df):\n",
    "    feat_set_series = fields_df[\"feat_cols\"]\n",
    "    feat_set_counts = feat_set_series.value_counts().reset_index()\n",
    "    feat_set_counts.columns = [\"feat_set\", \"count\"]\n",
    "    feat_set_counts[\"num_features\"] = [len(feat_set) for feat_set in feat_set_counts[\"feat_set\"]]\n",
    "    feat_set_counts = feat_set_counts.sort_values(\"num_features\", ascending=True)\n",
    "    num_unique_feat_sets = len(feat_set_counts)\n",
    "    \n",
    "    feat_set_inc_list = []\n",
    "    for i in range(num_unique_feat_sets):\n",
    "        total_count = 0\n",
    "        potential_subset = feat_set_counts[\"feat_set\"].iloc[i]\n",
    "        for j in range(i,num_unique_feat_sets):\n",
    "            potential_superset, count = feat_set_counts[[\"feat_set\",\"count\"]].iloc[j].values\n",
    "            if potential_subset.issubset(potential_superset):\n",
    "                total_count += count\n",
    "        feat_set_inc_list.append({\"feat_set\": potential_subset, \"inc_count\": total_count})\n",
    "    \n",
    "    feat_set_inc_df = pd.DataFrame(feat_set_inc_list)\n",
    "    \n",
    "    return feat_set_counts, feat_set_inc_df.sort_values(\"inc_count\", ascending=False)\n",
    "feat_set_stats = most_comment_subset_of_features(fields_df)\n",
    "display(feat_set_stats[0])\n",
    "display(feat_set_stats[1])"
   ]
  },
  {
   "cell_type": "code",
   "execution_count": null,
   "id": "7e116bb0",
   "metadata": {
    "execution": {
     "iopub.execute_input": "2024-08-15T06:13:54.581360Z",
     "iopub.status.busy": "2024-08-15T06:13:54.581241Z",
     "iopub.status.idle": "2024-08-15T06:13:54.585205Z",
     "shell.execute_reply": "2024-08-15T06:13:54.584620Z",
     "shell.execute_reply.started": "2024-08-15T06:13:54.581348Z"
    }
   },
   "outputs": [],
   "source": [
    "feat_set = feat_set_stats[1].iloc[2][0]\n",
    "print(feat_set)\n",
    "# Check above count\n",
    "def check_feat_set_count(fields_df, cur_feat_set):\n",
    "    feat_set_series = fields_df[\"feat_cols\"]\n",
    "    count = 0\n",
    "    for fs in feat_set_series:\n",
    "        if cur_feat_set.issubset(fs):\n",
    "            count += 1\n",
    "    return count\n",
    "print(check_feat_set_count(fields_df, cur_feat_set=feat_set))"
   ]
  },
  {
   "cell_type": "code",
   "execution_count": null,
   "id": "169f4d55",
   "metadata": {
    "execution": {
     "iopub.execute_input": "2024-08-15T06:13:54.585788Z",
     "iopub.status.busy": "2024-08-15T06:13:54.585661Z",
     "iopub.status.idle": "2024-08-15T06:13:54.589836Z",
     "shell.execute_reply": "2024-08-15T06:13:54.589220Z",
     "shell.execute_reply.started": "2024-08-15T06:13:54.585777Z"
    }
   },
   "outputs": [],
   "source": [
    "# Shortlist patients with feat_set\n",
    "def shortlist_patients_with_feat_set(fields_df, cur_feat_set):\n",
    "    feat_set_series = fields_df[\"feat_cols\"]\n",
    "    records = []\n",
    "    for i, fs in enumerate(feat_set_series):\n",
    "        if cur_feat_set.issubset(fs):\n",
    "            records.append(fields_df[\"record\"].iloc[i])\n",
    "    return records\n",
    "shortlisted_records = shortlist_patients_with_feat_set(fields_df, cur_feat_set=feat_set)\n",
    "print(len(shortlisted_records), \"Records:\", shortlisted_records)"
   ]
  },
  {
   "cell_type": "code",
   "execution_count": null,
   "id": "e81d7973",
   "metadata": {
    "execution": {
     "iopub.execute_input": "2024-08-15T06:13:54.687479Z",
     "iopub.status.busy": "2024-08-15T06:13:54.687166Z",
     "iopub.status.idle": "2024-08-15T06:13:54.705333Z",
     "shell.execute_reply": "2024-08-15T06:13:54.704826Z",
     "shell.execute_reply.started": "2024-08-15T06:13:54.687451Z"
    }
   },
   "outputs": [],
   "source": [
    "fields_df_shortlisted = fields_df[fields_df[\"record\"].isin(shortlisted_records)]\n",
    "fields_df_shortlisted"
   ]
  },
  {
   "cell_type": "code",
   "execution_count": null,
   "id": "4611fffc",
   "metadata": {
    "execution": {
     "iopub.execute_input": "2024-08-15T06:13:54.837762Z",
     "iopub.status.busy": "2024-08-15T06:13:54.837484Z",
     "iopub.status.idle": "2024-08-15T06:13:54.848086Z",
     "shell.execute_reply": "2024-08-15T06:13:54.847426Z",
     "shell.execute_reply.started": "2024-08-15T06:13:54.837734Z"
    }
   },
   "outputs": [],
   "source": [
    "fields_df_shortlisted.head()"
   ]
  },
  {
   "cell_type": "markdown",
   "id": "aa8f8771",
   "metadata": {},
   "source": [
    "## Split Records into Train, Valid, Test Records"
   ]
  },
  {
   "cell_type": "code",
   "execution_count": null,
   "id": "d236621d",
   "metadata": {
    "execution": {
     "iopub.execute_input": "2024-08-15T06:13:55.131388Z",
     "iopub.status.busy": "2024-08-15T06:13:55.131064Z",
     "iopub.status.idle": "2024-08-15T06:13:55.137935Z",
     "shell.execute_reply": "2024-08-15T06:13:55.137180Z",
     "shell.execute_reply.started": "2024-08-15T06:13:55.131354Z"
    }
   },
   "outputs": [],
   "source": [
    "# split records by train, valid, test\n",
    "def recordwise_train_valid_test_split(df, valid_prop, test_prop, seed):\n",
    "    records = df[\"record\"].unique()\n",
    "    num_records = len(records)\n",
    "    record_indices = np.arange(num_records)\n",
    "    np.random.seed(seed=seed)\n",
    "    np.random.shuffle(record_indices)\n",
    "    shuffled_records = records[record_indices]\n",
    "    num_valid, num_test = round(valid_prop * num_records), round(test_prop * num_records)\n",
    "    num_train = num_records - num_valid - num_test\n",
    "    train_records, valid_records, test_records = (\n",
    "        shuffled_records[:num_train], shuffled_records[num_train: num_train+num_valid],\n",
    "        shuffled_records[num_train+num_valid:num_train+num_valid+num_test],\n",
    "    )\n",
    "    return train_records, valid_records, test_records\n",
    "\n",
    "train_records, valid_records, test_records = recordwise_train_valid_test_split(\n",
    "    fields_df_shortlisted, valid_prop=0.1, test_prop=0.2, seed=2023)"
   ]
  },
  {
   "cell_type": "code",
   "execution_count": null,
   "id": "bfccdfc1",
   "metadata": {
    "execution": {
     "iopub.execute_input": "2024-08-15T06:13:55.283279Z",
     "iopub.status.busy": "2024-08-15T06:13:55.282994Z",
     "iopub.status.idle": "2024-08-15T06:13:55.288265Z",
     "shell.execute_reply": "2024-08-15T06:13:55.287531Z",
     "shell.execute_reply.started": "2024-08-15T06:13:55.283251Z"
    }
   },
   "outputs": [],
   "source": [
    "print(len(train_records), \"Train Records:\", train_records)\n",
    "print(len(valid_records), \"Valid Records:\", valid_records)\n",
    "print(len(test_records), \"Test Records:\", test_records)"
   ]
  },
  {
   "cell_type": "code",
   "execution_count": null,
   "id": "d67dae67",
   "metadata": {
    "execution": {
     "iopub.execute_input": "2024-08-15T06:13:55.441570Z",
     "iopub.status.busy": "2024-08-15T06:13:55.441429Z",
     "iopub.status.idle": "2024-08-15T06:13:55.452248Z",
     "shell.execute_reply": "2024-08-15T06:13:55.451875Z",
     "shell.execute_reply.started": "2024-08-15T06:13:55.441557Z"
    }
   },
   "outputs": [],
   "source": [
    "fields_df_shortlisted.head()"
   ]
  },
  {
   "cell_type": "markdown",
   "id": "7625d223",
   "metadata": {},
   "source": [
    "## Load Data"
   ]
  },
  {
   "cell_type": "code",
   "execution_count": null,
   "id": "51369c00",
   "metadata": {
    "execution": {
     "iopub.execute_input": "2024-08-15T06:13:55.734248Z",
     "iopub.status.busy": "2024-08-15T06:13:55.733958Z",
     "iopub.status.idle": "2024-08-15T06:13:59.031522Z",
     "shell.execute_reply": "2024-08-15T06:13:59.030778Z",
     "shell.execute_reply.started": "2024-08-15T06:13:55.734221Z"
    }
   },
   "outputs": [],
   "source": [
    "def load_data(fields_df_shortlisted, feat_set):\n",
    "    df_list = []\n",
    "    records = fields_df_shortlisted[\"record\"].tolist()\n",
    "    for record in tqdm(records):\n",
    "        fp_csv = os.path.join(fp_converted_folder, record+\".csv\")\n",
    "        df = pd.read_csv(fp_csv, index_col=0)[list(feat_set)]\n",
    "        df[\"record\"] = record\n",
    "        df_list.append(df)\n",
    "    all_df = pd.concat(df_list).reset_index()\n",
    "    all_df.columns = [\"record_index\"] + all_df.columns[1:].to_list()\n",
    "    return all_df\n",
    "all_df = load_data(fields_df_shortlisted, feat_set)\n",
    "all_df.head()"
   ]
  },
  {
   "cell_type": "code",
   "execution_count": null,
   "id": "23962903",
   "metadata": {
    "execution": {
     "iopub.execute_input": "2024-08-15T06:13:59.032570Z",
     "iopub.status.busy": "2024-08-15T06:13:59.032446Z",
     "iopub.status.idle": "2024-08-15T06:14:29.198054Z",
     "shell.execute_reply": "2024-08-15T06:14:29.197406Z",
     "shell.execute_reply.started": "2024-08-15T06:13:59.032558Z"
    }
   },
   "outputs": [],
   "source": [
    "def plot_columns(df):\n",
    "    import seaborn as sns\n",
    "    df = df.copy()\n",
    "    df = df.drop(\"record_index\", axis=1)\n",
    "    df = df.drop(\"record\", axis=1)\n",
    "    df = df.dropna()\n",
    "    print(df.columns)\n",
    "    num_rows = 2\n",
    "    num_cols = 3\n",
    "\n",
    "    # Create subplots\n",
    "    fig, axes = plt.subplots(num_rows, num_cols, figsize=(12, 6), dpi=300)\n",
    "\n",
    "    # Flatten the axes array for easier iteration\n",
    "    axes = axes.flatten()\n",
    "\n",
    "    # Loop through each column and create a violin plot\n",
    "    for i, column in enumerate(df.columns):\n",
    "        ax = axes[i]\n",
    "        sns.boxplot(data=df, y=column, ax=ax)\n",
    "        ax.set_title(column)\n",
    "#         ax.set_xlabel(column)\n",
    "        ax.set_ylabel('Value')\n",
    "\n",
    "    # Hide any remaining empty subplots\n",
    "    for i in range(len(df.columns), num_rows * num_cols):\n",
    "        axes[i].axis('off')\n",
    "\n",
    "    plt.tight_layout()  # Ensures proper spacing between subplots\n",
    "    plt.show()\n",
    "    \n",
    "plot_columns(all_df)"
   ]
  },
  {
   "cell_type": "code",
   "execution_count": null,
   "id": "2ea42300",
   "metadata": {
    "execution": {
     "iopub.execute_input": "2024-08-15T06:14:52.825659Z",
     "iopub.status.busy": "2024-08-15T06:14:52.825447Z",
     "iopub.status.idle": "2024-08-15T06:15:04.602577Z",
     "shell.execute_reply": "2024-08-15T06:15:04.601780Z",
     "shell.execute_reply.started": "2024-08-15T06:14:52.825646Z"
    }
   },
   "outputs": [],
   "source": [
    "all_df.to_csv(fp_downsampled_concatenated_file, index=False)"
   ]
  },
  {
   "cell_type": "code",
   "execution_count": null,
   "id": "d293dba0",
   "metadata": {
    "execution": {
     "iopub.execute_input": "2024-08-15T06:15:17.788619Z",
     "iopub.status.busy": "2024-08-15T06:15:17.788295Z",
     "iopub.status.idle": "2024-08-15T06:15:19.272188Z",
     "shell.execute_reply": "2024-08-15T06:15:19.271349Z",
     "shell.execute_reply.started": "2024-08-15T06:15:17.788606Z"
    }
   },
   "outputs": [],
   "source": [
    "all_df = pd.read_csv(fp_downsampled_concatenated_file)"
   ]
  },
  {
   "cell_type": "code",
   "execution_count": null,
   "id": "7f155dac",
   "metadata": {
    "execution": {
     "iopub.execute_input": "2024-08-15T06:15:19.273318Z",
     "iopub.status.busy": "2024-08-15T06:15:19.273171Z",
     "iopub.status.idle": "2024-08-15T06:15:20.221899Z",
     "shell.execute_reply": "2024-08-15T06:15:20.221170Z",
     "shell.execute_reply.started": "2024-08-15T06:15:19.273305Z"
    }
   },
   "outputs": [],
   "source": [
    "all_df.describe()"
   ]
  },
  {
   "cell_type": "markdown",
   "id": "3fe00f14",
   "metadata": {},
   "source": [
    "## Set outlier values to NA"
   ]
  },
  {
   "cell_type": "code",
   "execution_count": null,
   "id": "a1ff7335",
   "metadata": {
    "execution": {
     "iopub.execute_input": "2024-08-15T06:15:20.222596Z",
     "iopub.status.busy": "2024-08-15T06:15:20.222477Z",
     "iopub.status.idle": "2024-08-15T06:15:20.423776Z",
     "shell.execute_reply": "2024-08-15T06:15:20.423022Z",
     "shell.execute_reply.started": "2024-08-15T06:15:20.222583Z"
    }
   },
   "outputs": [],
   "source": [
    "all_df.isna().sum()"
   ]
  },
  {
   "cell_type": "markdown",
   "id": "6d24d223",
   "metadata": {},
   "source": [
    "- Drop anything that is 0 – basically means machine disconnected, for any feature in the dataset\n",
    "- Drop BP > 250 – this is highly unlikely (he told me he will check for us to see if some other threshold is better, but 250 is very safe.)"
   ]
  },
  {
   "cell_type": "code",
   "execution_count": null,
   "id": "5e012ff3",
   "metadata": {
    "execution": {
     "iopub.execute_input": "2024-08-15T06:15:20.425066Z",
     "iopub.status.busy": "2024-08-15T06:15:20.424928Z",
     "iopub.status.idle": "2024-08-15T06:15:20.428883Z",
     "shell.execute_reply": "2024-08-15T06:15:20.428295Z",
     "shell.execute_reply.started": "2024-08-15T06:15:20.425053Z"
    }
   },
   "outputs": [],
   "source": [
    "list(feat_set)"
   ]
  },
  {
   "cell_type": "code",
   "execution_count": null,
   "id": "570edb7c",
   "metadata": {
    "execution": {
     "iopub.execute_input": "2024-08-15T06:15:20.429870Z",
     "iopub.status.busy": "2024-08-15T06:15:20.429750Z",
     "iopub.status.idle": "2024-08-15T06:15:23.623740Z",
     "shell.execute_reply": "2024-08-15T06:15:23.622918Z",
     "shell.execute_reply.started": "2024-08-15T06:15:20.429858Z"
    }
   },
   "outputs": [],
   "source": [
    "def set_outliers_to_na(df, predictors):\n",
    "    df = df.copy()\n",
    "    # 1. Drop anything that is 0 – basically means machine disconnected, for any feature in the dataset\n",
    "    df[df[predictors]<=0] = np.nan\n",
    "    \n",
    "    # 2. Drop BP > 250 – this is highly unlikely\n",
    "    bp_cols = [\"ABPmean (mmHg)\", 'ABPdias (mmHg)', 'ABPsys (mmHg)']\n",
    "    df[df[bp_cols]>250] = np.nan \n",
    "    return df\n",
    "    \n",
    "all_df = set_outliers_to_na(all_df, predictors=list(feat_set))"
   ]
  },
  {
   "cell_type": "code",
   "execution_count": null,
   "id": "b711f06b",
   "metadata": {
    "execution": {
     "iopub.execute_input": "2024-08-15T06:15:23.624660Z",
     "iopub.status.busy": "2024-08-15T06:15:23.624534Z",
     "iopub.status.idle": "2024-08-15T06:15:23.632987Z",
     "shell.execute_reply": "2024-08-15T06:15:23.632477Z",
     "shell.execute_reply.started": "2024-08-15T06:15:23.624648Z"
    }
   },
   "outputs": [],
   "source": [
    "all_df"
   ]
  },
  {
   "cell_type": "code",
   "execution_count": null,
   "id": "ba8bdca3",
   "metadata": {
    "execution": {
     "iopub.execute_input": "2024-08-15T06:15:23.633539Z",
     "iopub.status.busy": "2024-08-15T06:15:23.633426Z",
     "iopub.status.idle": "2024-08-15T06:15:24.502590Z",
     "shell.execute_reply": "2024-08-15T06:15:24.501849Z",
     "shell.execute_reply.started": "2024-08-15T06:15:23.633528Z"
    }
   },
   "outputs": [],
   "source": [
    "all_df.describe()"
   ]
  },
  {
   "cell_type": "code",
   "execution_count": null,
   "id": "5335bc91",
   "metadata": {
    "execution": {
     "iopub.execute_input": "2024-08-15T06:15:24.503393Z",
     "iopub.status.busy": "2024-08-15T06:15:24.503263Z",
     "iopub.status.idle": "2024-08-15T06:15:40.163127Z",
     "shell.execute_reply": "2024-08-15T06:15:40.162376Z",
     "shell.execute_reply.started": "2024-08-15T06:15:24.503381Z"
    }
   },
   "outputs": [],
   "source": [
    "plot_columns(all_df)"
   ]
  },
  {
   "cell_type": "markdown",
   "id": "014036af",
   "metadata": {},
   "source": [
    "## Standardise Data"
   ]
  },
  {
   "cell_type": "code",
   "execution_count": null,
   "id": "f7c77caf",
   "metadata": {
    "execution": {
     "iopub.execute_input": "2024-08-15T06:15:40.164073Z",
     "iopub.status.busy": "2024-08-15T06:15:40.163946Z",
     "iopub.status.idle": "2024-08-15T06:15:41.249753Z",
     "shell.execute_reply": "2024-08-15T06:15:41.248791Z",
     "shell.execute_reply.started": "2024-08-15T06:15:40.164060Z"
    }
   },
   "outputs": [],
   "source": [
    "def standardise_data(df, train_records, valid_records, test_records, predictors):\n",
    "    from sklearn.preprocessing import StandardScaler\n",
    "    df_train, df_valid, df_test = (\n",
    "        df[df[\"record\"].isin(train_records)], df[df[\"record\"].isin(valid_records)],\n",
    "        df[df[\"record\"].isin(test_records)]\n",
    "    )\n",
    "    scaler = StandardScaler()\n",
    "    scaler.fit(df_train[predictors])\n",
    "    df_train[predictors] = scaler.transform(df_train[predictors])\n",
    "    df_valid[predictors] = scaler.transform(df_valid[predictors])\n",
    "    df_test[predictors] = scaler.transform(df_test[predictors])\n",
    "    \n",
    "    return pd.concat([df_train, df_valid, df_test]), scaler\n",
    "\n",
    "all_df, scaler = standardise_data(all_df, train_records, valid_records, test_records, list(feat_set))\n",
    "all_df.head()"
   ]
  },
  {
   "cell_type": "code",
   "execution_count": null,
   "id": "1bc2eb0e",
   "metadata": {
    "execution": {
     "iopub.execute_input": "2024-08-15T06:15:41.251626Z",
     "iopub.status.busy": "2024-08-15T06:15:41.251431Z",
     "iopub.status.idle": "2024-08-15T06:15:41.255325Z",
     "shell.execute_reply": "2024-08-15T06:15:41.254776Z",
     "shell.execute_reply.started": "2024-08-15T06:15:41.251609Z"
    }
   },
   "outputs": [],
   "source": [
    "all_df.shape"
   ]
  },
  {
   "cell_type": "code",
   "execution_count": null,
   "id": "5e3a07d5",
   "metadata": {
    "execution": {
     "iopub.execute_input": "2024-08-15T06:15:41.255879Z",
     "iopub.status.busy": "2024-08-15T06:15:41.255764Z",
     "iopub.status.idle": "2024-08-15T06:15:41.258871Z",
     "shell.execute_reply": "2024-08-15T06:15:41.258338Z",
     "shell.execute_reply.started": "2024-08-15T06:15:41.255868Z"
    }
   },
   "outputs": [],
   "source": [
    "def save_scaler(scaler, fp_downsampled_scaler_file):\n",
    "    import pickle \n",
    "    with open(fp_downsampled_scaler_file, 'wb') as handle:\n",
    "        pickle.dump(scaler, handle, protocol=pickle.HIGHEST_PROTOCOL)\n",
    "save_scaler(scaler, fp_downsampled_scaler_file)"
   ]
  },
  {
   "cell_type": "code",
   "execution_count": null,
   "id": "72b34040",
   "metadata": {
    "execution": {
     "iopub.execute_input": "2024-08-15T06:15:41.259319Z",
     "iopub.status.busy": "2024-08-15T06:15:41.259207Z",
     "iopub.status.idle": "2024-08-15T06:15:41.543900Z",
     "shell.execute_reply": "2024-08-15T06:15:41.543307Z",
     "shell.execute_reply.started": "2024-08-15T06:15:41.259301Z"
    }
   },
   "outputs": [],
   "source": [
    "all_df[all_df[\"record\"]=='052n'].shape[0]/60"
   ]
  },
  {
   "cell_type": "code",
   "execution_count": null,
   "id": "48cffca4",
   "metadata": {
    "execution": {
     "iopub.execute_input": "2024-08-15T06:15:41.544674Z",
     "iopub.status.busy": "2024-08-15T06:15:41.544553Z",
     "iopub.status.idle": "2024-08-15T06:15:41.687887Z",
     "shell.execute_reply": "2024-08-15T06:15:41.687131Z",
     "shell.execute_reply.started": "2024-08-15T06:15:41.544662Z"
    }
   },
   "outputs": [],
   "source": [
    "all_df[\"record\"].unique()"
   ]
  },
  {
   "cell_type": "markdown",
   "id": "ae0ec996",
   "metadata": {},
   "source": [
    "## Downsample Time Series Data"
   ]
  },
  {
   "cell_type": "code",
   "execution_count": null,
   "id": "183ad607",
   "metadata": {
    "execution": {
     "iopub.execute_input": "2024-08-15T06:15:41.688660Z",
     "iopub.status.busy": "2024-08-15T06:15:41.688523Z",
     "iopub.status.idle": "2024-08-15T06:15:42.750246Z",
     "shell.execute_reply": "2024-08-15T06:15:42.749518Z",
     "shell.execute_reply.started": "2024-08-15T06:15:41.688648Z"
    }
   },
   "outputs": [],
   "source": [
    "def downsample_all_df(all_df, feat_set, window=60):\n",
    "    all_downsampled_df_list = []\n",
    "    feat_set = list(feat_set)\n",
    "    for record, record_df in all_df.groupby(\"record\"):\n",
    "        window_groups = record_df.groupby((record_df.index//window).astype('i'))\n",
    "        # Downsample with mean\n",
    "        downsampled_df = window_groups[feat_set].mean()\n",
    "        downsampled_df.columns = [col + \"_mean\" for col in feat_set]\n",
    "        # Downsample with std\n",
    "        std_cols = [col + \"_std\" for col in feat_set]\n",
    "        downsampled_df[std_cols] = window_groups[feat_set].std()\n",
    "        downsampled_df[\"record\"] = record\n",
    "        # Get record df index\n",
    "        downsampled_df = downsampled_df.reset_index(drop=True)\n",
    "        downsampled_df[\"record_index\"] = downsampled_df.index\n",
    "        all_downsampled_df_list.append(downsampled_df)\n",
    "    all_downsampled_df = pd.concat(all_downsampled_df_list)\n",
    "    return all_downsampled_df\n",
    "downsampled_df = downsample_all_df(all_df, feat_set, window=60)\n",
    "downsampled_df.head(10)"
   ]
  },
  {
   "cell_type": "code",
   "execution_count": null,
   "id": "86aec081",
   "metadata": {
    "execution": {
     "iopub.execute_input": "2024-08-15T06:15:42.750954Z",
     "iopub.status.busy": "2024-08-15T06:15:42.750834Z",
     "iopub.status.idle": "2024-08-15T06:15:42.754463Z",
     "shell.execute_reply": "2024-08-15T06:15:42.753955Z",
     "shell.execute_reply.started": "2024-08-15T06:15:42.750942Z"
    }
   },
   "outputs": [],
   "source": [
    "downsampled_df.shape"
   ]
  },
  {
   "cell_type": "code",
   "execution_count": null,
   "id": "a20e0097",
   "metadata": {
    "execution": {
     "iopub.execute_input": "2024-08-15T06:15:42.754993Z",
     "iopub.status.busy": "2024-08-15T06:15:42.754886Z",
     "iopub.status.idle": "2024-08-15T06:15:42.768706Z",
     "shell.execute_reply": "2024-08-15T06:15:42.768187Z",
     "shell.execute_reply.started": "2024-08-15T06:15:42.754982Z"
    }
   },
   "outputs": [],
   "source": [
    "downsampled_df[downsampled_df[\"record\"]=='052n']"
   ]
  },
  {
   "cell_type": "code",
   "execution_count": null,
   "id": "881fe679",
   "metadata": {
    "execution": {
     "iopub.execute_input": "2024-08-15T06:15:42.769242Z",
     "iopub.status.busy": "2024-08-15T06:15:42.769134Z",
     "iopub.status.idle": "2024-08-15T06:15:43.556639Z",
     "shell.execute_reply": "2024-08-15T06:15:43.555845Z",
     "shell.execute_reply.started": "2024-08-15T06:15:42.769231Z"
    }
   },
   "outputs": [],
   "source": [
    "downsampled_df.to_csv(fp_downsampled_continuous_file, index=False)"
   ]
  },
  {
   "cell_type": "markdown",
   "id": "bfa48532",
   "metadata": {},
   "source": [
    "## Flatten Data and Generate Data for Training"
   ]
  },
  {
   "cell_type": "code",
   "execution_count": null,
   "id": "cb5650bc",
   "metadata": {
    "execution": {
     "iopub.execute_input": "2024-08-15T06:15:43.557493Z",
     "iopub.status.busy": "2024-08-15T06:15:43.557354Z",
     "iopub.status.idle": "2024-08-15T06:15:43.561125Z",
     "shell.execute_reply": "2024-08-15T06:15:43.560526Z",
     "shell.execute_reply.started": "2024-08-15T06:15:43.557480Z"
    }
   },
   "outputs": [],
   "source": [
    "# Update feat set\n",
    "downsampled_feat_set = [f\"{feat}_mean\" for feat in feat_set] + [f\"{feat}_std\" for feat in feat_set] \n",
    "print(downsampled_feat_set)"
   ]
  },
  {
   "cell_type": "code",
   "execution_count": null,
   "id": "e86e3dfc",
   "metadata": {
    "execution": {
     "iopub.execute_input": "2024-08-15T06:15:43.561797Z",
     "iopub.status.busy": "2024-08-15T06:15:43.561674Z",
     "iopub.status.idle": "2024-08-15T06:15:43.564978Z",
     "shell.execute_reply": "2024-08-15T06:15:43.564412Z",
     "shell.execute_reply.started": "2024-08-15T06:15:43.561785Z"
    }
   },
   "outputs": [],
   "source": [
    "pred_cols = [f\"{feat}_mean\" for feat in feat_set]\n",
    "print(pred_cols)"
   ]
  },
  {
   "cell_type": "code",
   "execution_count": null,
   "id": "c7fa4bfe",
   "metadata": {
    "execution": {
     "iopub.execute_input": "2024-08-15T06:15:43.565629Z",
     "iopub.status.busy": "2024-08-15T06:15:43.565509Z",
     "iopub.status.idle": "2024-08-15T06:16:40.396457Z",
     "shell.execute_reply": "2024-08-15T06:16:40.395726Z",
     "shell.execute_reply.started": "2024-08-15T06:15:43.565617Z"
    }
   },
   "outputs": [],
   "source": [
    "def generate_data_for_training(\n",
    "    downsampled_df, downsampled_feat_set, input_mins, prediction_mins, pred_cols):\n",
    "    data = []\n",
    "    downsampled_feat_set = list(downsampled_feat_set)\n",
    "    # The flattened features for past input_days\n",
    "    new_feat_set = [feat + \" Min\" + str(i) for i in range(input_mins) for feat in downsampled_feat_set] + \\\n",
    "        [feat + \" PredMin\" + str(i) for i in prediction_mins for feat in pred_cols] + \\\n",
    "        [\"target_index\"] + [\"input_start_index\"] + [\"input_end_index\"] + [\"record\"]\n",
    "\n",
    "    # Sort prediction mins e.g. 1, 3, 2 -> 1, 2, 3\n",
    "    prediction_mins.sort() \n",
    "    # For each record\n",
    "    record_groups = downsampled_df.groupby(\"record\")\n",
    "    for record, record_df in tqdm(record_groups):\n",
    "        record_df = record_df.set_index(\"record_index\")\n",
    "        # Go through possible end_input indices\n",
    "        for end_input in record_df.index:\n",
    "            # Not enough input information\n",
    "            if end_input < input_mins-1:\n",
    "                continue\n",
    "            # Not enough pred information\n",
    "            elif end_input + prediction_mins[-1] > record_df.index[-1]:\n",
    "                break\n",
    "            start_input = end_input - input_mins + 1\n",
    "            # (input) 0 1 2 3 4, (output) 5, 6, 7\n",
    "            pred_indices = [end_input + pred_min for pred_min in prediction_mins]\n",
    "            # Get the rows we are predicting\n",
    "            pred_rows = record_df[pred_cols].loc[pred_indices]\n",
    "            # Get rows we are using to predict\n",
    "            input_rows = record_df[downsampled_feat_set].loc[start_input:end_input]\n",
    "            \n",
    "            # Get input\n",
    "            feat_list = list(input_rows.values.flatten())\n",
    "            # Get prediction\n",
    "            pred_list = list(pred_rows.values.flatten())\n",
    "            \n",
    "            # Add row\n",
    "            new_row = (\n",
    "                feat_list + pred_list +\n",
    "                [pred_rows.index.tolist(), start_input, end_input, record]\n",
    "            )\n",
    "            data.append(new_row)\n",
    "    return pd.DataFrame(data, columns=new_feat_set)\n",
    "\n",
    "flattened_df = generate_data_for_training(\n",
    "    downsampled_df, downsampled_feat_set, input_mins=5, prediction_mins=[1, 2, 3], pred_cols=pred_cols)\n",
    "flattened_df.head()"
   ]
  },
  {
   "cell_type": "code",
   "execution_count": null,
   "id": "f49ea9ad",
   "metadata": {
    "execution": {
     "iopub.execute_input": "2024-08-15T06:16:40.397264Z",
     "iopub.status.busy": "2024-08-15T06:16:40.397145Z",
     "iopub.status.idle": "2024-08-15T06:16:40.400860Z",
     "shell.execute_reply": "2024-08-15T06:16:40.400298Z",
     "shell.execute_reply.started": "2024-08-15T06:16:40.397252Z"
    }
   },
   "outputs": [],
   "source": [
    "flattened_df.shape # previously, 119780"
   ]
  },
  {
   "cell_type": "markdown",
   "id": "8d580c84",
   "metadata": {},
   "source": [
    "## Remove Rows With NaN Values"
   ]
  },
  {
   "cell_type": "code",
   "execution_count": null,
   "id": "bb71a482",
   "metadata": {
    "execution": {
     "iopub.execute_input": "2024-08-15T06:16:40.401671Z",
     "iopub.status.busy": "2024-08-15T06:16:40.401562Z",
     "iopub.status.idle": "2024-08-15T06:16:40.431406Z",
     "shell.execute_reply": "2024-08-15T06:16:40.431045Z",
     "shell.execute_reply.started": "2024-08-15T06:16:40.401660Z"
    }
   },
   "outputs": [],
   "source": [
    "flattened_df = flattened_df.dropna()\n",
    "flattened_df.head()"
   ]
  },
  {
   "cell_type": "code",
   "execution_count": null,
   "id": "6d0d000c",
   "metadata": {
    "execution": {
     "iopub.execute_input": "2024-08-15T06:16:40.431991Z",
     "iopub.status.busy": "2024-08-15T06:16:40.431877Z",
     "iopub.status.idle": "2024-08-15T06:16:40.434618Z",
     "shell.execute_reply": "2024-08-15T06:16:40.434290Z",
     "shell.execute_reply.started": "2024-08-15T06:16:40.431979Z"
    }
   },
   "outputs": [],
   "source": [
    "flattened_df.shape # previously 90000+"
   ]
  },
  {
   "cell_type": "code",
   "execution_count": null,
   "id": "6b2b2220",
   "metadata": {
    "execution": {
     "iopub.execute_input": "2024-08-15T06:16:40.435083Z",
     "iopub.status.busy": "2024-08-15T06:16:40.434974Z",
     "iopub.status.idle": "2024-08-15T06:16:40.515681Z",
     "shell.execute_reply": "2024-08-15T06:16:40.515295Z",
     "shell.execute_reply.started": "2024-08-15T06:16:40.435072Z"
    }
   },
   "outputs": [],
   "source": [
    "flattened_df[\"ABPmean (mmHg)_mean PredMin1\"].hist()"
   ]
  },
  {
   "cell_type": "code",
   "execution_count": null,
   "id": "8dd3f4bb",
   "metadata": {
    "execution": {
     "iopub.execute_input": "2024-08-15T06:16:40.516173Z",
     "iopub.status.busy": "2024-08-15T06:16:40.516059Z",
     "iopub.status.idle": "2024-08-15T06:16:40.534223Z",
     "shell.execute_reply": "2024-08-15T06:16:40.533880Z",
     "shell.execute_reply.started": "2024-08-15T06:16:40.516161Z"
    }
   },
   "outputs": [],
   "source": [
    "def label_train_valid_test_samples(df, train_records, valid_records, test_records):\n",
    "    df = df.copy()\n",
    "    df[\"train\"] = df[\"record\"].isin(train_records)\n",
    "    df[\"valid\"] = df[\"record\"].isin(valid_records)\n",
    "    df[\"test\"] = df[\"record\"].isin(test_records)\n",
    "    return df\n",
    "\n",
    "train_valid_test_labelled_df = label_train_valid_test_samples(flattened_df, train_records, valid_records, test_records)\n",
    "train_valid_test_labelled_df.head()"
   ]
  },
  {
   "cell_type": "code",
   "execution_count": null,
   "id": "57d709cb",
   "metadata": {
    "execution": {
     "iopub.execute_input": "2024-08-15T06:16:40.534798Z",
     "iopub.status.busy": "2024-08-15T06:16:40.534679Z",
     "iopub.status.idle": "2024-08-15T06:16:43.404880Z",
     "shell.execute_reply": "2024-08-15T06:16:43.404418Z",
     "shell.execute_reply.started": "2024-08-15T06:16:40.534786Z"
    }
   },
   "outputs": [],
   "source": [
    "train_valid_test_labelled_df.to_csv(fp_downsampled_dropna_file)"
   ]
  },
  {
   "cell_type": "code",
   "execution_count": null,
   "id": "e9b42812",
   "metadata": {},
   "outputs": [],
   "source": []
  },
  {
   "cell_type": "code",
   "execution_count": null,
   "id": "c27539e6",
   "metadata": {},
   "outputs": [],
   "source": []
  }
 ],
 "metadata": {
  "kernelspec": {
   "display_name": "Python 3 (ipykernel)",
   "language": "python",
   "name": "python3"
  },
  "language_info": {
   "codemirror_mode": {
    "name": "ipython",
    "version": 3
   },
   "file_extension": ".py",
   "mimetype": "text/x-python",
   "name": "python",
   "nbconvert_exporter": "python",
   "pygments_lexer": "ipython3",
   "version": "3.10.14"
  },
  "toc-autonumbering": true
 },
 "nbformat": 4,
 "nbformat_minor": 5
}
