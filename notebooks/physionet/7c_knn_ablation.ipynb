{
 "cells": [
  {
   "cell_type": "markdown",
   "id": "b7abd654",
   "metadata": {},
   "source": [
    "# Load Packages"
   ]
  },
  {
   "cell_type": "code",
   "execution_count": null,
   "id": "daeed8b1",
   "metadata": {},
   "outputs": [],
   "source": [
    "\n",
    "%load_ext autoreload\n",
    "%autoreload 2\n",
    "\n",
    "import sys\n",
    "from os.path import join\n",
    "from tqdm.auto import tqdm\n",
    "import joblib\n",
    "import torch\n",
    "sys.path.append(\"../../\")\n",
    "\n",
    "from src.file_manager.load_data import load_split_dict\n",
    "from src.file_processing.processing_predictions import load_prediction_df_dict, save_pi_df_dict\n",
    "from src.file_processing.processing_predictions import load_pi_df_dict\n",
    "from src.file_manager.save_load_scaler import load_scaler\n",
    "from src.pi_methods.knn import knn_prediction_interval\n",
    "from src.pi_methods.weighted import weighted_prediction_interval\n",
    "from src.pi_methods.cond_gaussian import cond_gauss_prediction_interval\n",
    "from src.pi_methods.gaussian_copula import gauss_copula_prediction_interval\n",
    "from src.pi_methods.conformal_prediction import conformal_prediction_interval\n",
    "from src.evaluation.investigate_re_pe_distribution import investigate_re_n_pe_for_all_seeds, investigate_re_n_pe\n",
    "from src.misc import create_folder\n",
    "from ue_pi_dicts import ue_dict\n",
    "# from seed_file import seed\n",
    "from src.evaluation.knn_ablation import knn_ablation, display_knn_ablation\n",
    "\n",
    "seed = 2023\n",
    "data_label = \"physionet\"\n",
    "batch_size = 64\n",
    "\n",
    "# File paths\n",
    "fp_notebooks_folder = \"../\"\n",
    "fp_project_folder = join(fp_notebooks_folder, \"../\")\n",
    "fp_processed_data_folder = join(fp_project_folder, \"processed_data\")\n",
    "fp_output_data_folder = join(fp_processed_data_folder, \"physionet\")\n",
    "fp_checkpoint_folder = join(fp_project_folder, \"checkpoints\")\n",
    "fp_project_checkpoints = join(fp_checkpoint_folder, data_label)\n",
    "fp_tuning = join(fp_project_checkpoints, \"tuning\")\n",
    "fp_models = join(fp_project_checkpoints, \"models\")\n",
    "fp_predictions = join(fp_project_checkpoints, \"predictions\")\n",
    "fp_pi_predictions = join(fp_project_checkpoints, \"pi_predictions\")\n",
    "fp_ablation_folder = join(fp_project_checkpoints, \"knn_ablation\")\n",
    "\n",
    "pred_file_names =  [\"rue\", \"gpr\", \"infernoise\", \"der\", \"bnn\"]\n",
    "fp_cur_predictions_folder = join(fp_predictions, str(seed))\n",
    "fp_cur_ablation_folder = join(fp_ablation_folder, str(seed))\n",
    "create_folder(fp_cur_ablation_folder)\n"
   ]
  },
  {
   "cell_type": "markdown",
   "id": "89d137dc",
   "metadata": {},
   "source": [
    "# Load Data"
   ]
  },
  {
   "cell_type": "code",
   "execution_count": null,
   "id": "8a98cf4c",
   "metadata": {},
   "outputs": [],
   "source": [
    "split_dict = load_split_dict(fp_output_data_folder)\n",
    "scaler = load_scaler(join(fp_output_data_folder, \"scaler.pickle\"))\n",
    "pred_df_dict = load_prediction_df_dict(\n",
    "    split_dict, fp_cur_predictions_folder, pred_file_names=pred_file_names) "
   ]
  },
  {
   "cell_type": "code",
   "execution_count": null,
   "id": "eac8bf6e",
   "metadata": {},
   "outputs": [],
   "source": [
    "def get_k_list(start, end, mutiplier):\n",
    "    k_list, k = [], start\n",
    "    while k < end:\n",
    "        k_list.append(k)\n",
    "        k = k*mutiplier\n",
    "    return k_list\n",
    "\n",
    "k_list = get_k_list(start=2, end=len(pred_df_dict[\"t+1\"][\"valid_df\"]), mutiplier=2)\n",
    "k_list"
   ]
  },
  {
   "cell_type": "markdown",
   "id": "b71a6988",
   "metadata": {},
   "source": [
    "# KNN Ablation\n",
    "- A very small `k` value causes KNN to be highly susceptible to outliers in its neighbours resulting in poorer PI performance.\n",
    "- A large k value causes KNN to consider points that are highly dissimilar to the query point in the reconstruction error space, also resulting in suboptimal PI performance"
   ]
  },
  {
   "cell_type": "code",
   "execution_count": null,
   "id": "f50c5984",
   "metadata": {},
   "outputs": [],
   "source": [
    "knn_ablation_df = knn_ablation(\n",
    "    pred_df_dict=pred_df_dict, k_list=k_list, \n",
    "    ue_dict=ue_dict, \n",
    "    fp_cur_ablation_folder=fp_cur_ablation_folder,\n",
    "    scaler=scaler, split_dict=split_dict, seed=seed\n",
    ")\n",
    "knn_ablation_df"
   ]
  },
  {
   "cell_type": "markdown",
   "id": "069ec5e6",
   "metadata": {},
   "source": [
    "# KNN Ablation Line Graph"
   ]
  },
  {
   "cell_type": "code",
   "execution_count": null,
   "id": "58dccee9",
   "metadata": {},
   "outputs": [],
   "source": [
    "display_knn_ablation(knn_ablation_df)"
   ]
  }
 ],
 "metadata": {
  "kernelspec": {
   "display_name": "main",
   "language": "python",
   "name": "python3"
  },
  "language_info": {
   "codemirror_mode": {
    "name": "ipython",
    "version": 3
   },
   "file_extension": ".py",
   "mimetype": "text/x-python",
   "name": "python",
   "nbconvert_exporter": "python",
   "pygments_lexer": "ipython3",
   "version": "3.10.14"
  }
 },
 "nbformat": 4,
 "nbformat_minor": 5
}
