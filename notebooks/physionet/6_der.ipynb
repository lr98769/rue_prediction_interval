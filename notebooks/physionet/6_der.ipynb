{
 "cells": [
  {
   "cell_type": "markdown",
   "id": "cf5003da",
   "metadata": {},
   "source": [
    "# Load Packages"
   ]
  },
  {
   "cell_type": "code",
   "execution_count": null,
   "id": "89aaeaf7",
   "metadata": {},
   "outputs": [],
   "source": [
    "%load_ext autoreload\n",
    "%autoreload 2\n",
    "\n",
    "import sys\n",
    "from os.path import join\n",
    "from tqdm.auto import tqdm\n",
    "import joblib\n",
    "import torch\n",
    "sys.path.append(\"../../\")\n",
    "\n",
    "from src.file_manager.load_data import load_split_dict\n",
    "from src.models.der.tuning import tune_der_model\n",
    "from src.models.der.training import train_der_w_param\n",
    "from src.models.der.predicting import der_model_prediction\n",
    "from src.misc import create_folder\n",
    "from seed_file import seed\n",
    "\n",
    "# seed = 2023\n",
    "tuning_seed = 2023\n",
    "data_label = \"physionet\"\n",
    "batch_size = 64\n",
    "\n",
    "# File paths\n",
    "fp_notebooks_folder = \"../\"\n",
    "fp_project_folder = join(fp_notebooks_folder, \"../\")\n",
    "fp_processed_data_folder = join(fp_project_folder, \"processed_data\")\n",
    "fp_output_data_folder = join(fp_processed_data_folder, \"physionet\")\n",
    "fp_checkpoint_folder = join(fp_project_folder, \"checkpoints\")\n",
    "fp_project_checkpoints = join(fp_checkpoint_folder, data_label)\n",
    "fp_tuning = join(fp_project_checkpoints, \"tuning\")\n",
    "fp_models = join(fp_project_checkpoints, \"models\")\n",
    "fp_predictions = join(fp_project_checkpoints, \"predictions\")\n",
    "\n",
    "# Seed filepaths\n",
    "fp_cur_tune_folder = join(fp_tuning, str(tuning_seed))\n",
    "create_folder(fp_cur_tune_folder)\n",
    "fp_cur_model_folder = join(fp_models, str(seed))\n",
    "create_folder(fp_cur_model_folder)\n",
    "fp_cur_predictions_folder = join(fp_predictions, str(seed))\n",
    "create_folder(fp_cur_predictions_folder)"
   ]
  },
  {
   "cell_type": "markdown",
   "id": "96d6326f",
   "metadata": {},
   "source": [
    "# Load Data"
   ]
  },
  {
   "cell_type": "code",
   "execution_count": null,
   "id": "883f7814",
   "metadata": {},
   "outputs": [],
   "source": [
    "split_dict = load_split_dict(fp_output_data_folder)"
   ]
  },
  {
   "cell_type": "markdown",
   "id": "cbc1b191",
   "metadata": {},
   "source": [
    "# Tune DER"
   ]
  },
  {
   "cell_type": "code",
   "execution_count": null,
   "id": "e20b7f2f",
   "metadata": {},
   "outputs": [],
   "source": [
    "if seed==tuning_seed:\n",
    "    all_der_best_hp = {}\n",
    "    for time_label, target_cols in tqdm(split_dict[\"target_cols\"].items()):\n",
    "        der_tuning_df, der_best_hp = tune_der_model(\n",
    "            param_grid={\n",
    "                \"n_hidden_layers\":[2, 3, 4],\n",
    "                \"hidden_width\": [128, 256, 512]},  \n",
    "            train_df=split_dict[\"train_df\"], valid_df=split_dict[\"valid_df\"], \n",
    "            feat_cols=split_dict[\"feat_cols\"], target_cols=target_cols, \n",
    "            epochs=500, patience=5, seed=seed, batch_size=batch_size\n",
    "        )\n",
    "        der_tuning_df.to_csv(join(fp_cur_tune_folder, f\"tuning_der_{time_label}.csv\"))\n",
    "        all_der_best_hp[time_label] = der_best_hp\n",
    "        display(der_tuning_df)\n",
    "    joblib.dump(all_der_best_hp, join(fp_cur_tune_folder, \"all_der_best_hp.joblib\"))\n",
    "    display(all_der_best_hp)"
   ]
  },
  {
   "cell_type": "markdown",
   "id": "2a6eb97e",
   "metadata": {},
   "source": [
    "# Training DER"
   ]
  },
  {
   "cell_type": "code",
   "execution_count": null,
   "id": "769b2a02",
   "metadata": {},
   "outputs": [],
   "source": [
    "all_der_best_hp = joblib.load(join(fp_cur_tune_folder, \"all_der_best_hp.joblib\"))\n",
    "for time_label, target_cols in tqdm(split_dict[\"target_cols\"].items()):\n",
    "    fp_model = join(fp_cur_model_folder, f\"der_{time_label}.pt\")\n",
    "    der_model, _ = train_der_w_param(\n",
    "        **all_der_best_hp[time_label], \n",
    "        train_df=split_dict[\"train_df\"], valid_df=split_dict[\"valid_df\"], \n",
    "        inputs=split_dict[\"feat_cols\"], outputs=target_cols,\n",
    "        seed=seed, max_epochs=500, patience=5, batch_size=batch_size\n",
    "    )\n",
    "    torch.save(der_model, fp_model)"
   ]
  },
  {
   "cell_type": "markdown",
   "id": "4ff4df8c",
   "metadata": {},
   "source": [
    "# Prediction"
   ]
  },
  {
   "cell_type": "code",
   "execution_count": null,
   "id": "5b2d3b09",
   "metadata": {},
   "outputs": [],
   "source": [
    "for time_label, target_cols in tqdm(split_dict[\"target_cols\"].items()):\n",
    "    fp_model = join(fp_cur_model_folder, f\"der_{time_label}.pt\")\n",
    "    der_model = torch.load(fp_model)\n",
    "    der_valid_df = der_model_prediction(\n",
    "        der_model, test_df=split_dict[\"valid_df\"], \n",
    "        feat_cols=split_dict[\"feat_cols\"], target_cols=target_cols, \n",
    "        seed=seed, silent=False, regressor_label=time_label)\n",
    "    der_test_df = der_model_prediction(\n",
    "        der_model, test_df=split_dict[\"test_df\"], \n",
    "        feat_cols=split_dict[\"feat_cols\"], target_cols=target_cols, \n",
    "        seed=seed, silent=False, regressor_label=time_label)\n",
    "    der_valid_df.to_csv(join(fp_cur_predictions_folder, f\"der_valid_{time_label[-1]}.csv\"))\n",
    "    der_test_df.to_csv(join(fp_cur_predictions_folder, f\"der_test_{time_label[-1]}.csv\"))"
   ]
  }
 ],
 "metadata": {
  "kernelspec": {
   "display_name": "main",
   "language": "python",
   "name": "python3"
  },
  "language_info": {
   "codemirror_mode": {
    "name": "ipython",
    "version": 3
   },
   "file_extension": ".py",
   "mimetype": "text/x-python",
   "name": "python",
   "nbconvert_exporter": "python",
   "pygments_lexer": "ipython3",
   "version": "3.10.14"
  }
 },
 "nbformat": 4,
 "nbformat_minor": 5
}
