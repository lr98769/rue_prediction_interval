{
 "cells": [
  {
   "cell_type": "markdown",
   "id": "e4260797",
   "metadata": {},
   "source": [
    "# Load Packages"
   ]
  },
  {
   "cell_type": "code",
   "execution_count": null,
   "id": "ab5e7f5d",
   "metadata": {},
   "outputs": [],
   "source": [
    "%load_ext autoreload\n",
    "%autoreload 2\n",
    "\n",
    "import sys\n",
    "from os.path import join\n",
    "from tqdm.auto import tqdm\n",
    "import joblib\n",
    "sys.path.append(\"../../\")\n",
    "\n",
    "from src.file_manager.load_data import load_split_dict\n",
    "from src.models.rue.tuning import model_tuning_regressor, model_tuning_decoder\n",
    "from src.models.rue.training import model_training_predictor, model_training_decoder\n",
    "from src.models.rue.save_load_model import save_model, load_model\n",
    "from src.models.rue.predicting import model_test_predictions\n",
    "from src.misc import create_folder\n",
    "from seed_file import seed\n",
    "\n",
    "# seed = 2023\n",
    "tuning_seed = 2023\n",
    "data_label = \"physionet\"\n",
    "batch_size = 64\n",
    "\n",
    "# File paths\n",
    "fp_notebooks_folder = \"../\"\n",
    "fp_project_folder = join(fp_notebooks_folder, \"../\")\n",
    "fp_processed_data_folder = join(fp_project_folder, \"processed_data\")\n",
    "fp_output_data_folder = join(fp_processed_data_folder, \"physionet\")\n",
    "fp_checkpoint_folder = join(fp_project_folder, \"checkpoints\")\n",
    "fp_project_checkpoints = join(fp_checkpoint_folder, data_label)\n",
    "fp_tuning = join(fp_project_checkpoints, \"tuning\")\n",
    "fp_models = join(fp_project_checkpoints, \"models\")\n",
    "fp_predictions = join(fp_project_checkpoints, \"predictions\")\n",
    "\n",
    "# Seed filepaths\n",
    "fp_cur_tune_folder = join(fp_tuning, str(tuning_seed))\n",
    "create_folder(fp_cur_tune_folder)\n",
    "fp_cur_model_folder = join(fp_models, str(seed))\n",
    "create_folder(fp_cur_model_folder)\n",
    "fp_cur_predictions_folder = join(fp_predictions, str(seed))\n",
    "create_folder(fp_cur_predictions_folder)"
   ]
  },
  {
   "cell_type": "markdown",
   "id": "1b0cbea1",
   "metadata": {},
   "source": [
    "# Load Data"
   ]
  },
  {
   "cell_type": "code",
   "execution_count": null,
   "id": "92e3d0e2",
   "metadata": {},
   "outputs": [],
   "source": [
    "split_dict = load_split_dict(fp_output_data_folder)"
   ]
  },
  {
   "cell_type": "markdown",
   "id": "d11d754c",
   "metadata": {},
   "source": [
    "# Tune and Train Predictor"
   ]
  },
  {
   "cell_type": "markdown",
   "id": "fe0801f6",
   "metadata": {},
   "source": [
    "## Tune"
   ]
  },
  {
   "cell_type": "code",
   "execution_count": null,
   "id": "cf6a7449",
   "metadata": {},
   "outputs": [],
   "source": [
    "if seed == tuning_seed:\n",
    "    all_rue_predictor_best_hp = {}\n",
    "    for time_label, target_cols in tqdm(split_dict[\"target_cols\"].items()):\n",
    "        rue_predictor_tuning_df, rue_predictor_best_hp = model_tuning_regressor(\n",
    "            param_grid = {\n",
    "                \"encoder_width\": [128, 256, 512],\n",
    "                \"encoder_depth\": [2, 3, 4],\n",
    "                \"decoder_width\":[64],\n",
    "                \"decoder_depth\": [2],\n",
    "            }, predictors=split_dict[\"feat_cols\"], pred_cols=target_cols, \n",
    "            train_df=split_dict[\"train_df\"], valid_df=split_dict[\"valid_df\"], seed=seed,\n",
    "            batch_size=batch_size, max_epochs=10000, verbose=1, patience=20\n",
    "        )\n",
    "        display(rue_predictor_tuning_df)\n",
    "        rue_predictor_tuning_df.to_csv(join(fp_cur_tune_folder, f\"tuning_rue_{time_label}.csv\"))\n",
    "        all_rue_predictor_best_hp[time_label] = rue_predictor_best_hp\n",
    "    joblib.dump(all_rue_predictor_best_hp, join(fp_cur_tune_folder, \"all_rue_predictor_best_hp.joblib\"))\n",
    "    all_rue_predictor_best_hp"
   ]
  },
  {
   "cell_type": "code",
   "execution_count": null,
   "id": "6cf8d098",
   "metadata": {},
   "outputs": [],
   "source": []
  },
  {
   "cell_type": "markdown",
   "id": "99010489",
   "metadata": {},
   "source": [
    "## Train"
   ]
  },
  {
   "cell_type": "code",
   "execution_count": null,
   "id": "fbfd863a",
   "metadata": {},
   "outputs": [],
   "source": [
    "all_rue_predictor_best_hp = joblib.load(join(fp_cur_tune_folder, \"all_rue_predictor_best_hp.joblib\"))\n",
    "for time_label, target_cols in tqdm(split_dict[\"target_cols\"].items()):\n",
    "    best_predictor_hp = all_rue_predictor_best_hp[time_label]\n",
    "    ae_regressor = model_training_predictor(\n",
    "        best_predictor_hp, \n",
    "        predictors=split_dict[\"feat_cols\"], pred_cols=target_cols, \n",
    "        train_df=split_dict[\"train_df\"], valid_df = split_dict[\"valid_df\"], seed=seed,\n",
    "        batch_size=batch_size, max_epochs=10000, verbose=1, patience=20\n",
    "    ) \n",
    "    save_model(\n",
    "        model=ae_regressor, name=f\"rue_predictor_{time_label}\", \n",
    "        fp_checkpoints=fp_cur_model_folder, override=True)"
   ]
  },
  {
   "cell_type": "markdown",
   "id": "af12e70a",
   "metadata": {},
   "source": [
    "# Tune and Train Decoder"
   ]
  },
  {
   "cell_type": "markdown",
   "id": "582e40eb",
   "metadata": {},
   "source": [
    "## Tune"
   ]
  },
  {
   "cell_type": "code",
   "execution_count": null,
   "id": "936bfd15",
   "metadata": {},
   "outputs": [],
   "source": [
    "if seed == tuning_seed:\n",
    "    all_rue_predictor_best_hp = joblib.load(join(fp_cur_tune_folder, \"all_rue_predictor_best_hp.joblib\"))\n",
    "    all_rue_decoder_best_hp = {}\n",
    "    for time_label, target_cols in tqdm(split_dict[\"target_cols\"].items()):\n",
    "        best_predictor_hp = all_rue_predictor_best_hp[time_label]\n",
    "        prev_model = load_model(\n",
    "            name=f\"rue_predictor_{time_label}\", fp_checkpoints=fp_cur_model_folder)\n",
    "        rue_tuning_df, rue_decoder_best_hp = model_tuning_decoder(\n",
    "            param_grid=dict(\n",
    "                encoder_width = [best_predictor_hp[\"encoder_width\"]], \n",
    "                encoder_depth = [best_predictor_hp[\"encoder_depth\"]],\n",
    "                decoder_width =[128, 256, 512],\n",
    "                decoder_depth = [2, 3, 4],\n",
    "            ), predictors=split_dict[\"feat_cols\"], pred_cols=target_cols, \n",
    "            train_df=split_dict[\"train_df\"], valid_df=split_dict[\"valid_df\"], seed=seed,\n",
    "            max_epochs=10000, verbose=1, patience=20, prev_model=prev_model\n",
    "        )\n",
    "        display(rue_tuning_df)\n",
    "        rue_tuning_df.to_csv(join(fp_cur_tune_folder, f\"tuning_rue_decoder_{time_label}.csv\"))\n",
    "        all_rue_decoder_best_hp[time_label] = rue_decoder_best_hp\n",
    "    joblib.dump(all_rue_decoder_best_hp, join(fp_cur_tune_folder, \"all_rue_decoder_best_hp.joblib\"))\n",
    "    all_rue_decoder_best_hp"
   ]
  },
  {
   "cell_type": "code",
   "execution_count": null,
   "id": "22b5021e",
   "metadata": {},
   "outputs": [],
   "source": []
  },
  {
   "cell_type": "markdown",
   "id": "262f6bca",
   "metadata": {},
   "source": [
    "## Train"
   ]
  },
  {
   "cell_type": "code",
   "execution_count": null,
   "id": "6e8b00ea",
   "metadata": {},
   "outputs": [],
   "source": [
    "all_rue_decoder_best_hp = joblib.load(join(fp_cur_tune_folder, \"all_rue_decoder_best_hp.joblib\"))\n",
    "for time_label, target_cols in tqdm(split_dict[\"target_cols\"].items()):\n",
    "    prev_model = load_model(\n",
    "        name=f\"rue_predictor_{time_label}\", fp_checkpoints=fp_cur_model_folder)\n",
    "    hp_dict = all_rue_decoder_best_hp[time_label]\n",
    "    ae_regressor = model_training_decoder(\n",
    "        hp_dict, predictors=split_dict[\"feat_cols\"], pred_cols=target_cols, \n",
    "        train_df=split_dict[\"train_df\"], valid_df = split_dict[\"valid_df\"], \n",
    "        seed=seed, prev_model=prev_model,\n",
    "        batch_size=batch_size, max_epochs=10000, verbose=1, patience=20\n",
    "    ) \n",
    "    save_model(model=ae_regressor, name=f\"rue_{time_label}\", \n",
    "               fp_checkpoints=fp_cur_model_folder, override=True)"
   ]
  },
  {
   "cell_type": "markdown",
   "id": "09290cb4",
   "metadata": {},
   "source": [
    "# Prediction"
   ]
  },
  {
   "cell_type": "code",
   "execution_count": null,
   "id": "da8fd1d2",
   "metadata": {},
   "outputs": [],
   "source": [
    "for time_label, target_cols in tqdm(split_dict[\"target_cols\"].items()):\n",
    "    ae_regressor = load_model(name=f\"rue_{time_label}\", fp_checkpoints=fp_cur_model_folder)\n",
    "    rue_valid_df = model_test_predictions(\n",
    "        ae_regressor, df_train=split_dict[\"train_df\"], df_test=split_dict[\"valid_df\"], \n",
    "        pred_cols=target_cols, predictors=split_dict[\"feat_cols\"], \n",
    "        regressor_label=\"_\"+time_label, pred_min=int(time_label[-1]), T=10, seed=seed)\n",
    "    rue_test_df = model_test_predictions(\n",
    "        ae_regressor, \n",
    "        df_train=split_dict[\"train_df\"], df_test=split_dict[\"test_df\"], \n",
    "        pred_cols=target_cols, predictors=split_dict[\"feat_cols\"], \n",
    "        regressor_label=\"_\"+time_label, pred_min=int(time_label[-1]), T=10, seed=seed)\n",
    "    display(rue_test_df)\n",
    "    rue_valid_df.to_csv(join(fp_cur_predictions_folder, f\"rue_valid_{time_label[-1]}.csv\"))\n",
    "    rue_test_df.to_csv(join(fp_cur_predictions_folder, f\"rue_test_{time_label[-1]}.csv\"))\n"
   ]
  }
 ],
 "metadata": {
  "kernelspec": {
   "display_name": "main",
   "language": "python",
   "name": "python3"
  },
  "language_info": {
   "codemirror_mode": {
    "name": "ipython",
    "version": 3
   },
   "file_extension": ".py",
   "mimetype": "text/x-python",
   "name": "python",
   "nbconvert_exporter": "python",
   "pygments_lexer": "ipython3",
   "version": "3.10.14"
  }
 },
 "nbformat": 4,
 "nbformat_minor": 5
}
