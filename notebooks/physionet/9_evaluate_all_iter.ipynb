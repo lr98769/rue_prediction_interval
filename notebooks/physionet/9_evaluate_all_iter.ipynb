{
 "cells": [
  {
   "cell_type": "markdown",
   "id": "d34a6a94",
   "metadata": {},
   "source": [
    "# Load Packages"
   ]
  },
  {
   "cell_type": "code",
   "execution_count": null,
   "id": "8f2b0433",
   "metadata": {},
   "outputs": [],
   "source": [
    "%load_ext autoreload\n",
    "%autoreload 2\n",
    "\n",
    "import sys\n",
    "from os.path import join\n",
    "from tqdm.auto import tqdm\n",
    "import joblib\n",
    "import torch\n",
    "sys.path.append(\"../../\")\n",
    "\n",
    "from src.evaluation.consolidate import consolidate_pred_perf, consolidate_ue_perf, consolidate_pi_perf\n",
    "from src.evaluation.perf_eval import display_pred_perf\n",
    "from src.evaluation.ue_eval import display_ue_perf\n",
    "from src.evaluation.pi_eval import display_pi_perf, reorganise_pi_table, display_pi_perf_reorganised\n",
    "from src.df_display.latex import df_to_latex, df_to_latex_grouped\n",
    "from ue_pi_dicts import pi_order\n",
    "from src.df_display.heatmap import generate_pi_heatmap\n",
    "\n",
    "seed_list=list(range(2023, 2023+5))\n",
    "data_label = \"physionet\"\n",
    "batch_size = 64\n",
    "\n",
    "# File paths\n",
    "fp_notebooks_folder = \"../\"\n",
    "fp_project_folder = join(fp_notebooks_folder, \"../\")\n",
    "fp_processed_data_folder = join(fp_project_folder, \"processed_data\")\n",
    "fp_output_data_folder = join(fp_processed_data_folder, \"physionet\")\n",
    "fp_checkpoint_folder = join(fp_project_folder, \"checkpoints\")\n",
    "fp_project_checkpoints = join(fp_checkpoint_folder, data_label)\n",
    "fp_tuning = join(fp_project_checkpoints, \"tuning\")\n",
    "fp_models = join(fp_project_checkpoints, \"models\")\n",
    "fp_predictions = join(fp_project_checkpoints, \"predictions\")\n",
    "fp_evaluation = join(fp_project_checkpoints, \"model_evaluation\")\n",
    "fp_consolidated = join(fp_project_checkpoints, \"consolidated_results\")"
   ]
  },
  {
   "cell_type": "markdown",
   "id": "cf7f6116",
   "metadata": {},
   "source": [
    "# Prediction Performance"
   ]
  },
  {
   "cell_type": "code",
   "execution_count": null,
   "id": "f0a100ee",
   "metadata": {},
   "outputs": [],
   "source": [
    "pred_perf_df = consolidate_pred_perf(seed_list, fp_evaluation)\n",
    "display_pred_perf(pred_perf_df, consolidated=True)\n",
    "pred_perf_df.to_csv(join(fp_consolidated, \"pred_perf.csv\"))"
   ]
  },
  {
   "cell_type": "code",
   "execution_count": null,
   "id": "75238ec3",
   "metadata": {},
   "outputs": [],
   "source": [
    "print(df_to_latex(pred_perf_df, column_format_dict={\"t+1\": \"min\", \"t+2\": \"min\", \"t+3\": \"min\"}))"
   ]
  },
  {
   "cell_type": "code",
   "execution_count": null,
   "id": "d13f6291",
   "metadata": {},
   "outputs": [],
   "source": [
    "pred_perf_df = consolidate_pred_perf(seed_list, fp_evaluation, one_col=True)\n",
    "display_pred_perf(pred_perf_df, consolidated=True)\n",
    "# pred_perf_df.to_csv(join(fp_consolidated, \"pred_perf.csv\"))"
   ]
  },
  {
   "cell_type": "code",
   "execution_count": null,
   "id": "9cc40031",
   "metadata": {},
   "outputs": [],
   "source": [
    "print(df_to_latex(pred_perf_df, column_format_dict={\"Aggregated\": \"min\"}))"
   ]
  },
  {
   "cell_type": "markdown",
   "id": "e0c81544",
   "metadata": {},
   "source": [
    "# UE Performance"
   ]
  },
  {
   "cell_type": "code",
   "execution_count": null,
   "id": "919b30d6",
   "metadata": {},
   "outputs": [],
   "source": [
    "ue_perf_df = consolidate_ue_perf(seed_list, fp_evaluation, exclude_columns=\"Pval\")\n",
    "display_ue_perf(ue_perf_df, consolidated=True)"
   ]
  },
  {
   "cell_type": "code",
   "execution_count": null,
   "id": "84de51cf",
   "metadata": {},
   "outputs": [],
   "source": [
    "print(\n",
    "    df_to_latex_grouped(\n",
    "        ue_perf_df.drop(columns=[\"Sigma=0.3\", \"Sigma=0.4\"]), \n",
    "        {\"Corr\": \"max\", \"AURC\":\"min\", \"Sigma=0.1\": \"min\", \"Sigma=0.2\": \"min\", }) # \"Sigma=0.3\": \"min\", \"Sigma=0.4\": \"min\"\n",
    ")"
   ]
  },
  {
   "cell_type": "markdown",
   "id": "ecc3e105",
   "metadata": {},
   "source": [
    "# PI Performance"
   ]
  },
  {
   "cell_type": "code",
   "execution_count": null,
   "id": "30b5a156",
   "metadata": {},
   "outputs": [],
   "source": [
    "pi_perf_df = consolidate_pi_perf(\n",
    "    seed_list, fp_evaluation, selected_columns=[\"CovP\", \"PINAW\", \"PINAFD\", \"CWFDC\"],\n",
    "    pi_order=pi_order\n",
    ")\n",
    "display_pi_perf(pi_perf_df, consolidated=True)\n",
    "pi_perf_df.to_csv(join(fp_consolidated, \"pi_perf.csv\"))"
   ]
  },
  {
   "cell_type": "markdown",
   "id": "df75ed3c",
   "metadata": {},
   "source": [
    "## Heatmap"
   ]
  },
  {
   "cell_type": "code",
   "execution_count": null,
   "id": "e7701dc5",
   "metadata": {},
   "outputs": [],
   "source": [
    "generate_pi_heatmap(\n",
    "    seed_list, fp_evaluation=fp_evaluation, fp_consolidated=fp_consolidated, \n",
    "    bolded_methods=[\"RUE Gauss Copula\", \"RUE KNN\"], pi_order=pi_order, gamma=0.6, save_fig=True,\n",
    "    methods_to_drop=[\"RUE Cond Gauss\", \"RUE Weighted\"],\n",
    "    metrics=[\"CovP\", \"PINAW\",\"CWFDC\"], width=15, height=5.5\n",
    ")"
   ]
  },
  {
   "cell_type": "markdown",
   "id": "6cf5d38f",
   "metadata": {},
   "source": [
    "## Reorganised Table"
   ]
  },
  {
   "cell_type": "code",
   "execution_count": null,
   "id": "f3741588",
   "metadata": {},
   "outputs": [],
   "source": [
    "pi_perf_df_reorganised = reorganise_pi_table(\n",
    "    seed_list, fp_evaluation, pi_order, selected_columns=[\"CovP\", \"PINAW\", \"PINAFD\", \"CWFDC\"],\n",
    ")\n",
    "pi_perf_df_reorganised = pi_perf_df_reorganised.drop(columns=[f\"CWFDC\\nt+{i+1}\" for i in range(3)])\n",
    "display_pi_perf_reorganised(pi_perf_df_reorganised)"
   ]
  },
  {
   "cell_type": "markdown",
   "id": "dfa86640",
   "metadata": {},
   "source": [
    "## Time-Method Table"
   ]
  },
  {
   "cell_type": "code",
   "execution_count": null,
   "id": "0358d609",
   "metadata": {},
   "outputs": [],
   "source": [
    "print(\n",
    "    df_to_latex_grouped(\n",
    "        pi_perf_df, \n",
    "        {\"PINAW\":\"min\", \"PINAFD\": \"min\", \"CovP\":\"min\", \"CWFDC\":\"min\"})\n",
    ")"
   ]
  },
  {
   "cell_type": "code",
   "execution_count": null,
   "id": "e08d3f75",
   "metadata": {},
   "outputs": [],
   "source": []
  }
 ],
 "metadata": {
  "kernelspec": {
   "display_name": "main",
   "language": "python",
   "name": "python3"
  },
  "language_info": {
   "codemirror_mode": {
    "name": "ipython",
    "version": 3
   },
   "file_extension": ".py",
   "mimetype": "text/x-python",
   "name": "python",
   "nbconvert_exporter": "python",
   "pygments_lexer": "ipython3",
   "version": "3.10.14"
  }
 },
 "nbformat": 4,
 "nbformat_minor": 5
}
