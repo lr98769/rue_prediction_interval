{
 "cells": [
  {
   "cell_type": "markdown",
   "id": "627122cc",
   "metadata": {},
   "source": [
    "# Load Packages"
   ]
  },
  {
   "cell_type": "code",
   "execution_count": 2,
   "id": "9497f6f6",
   "metadata": {},
   "outputs": [
    {
     "name": "stderr",
     "output_type": "stream",
     "text": [
      "2025-05-26 11:58:22.770554: E external/local_xla/xla/stream_executor/cuda/cuda_fft.cc:485] Unable to register cuFFT factory: Attempting to register factory for plugin cuFFT when one has already been registered\n",
      "2025-05-26 11:58:22.787443: E external/local_xla/xla/stream_executor/cuda/cuda_dnn.cc:8454] Unable to register cuDNN factory: Attempting to register factory for plugin cuDNN when one has already been registered\n",
      "2025-05-26 11:58:22.792578: E external/local_xla/xla/stream_executor/cuda/cuda_blas.cc:1452] Unable to register cuBLAS factory: Attempting to register factory for plugin cuBLAS when one has already been registered\n",
      "2025-05-26 11:58:22.805111: I tensorflow/core/platform/cpu_feature_guard.cc:210] This TensorFlow binary is optimized to use available CPU instructions in performance-critical operations.\n",
      "To enable the following instructions: AVX2 FMA, in other operations, rebuild TensorFlow with the appropriate compiler flags.\n",
      "2025-05-26 11:58:23.526945: W tensorflow/compiler/tf2tensorrt/utils/py_utils.cc:38] TF-TRT Warning: Could not find TensorRT\n"
     ]
    }
   ],
   "source": [
    "%load_ext autoreload\n",
    "%autoreload 2\n",
    "\n",
    "import sys\n",
    "from os.path import join\n",
    "from tqdm.auto import tqdm\n",
    "sys.path.append(\"../../\")\n",
    "\n",
    "from src.file_manager.load_data import load_split_dict\n",
    "from src.models.sgpr.training import model_training_gpr\n",
    "from src.models.sgpr.save_load_model import save_model_gpr, load_model_gpr\n",
    "from src.models.sgpr.predicting import model_test_predictions_gpr\n",
    "from src.misc import create_folder\n",
    "from seed_file import seed\n",
    "\n",
    "# seed = 2023\n",
    "tuning_seed = 2023\n",
    "data_label = \"physionet\"\n",
    "batch_size = 64\n",
    "\n",
    "# File paths\n",
    "fp_notebooks_folder = \"../\"\n",
    "fp_project_folder = join(fp_notebooks_folder, \"../\")\n",
    "fp_data_folder = join(fp_project_folder, \"../\", \"data\")\n",
    "fp_output_data_folder = join(fp_data_folder, data_label)\n",
    "fp_checkpoint_folder = join(fp_project_folder, \"checkpoints\")\n",
    "fp_project_checkpoints = join(fp_checkpoint_folder, data_label)\n",
    "fp_tuning = join(fp_project_checkpoints, \"tuning\")\n",
    "fp_models = join(fp_project_checkpoints, \"models\")\n",
    "fp_predictions = join(fp_project_checkpoints, \"predictions\")\n",
    "\n",
    "# Seed filepaths\n",
    "fp_cur_tune_folder = join(fp_tuning, str(tuning_seed))\n",
    "create_folder(fp_cur_tune_folder)\n",
    "fp_cur_model_folder = join(fp_models, str(seed))\n",
    "create_folder(fp_cur_model_folder)\n",
    "fp_cur_predictions_folder = join(fp_predictions, str(seed))\n",
    "create_folder(fp_cur_predictions_folder)"
   ]
  },
  {
   "cell_type": "markdown",
   "id": "aa2e238b",
   "metadata": {},
   "source": [
    "# Load Data"
   ]
  },
  {
   "cell_type": "code",
   "execution_count": 3,
   "id": "13b1c951",
   "metadata": {},
   "outputs": [],
   "source": [
    "split_dict = load_split_dict(fp_output_data_folder)"
   ]
  },
  {
   "cell_type": "markdown",
   "id": "c39f61d0",
   "metadata": {},
   "source": []
  },
  {
   "cell_type": "code",
   "execution_count": null,
   "id": "28386a0d",
   "metadata": {},
   "outputs": [],
   "source": []
  }
 ],
 "metadata": {
  "kernelspec": {
   "display_name": "main",
   "language": "python",
   "name": "python3"
  },
  "language_info": {
   "codemirror_mode": {
    "name": "ipython",
    "version": 3
   },
   "file_extension": ".py",
   "mimetype": "text/x-python",
   "name": "python",
   "nbconvert_exporter": "python",
   "pygments_lexer": "ipython3",
   "version": "3.10.14"
  }
 },
 "nbformat": 4,
 "nbformat_minor": 5
}
