{
 "cells": [
  {
   "cell_type": "markdown",
   "id": "627122cc",
   "metadata": {},
   "source": [
    "# Load Packages"
   ]
  },
  {
   "cell_type": "code",
   "execution_count": 5,
   "id": "9497f6f6",
   "metadata": {},
   "outputs": [
    {
     "name": "stdout",
     "output_type": "stream",
     "text": [
      "The autoreload extension is already loaded. To reload it, use:\n",
      "  %reload_ext autoreload\n"
     ]
    }
   ],
   "source": [
    "\n",
    "%load_ext autoreload\n",
    "%autoreload 2\n",
    "\n",
    "import sys\n",
    "from os.path import join\n",
    "from tqdm.auto import tqdm\n",
    "import joblib\n",
    "sys.path.append(\"../../\")\n",
    "\n",
    "from src.file_manager.load_data import load_split_dict\n",
    "from src.models.rue.save_load_model import load_model\n",
    "from src.models.infernoise.tuning import tune_infernoise\n",
    "from src.models.infernoise.predicting import infernoise_test_predictions\n",
    "from src.misc import create_folder\n",
    "from seed_file import seed\n",
    "\n",
    "# seed = 2023\n",
    "tuning_seed = 2023\n",
    "data_label = \"physionet\"\n",
    "batch_size = 64\n",
    "\n",
    "# File paths\n",
    "fp_notebooks_folder = \"../\"\n",
    "fp_project_folder = join(fp_notebooks_folder, \"../\")\n",
    "fp_data_folder = join(fp_project_folder, \"../\", \"data\")\n",
    "fp_output_data_folder = join(fp_data_folder, data_label)\n",
    "fp_checkpoint_folder = join(fp_project_folder, \"checkpoints\")\n",
    "fp_project_checkpoints = join(fp_checkpoint_folder, data_label)\n",
    "fp_tuning = join(fp_project_checkpoints, \"tuning\")\n",
    "fp_models = join(fp_project_checkpoints, \"models\")\n",
    "fp_predictions = join(fp_project_checkpoints, \"predictions\")\n",
    "\n",
    "# Seed filepaths\n",
    "fp_cur_tune_folder = join(fp_tuning, str(tuning_seed))\n",
    "create_folder(fp_cur_tune_folder)\n",
    "fp_cur_model_folder = join(fp_models, str(seed))\n",
    "create_folder(fp_cur_model_folder)\n",
    "fp_cur_predictions_folder = join(fp_predictions, str(seed))\n",
    "create_folder(fp_cur_predictions_folder)"
   ]
  },
  {
   "cell_type": "markdown",
   "id": "aa2e238b",
   "metadata": {},
   "source": [
    "# Load Data"
   ]
  },
  {
   "cell_type": "code",
   "execution_count": 2,
   "id": "13b1c951",
   "metadata": {},
   "outputs": [],
   "source": [
    "split_dict = load_split_dict(fp_output_data_folder)"
   ]
  },
  {
   "cell_type": "markdown",
   "id": "c39f61d0",
   "metadata": {},
   "source": [
    "# Tuning"
   ]
  },
  {
   "cell_type": "code",
   "execution_count": 4,
   "id": "28386a0d",
   "metadata": {},
   "outputs": [
    {
     "data": {
      "application/vnd.jupyter.widget-view+json": {
       "model_id": "43d32fe8c7454d81a453881f9fbdd4f0",
       "version_major": 2,
       "version_minor": 0
      },
      "text/plain": [
       "  0%|          | 0/3 [00:00<?, ?it/s]"
      ]
     },
     "metadata": {},
     "output_type": "display_data"
    },
    {
     "name": "stderr",
     "output_type": "stream",
     "text": [
      "WARNING:absl:No training configuration found in the save file, so the model was *not* compiled. Compile it manually.\n"
     ]
    },
    {
     "data": {
      "application/vnd.jupyter.widget-view+json": {
       "model_id": "3d78a4dbab1e4694a0b538548f5cc0d2",
       "version_major": 2,
       "version_minor": 0
      },
      "text/plain": [
       "  0%|          | 0/10 [00:00<?, ?it/s]"
      ]
     },
     "metadata": {},
     "output_type": "display_data"
    },
    {
     "data": {
      "text/html": [
       "<div>\n",
       "<style scoped>\n",
       "    .dataframe tbody tr th:only-of-type {\n",
       "        vertical-align: middle;\n",
       "    }\n",
       "\n",
       "    .dataframe tbody tr th {\n",
       "        vertical-align: top;\n",
       "    }\n",
       "\n",
       "    .dataframe thead th {\n",
       "        text-align: right;\n",
       "    }\n",
       "</style>\n",
       "<table border=\"1\" class=\"dataframe\">\n",
       "  <thead>\n",
       "    <tr style=\"text-align: right;\">\n",
       "      <th></th>\n",
       "      <th>std</th>\n",
       "      <th>correlation</th>\n",
       "      <th>loss</th>\n",
       "      <th>best_hyperparameter</th>\n",
       "    </tr>\n",
       "  </thead>\n",
       "  <tbody>\n",
       "    <tr>\n",
       "      <th>0</th>\n",
       "      <td>0.00001</td>\n",
       "      <td>0.013303</td>\n",
       "      <td>0.029778</td>\n",
       "      <td>True</td>\n",
       "    </tr>\n",
       "    <tr>\n",
       "      <th>1</th>\n",
       "      <td>0.00005</td>\n",
       "      <td>0.013328</td>\n",
       "      <td>0.029778</td>\n",
       "      <td>False</td>\n",
       "    </tr>\n",
       "    <tr>\n",
       "      <th>2</th>\n",
       "      <td>0.00010</td>\n",
       "      <td>0.013308</td>\n",
       "      <td>0.029778</td>\n",
       "      <td>False</td>\n",
       "    </tr>\n",
       "    <tr>\n",
       "      <th>3</th>\n",
       "      <td>0.00500</td>\n",
       "      <td>0.011156</td>\n",
       "      <td>0.029842</td>\n",
       "      <td>False</td>\n",
       "    </tr>\n",
       "    <tr>\n",
       "      <th>4</th>\n",
       "      <td>0.01000</td>\n",
       "      <td>0.008464</td>\n",
       "      <td>0.030023</td>\n",
       "      <td>False</td>\n",
       "    </tr>\n",
       "    <tr>\n",
       "      <th>5</th>\n",
       "      <td>0.02000</td>\n",
       "      <td>0.003742</td>\n",
       "      <td>0.030669</td>\n",
       "      <td>False</td>\n",
       "    </tr>\n",
       "    <tr>\n",
       "      <th>6</th>\n",
       "      <td>0.05000</td>\n",
       "      <td>-0.005831</td>\n",
       "      <td>0.034601</td>\n",
       "      <td>False</td>\n",
       "    </tr>\n",
       "    <tr>\n",
       "      <th>7</th>\n",
       "      <td>0.10000</td>\n",
       "      <td>-0.016790</td>\n",
       "      <td>0.045051</td>\n",
       "      <td>False</td>\n",
       "    </tr>\n",
       "    <tr>\n",
       "      <th>8</th>\n",
       "      <td>0.20000</td>\n",
       "      <td>-0.020945</td>\n",
       "      <td>0.071654</td>\n",
       "      <td>False</td>\n",
       "    </tr>\n",
       "    <tr>\n",
       "      <th>9</th>\n",
       "      <td>0.50000</td>\n",
       "      <td>-0.011766</td>\n",
       "      <td>0.162222</td>\n",
       "      <td>False</td>\n",
       "    </tr>\n",
       "  </tbody>\n",
       "</table>\n",
       "</div>"
      ],
      "text/plain": [
       "       std  correlation      loss  best_hyperparameter\n",
       "0  0.00001     0.013303  0.029778                 True\n",
       "1  0.00005     0.013328  0.029778                False\n",
       "2  0.00010     0.013308  0.029778                False\n",
       "3  0.00500     0.011156  0.029842                False\n",
       "4  0.01000     0.008464  0.030023                False\n",
       "5  0.02000     0.003742  0.030669                False\n",
       "6  0.05000    -0.005831  0.034601                False\n",
       "7  0.10000    -0.016790  0.045051                False\n",
       "8  0.20000    -0.020945  0.071654                False\n",
       "9  0.50000    -0.011766  0.162222                False"
      ]
     },
     "metadata": {},
     "output_type": "display_data"
    },
    {
     "name": "stderr",
     "output_type": "stream",
     "text": [
      "WARNING:absl:No training configuration found in the save file, so the model was *not* compiled. Compile it manually.\n"
     ]
    },
    {
     "data": {
      "application/vnd.jupyter.widget-view+json": {
       "model_id": "123c9f2867a4470689adc48283b5bf39",
       "version_major": 2,
       "version_minor": 0
      },
      "text/plain": [
       "  0%|          | 0/10 [00:00<?, ?it/s]"
      ]
     },
     "metadata": {},
     "output_type": "display_data"
    },
    {
     "data": {
      "text/html": [
       "<div>\n",
       "<style scoped>\n",
       "    .dataframe tbody tr th:only-of-type {\n",
       "        vertical-align: middle;\n",
       "    }\n",
       "\n",
       "    .dataframe tbody tr th {\n",
       "        vertical-align: top;\n",
       "    }\n",
       "\n",
       "    .dataframe thead th {\n",
       "        text-align: right;\n",
       "    }\n",
       "</style>\n",
       "<table border=\"1\" class=\"dataframe\">\n",
       "  <thead>\n",
       "    <tr style=\"text-align: right;\">\n",
       "      <th></th>\n",
       "      <th>std</th>\n",
       "      <th>correlation</th>\n",
       "      <th>loss</th>\n",
       "      <th>best_hyperparameter</th>\n",
       "    </tr>\n",
       "  </thead>\n",
       "  <tbody>\n",
       "    <tr>\n",
       "      <th>0</th>\n",
       "      <td>0.00001</td>\n",
       "      <td>-0.031413</td>\n",
       "      <td>0.033366</td>\n",
       "      <td>True</td>\n",
       "    </tr>\n",
       "    <tr>\n",
       "      <th>1</th>\n",
       "      <td>0.00005</td>\n",
       "      <td>-0.031469</td>\n",
       "      <td>0.033366</td>\n",
       "      <td>False</td>\n",
       "    </tr>\n",
       "    <tr>\n",
       "      <th>2</th>\n",
       "      <td>0.00010</td>\n",
       "      <td>-0.031479</td>\n",
       "      <td>0.033366</td>\n",
       "      <td>False</td>\n",
       "    </tr>\n",
       "    <tr>\n",
       "      <th>3</th>\n",
       "      <td>0.00500</td>\n",
       "      <td>-0.032154</td>\n",
       "      <td>0.033426</td>\n",
       "      <td>False</td>\n",
       "    </tr>\n",
       "    <tr>\n",
       "      <th>4</th>\n",
       "      <td>0.01000</td>\n",
       "      <td>-0.033205</td>\n",
       "      <td>0.033571</td>\n",
       "      <td>False</td>\n",
       "    </tr>\n",
       "    <tr>\n",
       "      <th>5</th>\n",
       "      <td>0.02000</td>\n",
       "      <td>-0.034385</td>\n",
       "      <td>0.034119</td>\n",
       "      <td>False</td>\n",
       "    </tr>\n",
       "    <tr>\n",
       "      <th>6</th>\n",
       "      <td>0.05000</td>\n",
       "      <td>-0.031174</td>\n",
       "      <td>0.037627</td>\n",
       "      <td>False</td>\n",
       "    </tr>\n",
       "    <tr>\n",
       "      <th>7</th>\n",
       "      <td>0.10000</td>\n",
       "      <td>-0.027746</td>\n",
       "      <td>0.047583</td>\n",
       "      <td>False</td>\n",
       "    </tr>\n",
       "    <tr>\n",
       "      <th>8</th>\n",
       "      <td>0.20000</td>\n",
       "      <td>-0.024957</td>\n",
       "      <td>0.073640</td>\n",
       "      <td>False</td>\n",
       "    </tr>\n",
       "    <tr>\n",
       "      <th>9</th>\n",
       "      <td>0.50000</td>\n",
       "      <td>-0.016268</td>\n",
       "      <td>0.163285</td>\n",
       "      <td>False</td>\n",
       "    </tr>\n",
       "  </tbody>\n",
       "</table>\n",
       "</div>"
      ],
      "text/plain": [
       "       std  correlation      loss  best_hyperparameter\n",
       "0  0.00001    -0.031413  0.033366                 True\n",
       "1  0.00005    -0.031469  0.033366                False\n",
       "2  0.00010    -0.031479  0.033366                False\n",
       "3  0.00500    -0.032154  0.033426                False\n",
       "4  0.01000    -0.033205  0.033571                False\n",
       "5  0.02000    -0.034385  0.034119                False\n",
       "6  0.05000    -0.031174  0.037627                False\n",
       "7  0.10000    -0.027746  0.047583                False\n",
       "8  0.20000    -0.024957  0.073640                False\n",
       "9  0.50000    -0.016268  0.163285                False"
      ]
     },
     "metadata": {},
     "output_type": "display_data"
    },
    {
     "name": "stderr",
     "output_type": "stream",
     "text": [
      "WARNING:absl:No training configuration found in the save file, so the model was *not* compiled. Compile it manually.\n"
     ]
    },
    {
     "data": {
      "application/vnd.jupyter.widget-view+json": {
       "model_id": "c8e9224e880f42e48a5cfcce56dc7d06",
       "version_major": 2,
       "version_minor": 0
      },
      "text/plain": [
       "  0%|          | 0/10 [00:00<?, ?it/s]"
      ]
     },
     "metadata": {},
     "output_type": "display_data"
    },
    {
     "data": {
      "text/html": [
       "<div>\n",
       "<style scoped>\n",
       "    .dataframe tbody tr th:only-of-type {\n",
       "        vertical-align: middle;\n",
       "    }\n",
       "\n",
       "    .dataframe tbody tr th {\n",
       "        vertical-align: top;\n",
       "    }\n",
       "\n",
       "    .dataframe thead th {\n",
       "        text-align: right;\n",
       "    }\n",
       "</style>\n",
       "<table border=\"1\" class=\"dataframe\">\n",
       "  <thead>\n",
       "    <tr style=\"text-align: right;\">\n",
       "      <th></th>\n",
       "      <th>std</th>\n",
       "      <th>correlation</th>\n",
       "      <th>loss</th>\n",
       "      <th>best_hyperparameter</th>\n",
       "    </tr>\n",
       "  </thead>\n",
       "  <tbody>\n",
       "    <tr>\n",
       "      <th>0</th>\n",
       "      <td>0.00001</td>\n",
       "      <td>0.018313</td>\n",
       "      <td>0.036005</td>\n",
       "      <td>True</td>\n",
       "    </tr>\n",
       "    <tr>\n",
       "      <th>1</th>\n",
       "      <td>0.00005</td>\n",
       "      <td>0.018297</td>\n",
       "      <td>0.036005</td>\n",
       "      <td>False</td>\n",
       "    </tr>\n",
       "    <tr>\n",
       "      <th>2</th>\n",
       "      <td>0.00010</td>\n",
       "      <td>0.018278</td>\n",
       "      <td>0.036005</td>\n",
       "      <td>False</td>\n",
       "    </tr>\n",
       "    <tr>\n",
       "      <th>3</th>\n",
       "      <td>0.00500</td>\n",
       "      <td>0.016125</td>\n",
       "      <td>0.036052</td>\n",
       "      <td>False</td>\n",
       "    </tr>\n",
       "    <tr>\n",
       "      <th>4</th>\n",
       "      <td>0.01000</td>\n",
       "      <td>0.013671</td>\n",
       "      <td>0.036190</td>\n",
       "      <td>False</td>\n",
       "    </tr>\n",
       "    <tr>\n",
       "      <th>5</th>\n",
       "      <td>0.02000</td>\n",
       "      <td>0.009662</td>\n",
       "      <td>0.036738</td>\n",
       "      <td>False</td>\n",
       "    </tr>\n",
       "    <tr>\n",
       "      <th>6</th>\n",
       "      <td>0.05000</td>\n",
       "      <td>0.000219</td>\n",
       "      <td>0.040372</td>\n",
       "      <td>False</td>\n",
       "    </tr>\n",
       "    <tr>\n",
       "      <th>7</th>\n",
       "      <td>0.10000</td>\n",
       "      <td>-0.013568</td>\n",
       "      <td>0.051059</td>\n",
       "      <td>False</td>\n",
       "    </tr>\n",
       "    <tr>\n",
       "      <th>8</th>\n",
       "      <td>0.20000</td>\n",
       "      <td>-0.018230</td>\n",
       "      <td>0.079176</td>\n",
       "      <td>False</td>\n",
       "    </tr>\n",
       "    <tr>\n",
       "      <th>9</th>\n",
       "      <td>0.50000</td>\n",
       "      <td>-0.022369</td>\n",
       "      <td>0.176933</td>\n",
       "      <td>False</td>\n",
       "    </tr>\n",
       "  </tbody>\n",
       "</table>\n",
       "</div>"
      ],
      "text/plain": [
       "       std  correlation      loss  best_hyperparameter\n",
       "0  0.00001     0.018313  0.036005                 True\n",
       "1  0.00005     0.018297  0.036005                False\n",
       "2  0.00010     0.018278  0.036005                False\n",
       "3  0.00500     0.016125  0.036052                False\n",
       "4  0.01000     0.013671  0.036190                False\n",
       "5  0.02000     0.009662  0.036738                False\n",
       "6  0.05000     0.000219  0.040372                False\n",
       "7  0.10000    -0.013568  0.051059                False\n",
       "8  0.20000    -0.018230  0.079176                False\n",
       "9  0.50000    -0.022369  0.176933                False"
      ]
     },
     "metadata": {},
     "output_type": "display_data"
    },
    {
     "data": {
      "text/plain": [
       "{'t+1': 1e-05, 't+2': 1e-05, 't+3': 1e-05}"
      ]
     },
     "metadata": {},
     "output_type": "display_data"
    }
   ],
   "source": [
    "if seed == tuning_seed:\n",
    "    infernoise_best_hp_dict = {}\n",
    "    for time_label, target_cols in tqdm(split_dict[\"target_cols\"].items()):\n",
    "        ae_regressor = load_model(\n",
    "            name=f\"rue_{time_label}\", fp_checkpoints=fp_cur_model_folder)\n",
    "        infernoise_tuning_df = tune_infernoise(\n",
    "            ae_regressor, stddev_list=[0.00001, 0.00005, 0.0001, 0.005, 0.01, 0.02, 0.05, 0.1, 0.2, 0.5], \n",
    "            valid_df=split_dict[\"valid_df\"], inputs=split_dict[\"feat_cols\"], outputs=target_cols, \n",
    "            seed=seed, T=10, regressor_label=\"_\"+time_label\n",
    "        )\n",
    "        display(infernoise_tuning_df)\n",
    "        infernoise_tuning_df.to_csv(join(fp_cur_tune_folder, f\"tuning_infernoise_{time_label}.csv\"))\n",
    "        infernoise_best_hp_dict[time_label] = infernoise_tuning_df.iloc[infernoise_tuning_df[\"loss\"].argmin(), 0]\n",
    "    joblib.dump(infernoise_best_hp_dict, join(fp_cur_tune_folder, \"all_infernoise_predictor_best_hp.joblib\"))\n",
    "    display(infernoise_best_hp_dict)"
   ]
  },
  {
   "cell_type": "markdown",
   "id": "32e2f19e",
   "metadata": {},
   "source": [
    "# Prediction"
   ]
  },
  {
   "cell_type": "code",
   "execution_count": null,
   "id": "c9ddd8e2",
   "metadata": {},
   "outputs": [
    {
     "data": {
      "application/vnd.jupyter.widget-view+json": {
       "model_id": "79ce3b4c74da4774885c245fc8bb2f2e",
       "version_major": 2,
       "version_minor": 0
      },
      "text/plain": [
       "  0%|          | 0/3 [00:00<?, ?it/s]"
      ]
     },
     "metadata": {},
     "output_type": "display_data"
    },
    {
     "name": "stderr",
     "output_type": "stream",
     "text": [
      "WARNING:absl:No training configuration found in the save file, so the model was *not* compiled. Compile it manually.\n",
      "WARNING:absl:No training configuration found in the save file, so the model was *not* compiled. Compile it manually.\n",
      "WARNING:absl:No training configuration found in the save file, so the model was *not* compiled. Compile it manually.\n"
     ]
    },
    {
     "ename": "",
     "evalue": "",
     "output_type": "error",
     "traceback": [
      "\u001b[1;31mThe Kernel crashed while executing code in the current cell or a previous cell. \n",
      "\u001b[1;31mPlease review the code in the cell(s) to identify a possible cause of the failure. \n",
      "\u001b[1;31mClick <a href='https://aka.ms/vscodeJupyterKernelCrash'>here</a> for more info. \n",
      "\u001b[1;31mView Jupyter <a href='command:jupyter.viewOutput'>log</a> for further details."
     ]
    }
   ],
   "source": [
    "infernoise_best_hp_dict = joblib.load(\n",
    "    join(fp_cur_tune_folder, \"all_infernoise_predictor_best_hp.joblib\"))\n",
    "for time_label, target_cols in tqdm(split_dict[\"target_cols\"].items()):\n",
    "    ae_regressor = load_model(\n",
    "            name=f\"rue_{time_label}\", fp_checkpoints=fp_cur_model_folder)\n",
    "    infernoise_valid_df = infernoise_test_predictions(\n",
    "         ae_regressor, test_df=split_dict[\"valid_df\"], \n",
    "         inputs=split_dict[\"feat_cols\"], outputs=target_cols, regressor_label=\"_\"+time_label, \n",
    "        seed=seed, T=10, stddev=infernoise_best_hp_dict[time_label])\n",
    "    infernoise_test_df = infernoise_test_predictions(\n",
    "         ae_regressor, test_df=split_dict[\"test_df\"], \n",
    "         inputs=split_dict[\"feat_cols\"], outputs=target_cols, regressor_label=\"_\"+time_label, \n",
    "        seed=seed, T=10, stddev=infernoise_best_hp_dict[time_label])\n",
    "    infernoise_valid_df.to_csv(join(fp_cur_predictions_folder, f\"infernoise_valid_{time_label[-1]}.csv\"))\n",
    "    infernoise_test_df.to_csv(join(fp_cur_predictions_folder, f\"infernoise_test_{time_label[-1]}.csv\"))"
   ]
  }
 ],
 "metadata": {
  "kernelspec": {
   "display_name": "main",
   "language": "python",
   "name": "python3"
  },
  "language_info": {
   "codemirror_mode": {
    "name": "ipython",
    "version": 3
   },
   "file_extension": ".py",
   "mimetype": "text/x-python",
   "name": "python",
   "nbconvert_exporter": "python",
   "pygments_lexer": "ipython3",
   "version": "3.10.14"
  }
 },
 "nbformat": 4,
 "nbformat_minor": 5
}
