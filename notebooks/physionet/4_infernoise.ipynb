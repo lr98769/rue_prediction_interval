{
 "cells": [
  {
   "cell_type": "markdown",
   "id": "627122cc",
   "metadata": {},
   "source": [
    "# Load Packages"
   ]
  },
  {
   "cell_type": "code",
   "execution_count": null,
   "id": "9497f6f6",
   "metadata": {},
   "outputs": [],
   "source": [
    "\n",
    "%load_ext autoreload\n",
    "%autoreload 2\n",
    "\n",
    "import sys\n",
    "from os.path import join\n",
    "from tqdm.auto import tqdm\n",
    "import joblib\n",
    "sys.path.append(\"../../\")\n",
    "\n",
    "from src.file_manager.load_data import load_split_dict\n",
    "from src.models.rue.save_load_model import load_model\n",
    "from src.models.infernoise.tuning import tune_infernoise\n",
    "from src.models.infernoise.predicting import infernoise_test_predictions\n",
    "from src.misc import create_folder\n",
    "from seed_file import seed\n",
    "\n",
    "# seed = 2023\n",
    "tuning_seed = 2023\n",
    "data_label = \"physionet\"\n",
    "batch_size = 64\n",
    "\n",
    "# File paths\n",
    "fp_notebooks_folder = \"../\"\n",
    "fp_project_folder = join(fp_notebooks_folder, \"../\")\n",
    "fp_processed_data_folder = join(fp_project_folder, \"processed_data\")\n",
    "fp_output_data_folder = join(fp_processed_data_folder, \"physionet\")\n",
    "fp_checkpoint_folder = join(fp_project_folder, \"checkpoints\")\n",
    "fp_project_checkpoints = join(fp_checkpoint_folder, data_label)\n",
    "fp_tuning = join(fp_project_checkpoints, \"tuning\")\n",
    "fp_models = join(fp_project_checkpoints, \"models\")\n",
    "fp_predictions = join(fp_project_checkpoints, \"predictions\")\n",
    "\n",
    "# Seed filepaths\n",
    "fp_cur_tune_folder = join(fp_tuning, str(tuning_seed))\n",
    "create_folder(fp_cur_tune_folder)\n",
    "fp_cur_model_folder = join(fp_models, str(seed))\n",
    "create_folder(fp_cur_model_folder)\n",
    "fp_cur_predictions_folder = join(fp_predictions, str(seed))\n",
    "create_folder(fp_cur_predictions_folder)"
   ]
  },
  {
   "cell_type": "markdown",
   "id": "aa2e238b",
   "metadata": {},
   "source": [
    "# Load Data"
   ]
  },
  {
   "cell_type": "code",
   "execution_count": null,
   "id": "13b1c951",
   "metadata": {},
   "outputs": [],
   "source": [
    "split_dict = load_split_dict(fp_output_data_folder)"
   ]
  },
  {
   "cell_type": "markdown",
   "id": "c39f61d0",
   "metadata": {},
   "source": [
    "# Tuning"
   ]
  },
  {
   "cell_type": "code",
   "execution_count": null,
   "id": "28386a0d",
   "metadata": {},
   "outputs": [],
   "source": [
    "if seed == tuning_seed:\n",
    "    infernoise_best_hp_dict = {}\n",
    "    for time_label, target_cols in tqdm(split_dict[\"target_cols\"].items()):\n",
    "        ae_regressor = load_model(\n",
    "            name=f\"rue_{time_label}\", fp_checkpoints=fp_cur_model_folder)\n",
    "        infernoise_tuning_df = tune_infernoise(\n",
    "            ae_regressor, stddev_list=[0.00001, 0.00005, 0.0001, 0.005, 0.01, 0.02, 0.05, 0.1, 0.2, 0.5], \n",
    "            valid_df=split_dict[\"valid_df\"], inputs=split_dict[\"feat_cols\"], outputs=target_cols, \n",
    "            seed=seed, T=10, regressor_label=\"_\"+time_label\n",
    "        )\n",
    "        display(infernoise_tuning_df)\n",
    "        infernoise_tuning_df.to_csv(join(fp_cur_tune_folder, f\"tuning_infernoise_{time_label}.csv\"))\n",
    "        infernoise_best_hp_dict[time_label] = infernoise_tuning_df.iloc[infernoise_tuning_df[\"loss\"].argmin(), 0]\n",
    "    joblib.dump(infernoise_best_hp_dict, join(fp_cur_tune_folder, \"all_infernoise_predictor_best_hp.joblib\"))\n",
    "    display(infernoise_best_hp_dict)"
   ]
  },
  {
   "cell_type": "markdown",
   "id": "32e2f19e",
   "metadata": {},
   "source": [
    "# Prediction"
   ]
  },
  {
   "cell_type": "code",
   "execution_count": null,
   "id": "c9ddd8e2",
   "metadata": {},
   "outputs": [],
   "source": [
    "infernoise_best_hp_dict = joblib.load(\n",
    "    join(fp_cur_tune_folder, \"all_infernoise_predictor_best_hp.joblib\"))\n",
    "for time_label, target_cols in tqdm(split_dict[\"target_cols\"].items()):\n",
    "    ae_regressor = load_model(\n",
    "            name=f\"rue_{time_label}\", fp_checkpoints=fp_cur_model_folder)\n",
    "    infernoise_valid_df = infernoise_test_predictions(\n",
    "         ae_regressor, test_df=split_dict[\"valid_df\"], \n",
    "         inputs=split_dict[\"feat_cols\"], outputs=target_cols, regressor_label=\"_\"+time_label, \n",
    "        seed=seed, T=10, stddev=infernoise_best_hp_dict[time_label])\n",
    "    infernoise_test_df = infernoise_test_predictions(\n",
    "         ae_regressor, test_df=split_dict[\"test_df\"], \n",
    "         inputs=split_dict[\"feat_cols\"], outputs=target_cols, regressor_label=\"_\"+time_label, \n",
    "        seed=seed, T=10, stddev=infernoise_best_hp_dict[time_label])\n",
    "    infernoise_valid_df.to_csv(join(fp_cur_predictions_folder, f\"infernoise_valid_{time_label[-1]}.csv\"))\n",
    "    infernoise_test_df.to_csv(join(fp_cur_predictions_folder, f\"infernoise_test_{time_label[-1]}.csv\"))"
   ]
  }
 ],
 "metadata": {
  "kernelspec": {
   "display_name": "main",
   "language": "python",
   "name": "python3"
  },
  "language_info": {
   "codemirror_mode": {
    "name": "ipython",
    "version": 3
   },
   "file_extension": ".py",
   "mimetype": "text/x-python",
   "name": "python",
   "nbconvert_exporter": "python",
   "pygments_lexer": "ipython3",
   "version": "3.10.14"
  }
 },
 "nbformat": 4,
 "nbformat_minor": 5
}
