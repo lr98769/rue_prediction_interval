{
 "cells": [
  {
   "cell_type": "markdown",
   "id": "b7abd654",
   "metadata": {},
   "source": [
    "# Load Packages"
   ]
  },
  {
   "cell_type": "code",
   "execution_count": 15,
   "id": "daeed8b1",
   "metadata": {},
   "outputs": [
    {
     "name": "stdout",
     "output_type": "stream",
     "text": [
      "The autoreload extension is already loaded. To reload it, use:\n",
      "  %reload_ext autoreload\n"
     ]
    }
   ],
   "source": [
    "\n",
    "%load_ext autoreload\n",
    "%autoreload 2\n",
    "\n",
    "import sys\n",
    "from os.path import join\n",
    "from tqdm.auto import tqdm\n",
    "import joblib\n",
    "import torch\n",
    "sys.path.append(\"../../\")\n",
    "\n",
    "from src.file_manager.load_data import load_split_dict\n",
    "from src.file_processing.processing_predictions import load_prediction_df_dict, save_pi_df_dict\n",
    "from src.file_processing.processing_predictions import load_pi_df_dict\n",
    "from src.file_manager.save_load_scaler import load_scaler\n",
    "from src.pi_methods.knn import knn_prediction_interval\n",
    "from src.pi_methods.weighted import weighted_prediction_interval\n",
    "from src.pi_methods.cond_gaussian import cond_gauss_prediction_interval\n",
    "from src.pi_methods.gaussian_copula import gauss_copula_prediction_interval\n",
    "from src.pi_methods.conformal_prediction import conformal_prediction_interval\n",
    "from src.evaluation.investigate_re_pe_distribution import investigate_re_n_pe_for_all_seeds, investigate_re_n_pe\n",
    "from src.misc import create_folder\n",
    "from ue_pi_dicts import ue_dict\n",
    "# from seed_file import seed\n",
    "\n",
    "seed_list = [2023, 2024, 2025, 2026, 2027]\n",
    "data_label = \"physionet\"\n",
    "batch_size = 64\n",
    "\n",
    "# File paths\n",
    "fp_notebooks_folder = \"../\"\n",
    "fp_project_folder = join(fp_notebooks_folder, \"../\")\n",
    "fp_data_folder = join(fp_project_folder, \"../\", \"data\")\n",
    "fp_output_data_folder = join(fp_data_folder, data_label)\n",
    "fp_checkpoint_folder = join(fp_project_folder, \"checkpoints\")\n",
    "fp_project_checkpoints = join(fp_checkpoint_folder, data_label)\n",
    "fp_tuning = join(fp_project_checkpoints, \"tuning\")\n",
    "fp_models = join(fp_project_checkpoints, \"models\")\n",
    "fp_predictions = join(fp_project_checkpoints, \"predictions\")\n",
    "fp_pi_predictions = join(fp_project_checkpoints, \"pi_predictions\")\n",
    "\n",
    "pred_file_names =  [\"rue\", \"gpr\", \"infernoise\", \"der\", \"bnn\"]"
   ]
  },
  {
   "cell_type": "markdown",
   "id": "89d137dc",
   "metadata": {},
   "source": [
    "# Load Data"
   ]
  },
  {
   "cell_type": "code",
   "execution_count": null,
   "id": "8a98cf4c",
   "metadata": {},
   "outputs": [],
   "source": [
    "split_dict = load_split_dict(fp_output_data_folder)\n",
    "scaler = load_scaler(join(fp_output_data_folder, \"scaler.pickle\"))"
   ]
  },
  {
   "cell_type": "markdown",
   "id": "0938ea57",
   "metadata": {},
   "source": [
    "# Investigate Recon-Pred Error Space"
   ]
  },
  {
   "cell_type": "code",
   "execution_count": 17,
   "id": "61316c25",
   "metadata": {},
   "outputs": [
    {
     "data": {
      "application/vnd.jupyter.widget-view+json": {
       "model_id": "bdc38b22cd2d40e4843ce1ec16ef55ec",
       "version_major": 2,
       "version_minor": 0
      },
      "text/plain": [
       "  0%|          | 0/3 [00:00<?, ?it/s]"
      ]
     },
     "metadata": {},
     "output_type": "display_data"
    },
    {
     "name": "stderr",
     "output_type": "stream",
     "text": [
      "/home/lirong/miniconda3/envs/main/lib/python3.10/site-packages/scipy/stats/_stats_py.py:9694: RuntimeWarning: divide by zero encountered in log\n",
      "  statistic = -2 * np.sum(np.log(pvalues))\n",
      "/home/lirong/miniconda3/envs/main/lib/python3.10/site-packages/scipy/stats/_stats_py.py:9694: RuntimeWarning: divide by zero encountered in log\n",
      "  statistic = -2 * np.sum(np.log(pvalues))\n",
      "/home/lirong/miniconda3/envs/main/lib/python3.10/site-packages/scipy/stats/_stats_py.py:9694: RuntimeWarning: divide by zero encountered in log\n",
      "  statistic = -2 * np.sum(np.log(pvalues))\n"
     ]
    },
    {
     "data": {
      "text/html": [
       "<div>\n",
       "<style scoped>\n",
       "    .dataframe tbody tr th:only-of-type {\n",
       "        vertical-align: middle;\n",
       "    }\n",
       "\n",
       "    .dataframe tbody tr th {\n",
       "        vertical-align: top;\n",
       "    }\n",
       "\n",
       "    .dataframe thead th {\n",
       "        text-align: right;\n",
       "    }\n",
       "</style>\n",
       "<table border=\"1\" class=\"dataframe\">\n",
       "  <thead>\n",
       "    <tr style=\"text-align: right;\">\n",
       "      <th></th>\n",
       "      <th>dist\\ntest_df</th>\n",
       "      <th>dist\\nvalid_df</th>\n",
       "      <th>dist meaning\\ntest_df</th>\n",
       "      <th>dist meaning\\nvalid_df</th>\n",
       "      <th>marginal gauss\\ntest_df</th>\n",
       "      <th>marginal gauss\\nvalid_df</th>\n",
       "      <th>normality pval test_df</th>\n",
       "      <th>normality pval valid_df</th>\n",
       "      <th>normality stat test_df</th>\n",
       "      <th>normality stat valid_df</th>\n",
       "    </tr>\n",
       "  </thead>\n",
       "  <tbody>\n",
       "    <tr>\n",
       "      <th>t+1</th>\n",
       "      <td>0.194552</td>\n",
       "      <td>0.214747</td>\n",
       "      <td>0.084094</td>\n",
       "      <td>0.091607</td>\n",
       "      <td>0.0</td>\n",
       "      <td>0.0</td>\n",
       "      <td>0.0</td>\n",
       "      <td>0.0</td>\n",
       "      <td>5.000152</td>\n",
       "      <td>1.608526</td>\n",
       "    </tr>\n",
       "    <tr>\n",
       "      <th>t+2</th>\n",
       "      <td>0.102844</td>\n",
       "      <td>0.112172</td>\n",
       "      <td>0.065991</td>\n",
       "      <td>0.081030</td>\n",
       "      <td>0.0</td>\n",
       "      <td>0.0</td>\n",
       "      <td>0.0</td>\n",
       "      <td>0.0</td>\n",
       "      <td>5.032879</td>\n",
       "      <td>1.714476</td>\n",
       "    </tr>\n",
       "    <tr>\n",
       "      <th>t+3</th>\n",
       "      <td>0.142527</td>\n",
       "      <td>0.156089</td>\n",
       "      <td>0.060066</td>\n",
       "      <td>0.075562</td>\n",
       "      <td>0.0</td>\n",
       "      <td>0.0</td>\n",
       "      <td>0.0</td>\n",
       "      <td>0.0</td>\n",
       "      <td>4.873604</td>\n",
       "      <td>1.614015</td>\n",
       "    </tr>\n",
       "  </tbody>\n",
       "</table>\n",
       "</div>"
      ],
      "text/plain": [
       "     dist\\ntest_df  dist\\nvalid_df  dist meaning\\ntest_df  \\\n",
       "t+1       0.194552        0.214747               0.084094   \n",
       "t+2       0.102844        0.112172               0.065991   \n",
       "t+3       0.142527        0.156089               0.060066   \n",
       "\n",
       "     dist meaning\\nvalid_df  marginal gauss\\ntest_df  \\\n",
       "t+1                0.091607                      0.0   \n",
       "t+2                0.081030                      0.0   \n",
       "t+3                0.075562                      0.0   \n",
       "\n",
       "     marginal gauss\\nvalid_df  normality pval test_df  \\\n",
       "t+1                       0.0                     0.0   \n",
       "t+2                       0.0                     0.0   \n",
       "t+3                       0.0                     0.0   \n",
       "\n",
       "     normality pval valid_df  normality stat test_df  normality stat valid_df  \n",
       "t+1                      0.0                5.000152                 1.608526  \n",
       "t+2                      0.0                5.032879                 1.714476  \n",
       "t+3                      0.0                4.873604                 1.614015  "
      ]
     },
     "execution_count": 17,
     "metadata": {},
     "output_type": "execute_result"
    }
   ],
   "source": [
    "investigate_re_n_pe(pred_df_dict, split_dict)"
   ]
  },
  {
   "cell_type": "code",
   "execution_count": 18,
   "id": "bc38d923",
   "metadata": {},
   "outputs": [
    {
     "data": {
      "application/vnd.jupyter.widget-view+json": {
       "model_id": "8dc89de46a1849cbb0a9632fbc227c04",
       "version_major": 2,
       "version_minor": 0
      },
      "text/plain": [
       "  0%|          | 0/5 [00:00<?, ?it/s]"
      ]
     },
     "metadata": {},
     "output_type": "display_data"
    },
    {
     "data": {
      "application/vnd.jupyter.widget-view+json": {
       "model_id": "cfd53cfcf5c148139d141f70504b9095",
       "version_major": 2,
       "version_minor": 0
      },
      "text/plain": [
       "  0%|          | 0/3 [00:00<?, ?it/s]"
      ]
     },
     "metadata": {},
     "output_type": "display_data"
    },
    {
     "name": "stdout",
     "output_type": "stream",
     "text": [
      "Loaded df_dict!\n"
     ]
    },
    {
     "data": {
      "application/vnd.jupyter.widget-view+json": {
       "model_id": "4901d84c9d354186ba1c81ffe1c3ed1e",
       "version_major": 2,
       "version_minor": 0
      },
      "text/plain": [
       "  0%|          | 0/3 [00:00<?, ?it/s]"
      ]
     },
     "metadata": {},
     "output_type": "display_data"
    },
    {
     "name": "stderr",
     "output_type": "stream",
     "text": [
      "/home/lirong/miniconda3/envs/main/lib/python3.10/site-packages/scipy/stats/_stats_py.py:9694: RuntimeWarning: divide by zero encountered in log\n",
      "  statistic = -2 * np.sum(np.log(pvalues))\n",
      "/home/lirong/miniconda3/envs/main/lib/python3.10/site-packages/scipy/stats/_stats_py.py:9694: RuntimeWarning: divide by zero encountered in log\n",
      "  statistic = -2 * np.sum(np.log(pvalues))\n",
      "/home/lirong/miniconda3/envs/main/lib/python3.10/site-packages/scipy/stats/_stats_py.py:9694: RuntimeWarning: divide by zero encountered in log\n",
      "  statistic = -2 * np.sum(np.log(pvalues))\n"
     ]
    },
    {
     "data": {
      "application/vnd.jupyter.widget-view+json": {
       "model_id": "fec169ffeeaa4f78b62e28f1ba1c679f",
       "version_major": 2,
       "version_minor": 0
      },
      "text/plain": [
       "  0%|          | 0/3 [00:00<?, ?it/s]"
      ]
     },
     "metadata": {},
     "output_type": "display_data"
    },
    {
     "name": "stdout",
     "output_type": "stream",
     "text": [
      "Loaded df_dict!\n"
     ]
    },
    {
     "data": {
      "application/vnd.jupyter.widget-view+json": {
       "model_id": "bcc2c0065bcb4d918a787a2914893309",
       "version_major": 2,
       "version_minor": 0
      },
      "text/plain": [
       "  0%|          | 0/3 [00:00<?, ?it/s]"
      ]
     },
     "metadata": {},
     "output_type": "display_data"
    },
    {
     "name": "stderr",
     "output_type": "stream",
     "text": [
      "/home/lirong/miniconda3/envs/main/lib/python3.10/site-packages/scipy/stats/_stats_py.py:9694: RuntimeWarning: divide by zero encountered in log\n",
      "  statistic = -2 * np.sum(np.log(pvalues))\n",
      "/home/lirong/miniconda3/envs/main/lib/python3.10/site-packages/scipy/stats/_stats_py.py:9694: RuntimeWarning: divide by zero encountered in log\n",
      "  statistic = -2 * np.sum(np.log(pvalues))\n",
      "/home/lirong/miniconda3/envs/main/lib/python3.10/site-packages/scipy/stats/_stats_py.py:9694: RuntimeWarning: divide by zero encountered in log\n",
      "  statistic = -2 * np.sum(np.log(pvalues))\n"
     ]
    },
    {
     "data": {
      "application/vnd.jupyter.widget-view+json": {
       "model_id": "f72b9b8945594f9c890bfb3fbfcedfa2",
       "version_major": 2,
       "version_minor": 0
      },
      "text/plain": [
       "  0%|          | 0/3 [00:00<?, ?it/s]"
      ]
     },
     "metadata": {},
     "output_type": "display_data"
    },
    {
     "name": "stdout",
     "output_type": "stream",
     "text": [
      "Loaded df_dict!\n"
     ]
    },
    {
     "data": {
      "application/vnd.jupyter.widget-view+json": {
       "model_id": "1921cd999fdc4525a8891af27232c0f4",
       "version_major": 2,
       "version_minor": 0
      },
      "text/plain": [
       "  0%|          | 0/3 [00:00<?, ?it/s]"
      ]
     },
     "metadata": {},
     "output_type": "display_data"
    },
    {
     "name": "stderr",
     "output_type": "stream",
     "text": [
      "/home/lirong/miniconda3/envs/main/lib/python3.10/site-packages/scipy/stats/_stats_py.py:9694: RuntimeWarning: divide by zero encountered in log\n",
      "  statistic = -2 * np.sum(np.log(pvalues))\n",
      "/home/lirong/miniconda3/envs/main/lib/python3.10/site-packages/scipy/stats/_stats_py.py:9694: RuntimeWarning: divide by zero encountered in log\n",
      "  statistic = -2 * np.sum(np.log(pvalues))\n",
      "/home/lirong/miniconda3/envs/main/lib/python3.10/site-packages/scipy/stats/_stats_py.py:9694: RuntimeWarning: divide by zero encountered in log\n",
      "  statistic = -2 * np.sum(np.log(pvalues))\n"
     ]
    },
    {
     "data": {
      "application/vnd.jupyter.widget-view+json": {
       "model_id": "a18b4ffa32304c04bac32ae94fffe6d6",
       "version_major": 2,
       "version_minor": 0
      },
      "text/plain": [
       "  0%|          | 0/3 [00:00<?, ?it/s]"
      ]
     },
     "metadata": {},
     "output_type": "display_data"
    },
    {
     "name": "stdout",
     "output_type": "stream",
     "text": [
      "Loaded df_dict!\n"
     ]
    },
    {
     "data": {
      "application/vnd.jupyter.widget-view+json": {
       "model_id": "fd4c74614eb24b82bca86653fa57891b",
       "version_major": 2,
       "version_minor": 0
      },
      "text/plain": [
       "  0%|          | 0/3 [00:00<?, ?it/s]"
      ]
     },
     "metadata": {},
     "output_type": "display_data"
    },
    {
     "name": "stderr",
     "output_type": "stream",
     "text": [
      "/home/lirong/miniconda3/envs/main/lib/python3.10/site-packages/scipy/stats/_stats_py.py:9694: RuntimeWarning: divide by zero encountered in log\n",
      "  statistic = -2 * np.sum(np.log(pvalues))\n",
      "/home/lirong/miniconda3/envs/main/lib/python3.10/site-packages/scipy/stats/_stats_py.py:9694: RuntimeWarning: divide by zero encountered in log\n",
      "  statistic = -2 * np.sum(np.log(pvalues))\n",
      "/home/lirong/miniconda3/envs/main/lib/python3.10/site-packages/scipy/stats/_stats_py.py:9694: RuntimeWarning: divide by zero encountered in log\n",
      "  statistic = -2 * np.sum(np.log(pvalues))\n"
     ]
    },
    {
     "data": {
      "application/vnd.jupyter.widget-view+json": {
       "model_id": "4a55493a6868442facd514e41e156cf2",
       "version_major": 2,
       "version_minor": 0
      },
      "text/plain": [
       "  0%|          | 0/3 [00:00<?, ?it/s]"
      ]
     },
     "metadata": {},
     "output_type": "display_data"
    },
    {
     "name": "stdout",
     "output_type": "stream",
     "text": [
      "Loaded df_dict!\n"
     ]
    },
    {
     "data": {
      "application/vnd.jupyter.widget-view+json": {
       "model_id": "7d8774d2407a473cb55a6c33bfd379f3",
       "version_major": 2,
       "version_minor": 0
      },
      "text/plain": [
       "  0%|          | 0/3 [00:00<?, ?it/s]"
      ]
     },
     "metadata": {},
     "output_type": "display_data"
    },
    {
     "name": "stderr",
     "output_type": "stream",
     "text": [
      "/home/lirong/miniconda3/envs/main/lib/python3.10/site-packages/scipy/stats/_stats_py.py:9694: RuntimeWarning: divide by zero encountered in log\n",
      "  statistic = -2 * np.sum(np.log(pvalues))\n",
      "/home/lirong/miniconda3/envs/main/lib/python3.10/site-packages/scipy/stats/_stats_py.py:9694: RuntimeWarning: divide by zero encountered in log\n",
      "  statistic = -2 * np.sum(np.log(pvalues))\n",
      "/home/lirong/miniconda3/envs/main/lib/python3.10/site-packages/scipy/stats/_stats_py.py:9694: RuntimeWarning: divide by zero encountered in log\n",
      "  statistic = -2 * np.sum(np.log(pvalues))\n"
     ]
    },
    {
     "data": {
      "text/html": [
       "<div>\n",
       "<style scoped>\n",
       "    .dataframe tbody tr th:only-of-type {\n",
       "        vertical-align: middle;\n",
       "    }\n",
       "\n",
       "    .dataframe tbody tr th {\n",
       "        vertical-align: top;\n",
       "    }\n",
       "\n",
       "    .dataframe thead th {\n",
       "        text-align: right;\n",
       "    }\n",
       "</style>\n",
       "<table border=\"1\" class=\"dataframe\">\n",
       "  <thead>\n",
       "    <tr style=\"text-align: right;\">\n",
       "      <th></th>\n",
       "      <th>dist\\ntest_df</th>\n",
       "      <th>dist\\nvalid_df</th>\n",
       "      <th>dist meaning\\ntest_df</th>\n",
       "      <th>dist meaning\\nvalid_df</th>\n",
       "      <th>marginal gauss\\ntest_df</th>\n",
       "      <th>marginal gauss\\nvalid_df</th>\n",
       "      <th>normality pval test_df</th>\n",
       "      <th>normality pval valid_df</th>\n",
       "      <th>normality stat test_df</th>\n",
       "      <th>normality stat valid_df</th>\n",
       "    </tr>\n",
       "  </thead>\n",
       "  <tbody>\n",
       "    <tr>\n",
       "      <th>t+1</th>\n",
       "      <td>0.17143 ± 0.022</td>\n",
       "      <td>0.1868 ± 0.025</td>\n",
       "      <td>0.08346 ± 0.003</td>\n",
       "      <td>0.09566 ± 0.003</td>\n",
       "      <td>0.0 ± 0.000</td>\n",
       "      <td>0.0 ± 0.000</td>\n",
       "      <td>0.0 ± 0.000</td>\n",
       "      <td>0.0 ± 0.000</td>\n",
       "      <td>4.40893 ± 0.604</td>\n",
       "      <td>1.54139 ± 0.056</td>\n",
       "    </tr>\n",
       "    <tr>\n",
       "      <th>t+2</th>\n",
       "      <td>0.12924 ± 0.016</td>\n",
       "      <td>0.13988 ± 0.017</td>\n",
       "      <td>0.06957 ± 0.002</td>\n",
       "      <td>0.07986 ± 0.002</td>\n",
       "      <td>0.0 ± 0.000</td>\n",
       "      <td>0.0 ± 0.000</td>\n",
       "      <td>0.0 ± 0.000</td>\n",
       "      <td>0.0 ± 0.000</td>\n",
       "      <td>4.04644 ± 0.679</td>\n",
       "      <td>1.51848 ± 0.111</td>\n",
       "    </tr>\n",
       "    <tr>\n",
       "      <th>t+3</th>\n",
       "      <td>0.14986 ± 0.008</td>\n",
       "      <td>0.16193 ± 0.008</td>\n",
       "      <td>0.06248 ± 0.002</td>\n",
       "      <td>0.07869 ± 0.004</td>\n",
       "      <td>0.0 ± 0.000</td>\n",
       "      <td>0.0 ± 0.000</td>\n",
       "      <td>0.0 ± 0.000</td>\n",
       "      <td>0.0 ± 0.000</td>\n",
       "      <td>3.89029 ± 0.704</td>\n",
       "      <td>1.46618 ± 0.103</td>\n",
       "    </tr>\n",
       "  </tbody>\n",
       "</table>\n",
       "</div>"
      ],
      "text/plain": [
       "       dist\\ntest_df   dist\\nvalid_df dist meaning\\ntest_df  \\\n",
       "t+1  0.17143 ± 0.022   0.1868 ± 0.025       0.08346 ± 0.003   \n",
       "t+2  0.12924 ± 0.016  0.13988 ± 0.017       0.06957 ± 0.002   \n",
       "t+3  0.14986 ± 0.008  0.16193 ± 0.008       0.06248 ± 0.002   \n",
       "\n",
       "    dist meaning\\nvalid_df marginal gauss\\ntest_df marginal gauss\\nvalid_df  \\\n",
       "t+1        0.09566 ± 0.003             0.0 ± 0.000              0.0 ± 0.000   \n",
       "t+2        0.07986 ± 0.002             0.0 ± 0.000              0.0 ± 0.000   \n",
       "t+3        0.07869 ± 0.004             0.0 ± 0.000              0.0 ± 0.000   \n",
       "\n",
       "    normality pval test_df normality pval valid_df normality stat test_df  \\\n",
       "t+1            0.0 ± 0.000             0.0 ± 0.000        4.40893 ± 0.604   \n",
       "t+2            0.0 ± 0.000             0.0 ± 0.000        4.04644 ± 0.679   \n",
       "t+3            0.0 ± 0.000             0.0 ± 0.000        3.89029 ± 0.704   \n",
       "\n",
       "    normality stat valid_df  \n",
       "t+1         1.54139 ± 0.056  \n",
       "t+2         1.51848 ± 0.111  \n",
       "t+3         1.46618 ± 0.103  "
      ]
     },
     "execution_count": 18,
     "metadata": {},
     "output_type": "execute_result"
    }
   ],
   "source": [
    "investigate_re_n_pe_for_all_seeds(\n",
    "    seed_list=seed_list, split_dict=split_dict, fp_pi_predictions=fp_pi_predictions)"
   ]
  }
 ],
 "metadata": {
  "kernelspec": {
   "display_name": "main",
   "language": "python",
   "name": "python3"
  },
  "language_info": {
   "codemirror_mode": {
    "name": "ipython",
    "version": 3
   },
   "file_extension": ".py",
   "mimetype": "text/x-python",
   "name": "python",
   "nbconvert_exporter": "python",
   "pygments_lexer": "ipython3",
   "version": "3.10.14"
  }
 },
 "nbformat": 4,
 "nbformat_minor": 5
}
