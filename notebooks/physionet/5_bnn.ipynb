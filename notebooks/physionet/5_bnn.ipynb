{
 "cells": [
  {
   "cell_type": "markdown",
   "id": "c6e5e527",
   "metadata": {},
   "source": [
    "# Load Packages"
   ]
  },
  {
   "cell_type": "code",
   "execution_count": null,
   "id": "19f36cda",
   "metadata": {},
   "outputs": [],
   "source": [
    "\n",
    "%load_ext autoreload\n",
    "%autoreload 2\n",
    "\n",
    "import sys\n",
    "from os.path import join\n",
    "from tqdm.auto import tqdm\n",
    "import joblib\n",
    "import torch\n",
    "sys.path.append(\"../../\")\n",
    "\n",
    "from src.file_manager.load_data import load_split_dict\n",
    "from src.models.bnn.tuning import tune_bnn_model\n",
    "from src.models.bnn.training import train_model_w_best_param\n",
    "from src.models.bnn.predicting import bnn_model_prediction\n",
    "from src.misc import create_folder\n",
    "from seed_file import seed\n",
    "\n",
    "# seed = 2023\n",
    "tuning_seed = 2023\n",
    "data_label = \"physionet\"\n",
    "batch_size = 64\n",
    "\n",
    "# File paths\n",
    "fp_notebooks_folder = \"../\"\n",
    "fp_project_folder = join(fp_notebooks_folder, \"../\")\n",
    "fp_processed_data_folder = join(fp_project_folder, \"processed_data\")\n",
    "fp_output_data_folder = join(fp_processed_data_folder, \"physionet\")\n",
    "fp_checkpoint_folder = join(fp_project_folder, \"checkpoints\")\n",
    "fp_project_checkpoints = join(fp_checkpoint_folder, data_label)\n",
    "fp_tuning = join(fp_project_checkpoints, \"tuning\")\n",
    "fp_models = join(fp_project_checkpoints, \"models\")\n",
    "fp_predictions = join(fp_project_checkpoints, \"predictions\")\n",
    "\n",
    "# Seed filepaths\n",
    "fp_cur_tune_folder = join(fp_tuning, str(tuning_seed))\n",
    "create_folder(fp_cur_tune_folder)\n",
    "fp_cur_model_folder = join(fp_models, str(seed))\n",
    "create_folder(fp_cur_model_folder)\n",
    "fp_cur_predictions_folder = join(fp_predictions, str(seed))\n",
    "create_folder(fp_cur_predictions_folder)"
   ]
  },
  {
   "cell_type": "markdown",
   "id": "422bc1fb",
   "metadata": {},
   "source": [
    "# Load Data"
   ]
  },
  {
   "cell_type": "code",
   "execution_count": null,
   "id": "14cb53b7",
   "metadata": {},
   "outputs": [],
   "source": [
    "split_dict = load_split_dict(fp_output_data_folder)"
   ]
  },
  {
   "cell_type": "markdown",
   "id": "586d8e30",
   "metadata": {},
   "source": [
    "# Tune BNN"
   ]
  },
  {
   "cell_type": "code",
   "execution_count": null,
   "id": "ecdaedeb",
   "metadata": {},
   "outputs": [],
   "source": [
    "if seed==tuning_seed:\n",
    "    all_bnn_best_hp = {}\n",
    "    for time_label, target_cols in tqdm(split_dict[\"target_cols\"].items()):\n",
    "        fp_model = join(fp_cur_model_folder, f\"bnn_{time_label}.pt\")\n",
    "        bnn_tuning_df, bnn_best_hp = tune_bnn_model(\n",
    "            param_grid={\"num_layers\":[2, 3], \"width\":[32, 64, 128, 256]}, \n",
    "            train_df=split_dict[\"train_df\"], valid_df=split_dict[\"valid_df\"], \n",
    "            feat_cols=split_dict[\"feat_cols\"], target_cols=target_cols, \n",
    "            epochs=500, patience=5, seed=seed, batch_size=batch_size, fp_model=fp_model)\n",
    "        display(bnn_tuning_df)\n",
    "        bnn_tuning_df.to_csv(join(fp_cur_tune_folder, f\"tuning_bnn_{time_label}.csv\"))\n",
    "        all_bnn_best_hp[time_label] = bnn_best_hp\n",
    "    joblib.dump(all_bnn_best_hp, join(fp_tuning, \"all_bnn_best_hp.joblib\"))\n",
    "    display(all_bnn_best_hp)"
   ]
  },
  {
   "cell_type": "markdown",
   "id": "176f1ae2",
   "metadata": {},
   "source": [
    "# Training"
   ]
  },
  {
   "cell_type": "code",
   "execution_count": null,
   "id": "a968818c",
   "metadata": {},
   "outputs": [],
   "source": [
    "all_bnn_best_hp = joblib.load(join(fp_tuning, \"all_bnn_best_hp.joblib\"))\n",
    "for time_label, target_cols in tqdm(split_dict[\"target_cols\"].items()):\n",
    "    fp_model = join(fp_cur_model_folder, f\"bnn_{time_label}.pt\")\n",
    "    bnn_best_hp = all_bnn_best_hp[time_label]\n",
    "    bnn_model = train_model_w_best_param(\n",
    "        best_param=bnn_best_hp, \n",
    "        train_df=split_dict[\"train_df\"], valid_df=split_dict[\"valid_df\"], \n",
    "        feat_cols=split_dict[\"feat_cols\"], target_cols=target_cols,\n",
    "        epochs=500, patience=5, seed=seed, fp_model=fp_model, batch_size=batch_size\n",
    "    )"
   ]
  },
  {
   "cell_type": "markdown",
   "id": "2558386d",
   "metadata": {},
   "source": [
    "# Prediction"
   ]
  },
  {
   "cell_type": "code",
   "execution_count": null,
   "id": "0a174cff",
   "metadata": {},
   "outputs": [],
   "source": [
    "for time_label, target_cols in tqdm(split_dict[\"target_cols\"].items()):\n",
    "    fp_model = join(fp_cur_model_folder, f\"bnn_{time_label}.pt\")\n",
    "    bnn_model = torch.load(fp_model)\n",
    "    bnn_valid_df = bnn_model_prediction(\n",
    "        bnn_model, split_dict[\"valid_df\"], \n",
    "        feat_cols=split_dict[\"feat_cols\"], target_cols=target_cols, \n",
    "        T=10, seed=seed, regressor_label=time_label, batch_size=batch_size)\n",
    "    bnn_test_df = bnn_model_prediction(\n",
    "        bnn_model, split_dict[\"test_df\"], \n",
    "        feat_cols=split_dict[\"feat_cols\"], target_cols=target_cols, \n",
    "        T=10, seed=seed, regressor_label=time_label, batch_size=batch_size)\n",
    "    # display(bnn_test_df)\n",
    "    bnn_valid_df.to_csv(join(fp_cur_predictions_folder, f\"bnn_valid_{time_label[-1]}.csv\"))\n",
    "    bnn_test_df.to_csv(join(fp_cur_predictions_folder, f\"bnn_test_{time_label[-1]}.csv\"))"
   ]
  }
 ],
 "metadata": {
  "kernelspec": {
   "display_name": "main",
   "language": "python",
   "name": "python3"
  },
  "language_info": {
   "codemirror_mode": {
    "name": "ipython",
    "version": 3
   },
   "file_extension": ".py",
   "mimetype": "text/x-python",
   "name": "python",
   "nbconvert_exporter": "python",
   "pygments_lexer": "ipython3",
   "version": "3.10.14"
  }
 },
 "nbformat": 4,
 "nbformat_minor": 5
}
