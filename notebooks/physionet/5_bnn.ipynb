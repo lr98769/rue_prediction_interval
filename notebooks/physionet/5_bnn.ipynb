{
 "cells": [
  {
   "cell_type": "markdown",
   "id": "c6e5e527",
   "metadata": {},
   "source": [
    "# Load Packages"
   ]
  },
  {
   "cell_type": "code",
   "execution_count": null,
   "id": "19f36cda",
   "metadata": {},
   "outputs": [
    {
     "name": "stdout",
     "output_type": "stream",
     "text": [
      "The autoreload extension is already loaded. To reload it, use:\n",
      "  %reload_ext autoreload\n"
     ]
    }
   ],
   "source": [
    "\n",
    "%load_ext autoreload\n",
    "%autoreload 2\n",
    "\n",
    "import sys\n",
    "from os.path import join\n",
    "from tqdm.auto import tqdm\n",
    "import joblib\n",
    "import torch\n",
    "sys.path.append(\"../../\")\n",
    "\n",
    "from src.file_manager.load_data import load_split_dict\n",
    "from src.models.bnn.tuning import tune_bnn_model\n",
    "from src.models.bnn.training import train_model_w_best_param\n",
    "from src.models.bnn.predicting import bnn_model_prediction\n",
    "from src.misc import create_folder\n",
    "# from seed_file import seed\n",
    "\n",
    "seed = 2023\n",
    "tuning_seed = 2023\n",
    "data_label = \"physionet\"\n",
    "batch_size = 64\n",
    "\n",
    "# File paths\n",
    "fp_notebooks_folder = \"../\"\n",
    "fp_project_folder = join(fp_notebooks_folder, \"../\")\n",
    "fp_data_folder = join(fp_project_folder, \"../\", \"data\")\n",
    "fp_output_data_folder = join(fp_data_folder, data_label)\n",
    "fp_checkpoint_folder = join(fp_project_folder, \"checkpoints\")\n",
    "fp_project_checkpoints = join(fp_checkpoint_folder, data_label)\n",
    "fp_tuning = join(fp_project_checkpoints, \"tuning\")\n",
    "fp_models = join(fp_project_checkpoints, \"models\")\n",
    "fp_predictions = join(fp_project_checkpoints, \"predictions\")\n",
    "\n",
    "# Seed filepaths\n",
    "fp_cur_tune_folder = join(fp_tuning, str(tuning_seed))\n",
    "create_folder(fp_cur_tune_folder)\n",
    "fp_cur_model_folder = join(fp_models, str(seed))\n",
    "create_folder(fp_cur_model_folder)\n",
    "fp_cur_predictions_folder = join(fp_predictions, str(seed))\n",
    "create_folder(fp_cur_predictions_folder)"
   ]
  },
  {
   "cell_type": "markdown",
   "id": "422bc1fb",
   "metadata": {},
   "source": [
    "# Load Data"
   ]
  },
  {
   "cell_type": "code",
   "execution_count": 6,
   "id": "14cb53b7",
   "metadata": {},
   "outputs": [],
   "source": [
    "split_dict = load_split_dict(fp_output_data_folder)"
   ]
  },
  {
   "cell_type": "markdown",
   "id": "586d8e30",
   "metadata": {},
   "source": [
    "# Tune BNN"
   ]
  },
  {
   "cell_type": "code",
   "execution_count": 13,
   "id": "ecdaedeb",
   "metadata": {},
   "outputs": [
    {
     "data": {
      "application/vnd.jupyter.widget-view+json": {
       "model_id": "f6ed9ec354ba4aebb2909516a0448b29",
       "version_major": 2,
       "version_minor": 0
      },
      "text/plain": [
       "  0%|          | 0/3 [00:00<?, ?it/s]"
      ]
     },
     "metadata": {},
     "output_type": "display_data"
    },
    {
     "data": {
      "application/vnd.jupyter.widget-view+json": {
       "model_id": "b0f66e62229841628e94665d561a45a1",
       "version_major": 2,
       "version_minor": 0
      },
      "text/plain": [
       "  0%|          | 0/8 [00:00<?, ?it/s]"
      ]
     },
     "metadata": {},
     "output_type": "display_data"
    },
    {
     "data": {
      "application/vnd.jupyter.widget-view+json": {
       "model_id": "a32aa7e74e2d47a7bbd882b2f8ed2ca6",
       "version_major": 2,
       "version_minor": 0
      },
      "text/plain": [
       "  0%|          | 0/500 [00:00<?, ?it/s]"
      ]
     },
     "metadata": {},
     "output_type": "display_data"
    },
    {
     "name": "stdout",
     "output_type": "stream",
     "text": [
      "Early stopping! Model achieved best performance at Epoch 82 with loss = 0.00666826979117015.\n"
     ]
    },
    {
     "data": {
      "application/vnd.jupyter.widget-view+json": {
       "model_id": "8e0dc11ca77b4e3a9b4569442c39cba1",
       "version_major": 2,
       "version_minor": 0
      },
      "text/plain": [
       "  0%|          | 0/500 [00:00<?, ?it/s]"
      ]
     },
     "metadata": {},
     "output_type": "display_data"
    },
    {
     "name": "stdout",
     "output_type": "stream",
     "text": [
      "Early stopping! Model achieved best performance at Epoch 75 with loss = 0.006739695494086828.\n"
     ]
    },
    {
     "data": {
      "application/vnd.jupyter.widget-view+json": {
       "model_id": "14ab38aa1af642fe9f6f837c7a396849",
       "version_major": 2,
       "version_minor": 0
      },
      "text/plain": [
       "  0%|          | 0/500 [00:00<?, ?it/s]"
      ]
     },
     "metadata": {},
     "output_type": "display_data"
    },
    {
     "name": "stdout",
     "output_type": "stream",
     "text": [
      "Early stopping! Model achieved best performance at Epoch 86 with loss = 0.008272122616307625.\n"
     ]
    },
    {
     "data": {
      "application/vnd.jupyter.widget-view+json": {
       "model_id": "c7b9c1d137574e25891e28d25f3776c3",
       "version_major": 2,
       "version_minor": 0
      },
      "text/plain": [
       "  0%|          | 0/500 [00:00<?, ?it/s]"
      ]
     },
     "metadata": {},
     "output_type": "display_data"
    },
    {
     "name": "stdout",
     "output_type": "stream",
     "text": [
      "Early stopping! Model achieved best performance at Epoch 35 with loss = 0.021178174575082167.\n"
     ]
    },
    {
     "data": {
      "application/vnd.jupyter.widget-view+json": {
       "model_id": "a422534a1eed4d908e2044c5414097a2",
       "version_major": 2,
       "version_minor": 0
      },
      "text/plain": [
       "  0%|          | 0/500 [00:00<?, ?it/s]"
      ]
     },
     "metadata": {},
     "output_type": "display_data"
    },
    {
     "name": "stdout",
     "output_type": "stream",
     "text": [
      "Early stopping! Model achieved best performance at Epoch 91 with loss = 0.005993387251504236.\n"
     ]
    },
    {
     "data": {
      "application/vnd.jupyter.widget-view+json": {
       "model_id": "e81916407dd24799811514bb2ce44753",
       "version_major": 2,
       "version_minor": 0
      },
      "text/plain": [
       "  0%|          | 0/500 [00:00<?, ?it/s]"
      ]
     },
     "metadata": {},
     "output_type": "display_data"
    },
    {
     "name": "stdout",
     "output_type": "stream",
     "text": [
      "Early stopping! Model achieved best performance at Epoch 110 with loss = 0.006211204239391495.\n"
     ]
    },
    {
     "data": {
      "application/vnd.jupyter.widget-view+json": {
       "model_id": "4e808a3244a94a62a62f98555f5e7282",
       "version_major": 2,
       "version_minor": 0
      },
      "text/plain": [
       "  0%|          | 0/500 [00:00<?, ?it/s]"
      ]
     },
     "metadata": {},
     "output_type": "display_data"
    },
    {
     "name": "stdout",
     "output_type": "stream",
     "text": [
      "Early stopping! Model achieved best performance at Epoch 9 with loss = 0.026124175339053507.\n"
     ]
    },
    {
     "data": {
      "application/vnd.jupyter.widget-view+json": {
       "model_id": "6d77c2e7509a4ada87af12259a6328d3",
       "version_major": 2,
       "version_minor": 0
      },
      "text/plain": [
       "  0%|          | 0/500 [00:00<?, ?it/s]"
      ]
     },
     "metadata": {},
     "output_type": "display_data"
    },
    {
     "name": "stdout",
     "output_type": "stream",
     "text": [
      "Early stopping! Model achieved best performance at Epoch 0 with loss = 0.029283154295037212.\n"
     ]
    },
    {
     "data": {
      "text/html": [
       "<div>\n",
       "<style scoped>\n",
       "    .dataframe tbody tr th:only-of-type {\n",
       "        vertical-align: middle;\n",
       "    }\n",
       "\n",
       "    .dataframe tbody tr th {\n",
       "        vertical-align: top;\n",
       "    }\n",
       "\n",
       "    .dataframe thead th {\n",
       "        text-align: right;\n",
       "    }\n",
       "</style>\n",
       "<table border=\"1\" class=\"dataframe\">\n",
       "  <thead>\n",
       "    <tr style=\"text-align: right;\">\n",
       "      <th></th>\n",
       "      <th>num_layers</th>\n",
       "      <th>width</th>\n",
       "      <th>loss</th>\n",
       "      <th>epoch</th>\n",
       "      <th>time/s</th>\n",
       "      <th>best_hyperparameter</th>\n",
       "    </tr>\n",
       "  </thead>\n",
       "  <tbody>\n",
       "    <tr>\n",
       "      <th>0</th>\n",
       "      <td>2</td>\n",
       "      <td>32</td>\n",
       "      <td>0.006668</td>\n",
       "      <td>82</td>\n",
       "      <td>496.350738</td>\n",
       "      <td>False</td>\n",
       "    </tr>\n",
       "    <tr>\n",
       "      <th>1</th>\n",
       "      <td>2</td>\n",
       "      <td>64</td>\n",
       "      <td>0.006740</td>\n",
       "      <td>75</td>\n",
       "      <td>434.031876</td>\n",
       "      <td>False</td>\n",
       "    </tr>\n",
       "    <tr>\n",
       "      <th>2</th>\n",
       "      <td>2</td>\n",
       "      <td>128</td>\n",
       "      <td>0.008272</td>\n",
       "      <td>86</td>\n",
       "      <td>548.382428</td>\n",
       "      <td>False</td>\n",
       "    </tr>\n",
       "    <tr>\n",
       "      <th>3</th>\n",
       "      <td>2</td>\n",
       "      <td>256</td>\n",
       "      <td>0.021178</td>\n",
       "      <td>35</td>\n",
       "      <td>224.443378</td>\n",
       "      <td>False</td>\n",
       "    </tr>\n",
       "    <tr>\n",
       "      <th>4</th>\n",
       "      <td>3</td>\n",
       "      <td>32</td>\n",
       "      <td>0.005993</td>\n",
       "      <td>91</td>\n",
       "      <td>536.053199</td>\n",
       "      <td>True</td>\n",
       "    </tr>\n",
       "    <tr>\n",
       "      <th>5</th>\n",
       "      <td>3</td>\n",
       "      <td>64</td>\n",
       "      <td>0.006211</td>\n",
       "      <td>110</td>\n",
       "      <td>641.033688</td>\n",
       "      <td>False</td>\n",
       "    </tr>\n",
       "    <tr>\n",
       "      <th>6</th>\n",
       "      <td>3</td>\n",
       "      <td>128</td>\n",
       "      <td>0.026124</td>\n",
       "      <td>9</td>\n",
       "      <td>98.255921</td>\n",
       "      <td>False</td>\n",
       "    </tr>\n",
       "    <tr>\n",
       "      <th>7</th>\n",
       "      <td>3</td>\n",
       "      <td>256</td>\n",
       "      <td>0.029283</td>\n",
       "      <td>0</td>\n",
       "      <td>45.207035</td>\n",
       "      <td>False</td>\n",
       "    </tr>\n",
       "  </tbody>\n",
       "</table>\n",
       "</div>"
      ],
      "text/plain": [
       "   num_layers  width      loss  epoch      time/s  best_hyperparameter\n",
       "0           2     32  0.006668     82  496.350738                False\n",
       "1           2     64  0.006740     75  434.031876                False\n",
       "2           2    128  0.008272     86  548.382428                False\n",
       "3           2    256  0.021178     35  224.443378                False\n",
       "4           3     32  0.005993     91  536.053199                 True\n",
       "5           3     64  0.006211    110  641.033688                False\n",
       "6           3    128  0.026124      9   98.255921                False\n",
       "7           3    256  0.029283      0   45.207035                False"
      ]
     },
     "metadata": {},
     "output_type": "display_data"
    },
    {
     "data": {
      "application/vnd.jupyter.widget-view+json": {
       "model_id": "6dee87ecd38840ac912cfeca5aa83f42",
       "version_major": 2,
       "version_minor": 0
      },
      "text/plain": [
       "  0%|          | 0/8 [00:00<?, ?it/s]"
      ]
     },
     "metadata": {},
     "output_type": "display_data"
    },
    {
     "data": {
      "application/vnd.jupyter.widget-view+json": {
       "model_id": "4edbc73b6a654eb18ebfccce4cb11c0d",
       "version_major": 2,
       "version_minor": 0
      },
      "text/plain": [
       "  0%|          | 0/500 [00:00<?, ?it/s]"
      ]
     },
     "metadata": {},
     "output_type": "display_data"
    },
    {
     "name": "stdout",
     "output_type": "stream",
     "text": [
      "Early stopping! Model achieved best performance at Epoch 89 with loss = 0.006676079531910423.\n"
     ]
    },
    {
     "data": {
      "application/vnd.jupyter.widget-view+json": {
       "model_id": "00386105630f4582be4b06b252f63fdd",
       "version_major": 2,
       "version_minor": 0
      },
      "text/plain": [
       "  0%|          | 0/500 [00:00<?, ?it/s]"
      ]
     },
     "metadata": {},
     "output_type": "display_data"
    },
    {
     "name": "stdout",
     "output_type": "stream",
     "text": [
      "Early stopping! Model achieved best performance at Epoch 82 with loss = 0.006697411375705736.\n"
     ]
    },
    {
     "data": {
      "application/vnd.jupyter.widget-view+json": {
       "model_id": "791a307ac997417f8463e4c7fe06011c",
       "version_major": 2,
       "version_minor": 0
      },
      "text/plain": [
       "  0%|          | 0/500 [00:00<?, ?it/s]"
      ]
     },
     "metadata": {},
     "output_type": "display_data"
    },
    {
     "name": "stdout",
     "output_type": "stream",
     "text": [
      "Early stopping! Model achieved best performance at Epoch 91 with loss = 0.008296488160202868.\n"
     ]
    },
    {
     "data": {
      "application/vnd.jupyter.widget-view+json": {
       "model_id": "d8291fdb16b349318de068b0689ec029",
       "version_major": 2,
       "version_minor": 0
      },
      "text/plain": [
       "  0%|          | 0/500 [00:00<?, ?it/s]"
      ]
     },
     "metadata": {},
     "output_type": "display_data"
    },
    {
     "name": "stdout",
     "output_type": "stream",
     "text": [
      "Early stopping! Model achieved best performance at Epoch 55 with loss = 0.019663491388495317.\n"
     ]
    },
    {
     "data": {
      "application/vnd.jupyter.widget-view+json": {
       "model_id": "d795804e716c4f65842f35e32cb1e8d5",
       "version_major": 2,
       "version_minor": 0
      },
      "text/plain": [
       "  0%|          | 0/500 [00:00<?, ?it/s]"
      ]
     },
     "metadata": {},
     "output_type": "display_data"
    },
    {
     "name": "stdout",
     "output_type": "stream",
     "text": [
      "Early stopping! Model achieved best performance at Epoch 91 with loss = 0.005966239617473386.\n"
     ]
    },
    {
     "data": {
      "application/vnd.jupyter.widget-view+json": {
       "model_id": "4f789acdb3224890a9082052493be084",
       "version_major": 2,
       "version_minor": 0
      },
      "text/plain": [
       "  0%|          | 0/500 [00:00<?, ?it/s]"
      ]
     },
     "metadata": {},
     "output_type": "display_data"
    },
    {
     "name": "stdout",
     "output_type": "stream",
     "text": [
      "Early stopping! Model achieved best performance at Epoch 87 with loss = 0.0061985063143633395.\n"
     ]
    },
    {
     "data": {
      "application/vnd.jupyter.widget-view+json": {
       "model_id": "41093d5f85d14451a48afdc9f28ec2c0",
       "version_major": 2,
       "version_minor": 0
      },
      "text/plain": [
       "  0%|          | 0/500 [00:00<?, ?it/s]"
      ]
     },
     "metadata": {},
     "output_type": "display_data"
    },
    {
     "name": "stdout",
     "output_type": "stream",
     "text": [
      "Early stopping! Model achieved best performance at Epoch 7 with loss = 0.02636177425174648.\n"
     ]
    },
    {
     "data": {
      "application/vnd.jupyter.widget-view+json": {
       "model_id": "0f8fd208524c4ee4bcb805d8d1d7916c",
       "version_major": 2,
       "version_minor": 0
      },
      "text/plain": [
       "  0%|          | 0/500 [00:00<?, ?it/s]"
      ]
     },
     "metadata": {},
     "output_type": "display_data"
    },
    {
     "name": "stdout",
     "output_type": "stream",
     "text": [
      "Early stopping! Model achieved best performance at Epoch 0 with loss = 0.02915825882030161.\n"
     ]
    },
    {
     "data": {
      "text/html": [
       "<div>\n",
       "<style scoped>\n",
       "    .dataframe tbody tr th:only-of-type {\n",
       "        vertical-align: middle;\n",
       "    }\n",
       "\n",
       "    .dataframe tbody tr th {\n",
       "        vertical-align: top;\n",
       "    }\n",
       "\n",
       "    .dataframe thead th {\n",
       "        text-align: right;\n",
       "    }\n",
       "</style>\n",
       "<table border=\"1\" class=\"dataframe\">\n",
       "  <thead>\n",
       "    <tr style=\"text-align: right;\">\n",
       "      <th></th>\n",
       "      <th>num_layers</th>\n",
       "      <th>width</th>\n",
       "      <th>loss</th>\n",
       "      <th>epoch</th>\n",
       "      <th>time/s</th>\n",
       "      <th>best_hyperparameter</th>\n",
       "    </tr>\n",
       "  </thead>\n",
       "  <tbody>\n",
       "    <tr>\n",
       "      <th>0</th>\n",
       "      <td>2</td>\n",
       "      <td>32</td>\n",
       "      <td>0.006676</td>\n",
       "      <td>89</td>\n",
       "      <td>544.769155</td>\n",
       "      <td>False</td>\n",
       "    </tr>\n",
       "    <tr>\n",
       "      <th>1</th>\n",
       "      <td>2</td>\n",
       "      <td>64</td>\n",
       "      <td>0.006697</td>\n",
       "      <td>82</td>\n",
       "      <td>475.270042</td>\n",
       "      <td>False</td>\n",
       "    </tr>\n",
       "    <tr>\n",
       "      <th>2</th>\n",
       "      <td>2</td>\n",
       "      <td>128</td>\n",
       "      <td>0.008296</td>\n",
       "      <td>91</td>\n",
       "      <td>541.439952</td>\n",
       "      <td>False</td>\n",
       "    </tr>\n",
       "    <tr>\n",
       "      <th>3</th>\n",
       "      <td>2</td>\n",
       "      <td>256</td>\n",
       "      <td>0.019663</td>\n",
       "      <td>55</td>\n",
       "      <td>368.679473</td>\n",
       "      <td>False</td>\n",
       "    </tr>\n",
       "    <tr>\n",
       "      <th>4</th>\n",
       "      <td>3</td>\n",
       "      <td>32</td>\n",
       "      <td>0.005966</td>\n",
       "      <td>91</td>\n",
       "      <td>593.191842</td>\n",
       "      <td>True</td>\n",
       "    </tr>\n",
       "    <tr>\n",
       "      <th>5</th>\n",
       "      <td>3</td>\n",
       "      <td>64</td>\n",
       "      <td>0.006199</td>\n",
       "      <td>87</td>\n",
       "      <td>566.446767</td>\n",
       "      <td>False</td>\n",
       "    </tr>\n",
       "    <tr>\n",
       "      <th>6</th>\n",
       "      <td>3</td>\n",
       "      <td>128</td>\n",
       "      <td>0.026362</td>\n",
       "      <td>7</td>\n",
       "      <td>90.315719</td>\n",
       "      <td>False</td>\n",
       "    </tr>\n",
       "    <tr>\n",
       "      <th>7</th>\n",
       "      <td>3</td>\n",
       "      <td>256</td>\n",
       "      <td>0.029158</td>\n",
       "      <td>0</td>\n",
       "      <td>45.127865</td>\n",
       "      <td>False</td>\n",
       "    </tr>\n",
       "  </tbody>\n",
       "</table>\n",
       "</div>"
      ],
      "text/plain": [
       "   num_layers  width      loss  epoch      time/s  best_hyperparameter\n",
       "0           2     32  0.006676     89  544.769155                False\n",
       "1           2     64  0.006697     82  475.270042                False\n",
       "2           2    128  0.008296     91  541.439952                False\n",
       "3           2    256  0.019663     55  368.679473                False\n",
       "4           3     32  0.005966     91  593.191842                 True\n",
       "5           3     64  0.006199     87  566.446767                False\n",
       "6           3    128  0.026362      7   90.315719                False\n",
       "7           3    256  0.029158      0   45.127865                False"
      ]
     },
     "metadata": {},
     "output_type": "display_data"
    },
    {
     "data": {
      "application/vnd.jupyter.widget-view+json": {
       "model_id": "e73978107f4440ef974935e85a1e8e69",
       "version_major": 2,
       "version_minor": 0
      },
      "text/plain": [
       "  0%|          | 0/8 [00:00<?, ?it/s]"
      ]
     },
     "metadata": {},
     "output_type": "display_data"
    },
    {
     "data": {
      "application/vnd.jupyter.widget-view+json": {
       "model_id": "e3edf455c1ed47d186dd674899d83165",
       "version_major": 2,
       "version_minor": 0
      },
      "text/plain": [
       "  0%|          | 0/500 [00:00<?, ?it/s]"
      ]
     },
     "metadata": {},
     "output_type": "display_data"
    },
    {
     "name": "stdout",
     "output_type": "stream",
     "text": [
      "Early stopping! Model achieved best performance at Epoch 76 with loss = 0.006776720834654339.\n"
     ]
    },
    {
     "data": {
      "application/vnd.jupyter.widget-view+json": {
       "model_id": "18b3b31db8f049228bb046dc681d8848",
       "version_major": 2,
       "version_minor": 0
      },
      "text/plain": [
       "  0%|          | 0/500 [00:00<?, ?it/s]"
      ]
     },
     "metadata": {},
     "output_type": "display_data"
    },
    {
     "name": "stdout",
     "output_type": "stream",
     "text": [
      "Early stopping! Model achieved best performance at Epoch 90 with loss = 0.006770231292924177.\n"
     ]
    },
    {
     "data": {
      "application/vnd.jupyter.widget-view+json": {
       "model_id": "bc0dc5825f20429ead8e0318568cd9e8",
       "version_major": 2,
       "version_minor": 0
      },
      "text/plain": [
       "  0%|          | 0/500 [00:00<?, ?it/s]"
      ]
     },
     "metadata": {},
     "output_type": "display_data"
    },
    {
     "name": "stdout",
     "output_type": "stream",
     "text": [
      "Early stopping! Model achieved best performance at Epoch 157 with loss = 0.008211025730150982.\n"
     ]
    },
    {
     "data": {
      "application/vnd.jupyter.widget-view+json": {
       "model_id": "114d187c9fca4e7c886d2905ba961a0f",
       "version_major": 2,
       "version_minor": 0
      },
      "text/plain": [
       "  0%|          | 0/500 [00:00<?, ?it/s]"
      ]
     },
     "metadata": {},
     "output_type": "display_data"
    },
    {
     "name": "stdout",
     "output_type": "stream",
     "text": [
      "Early stopping! Model achieved best performance at Epoch 37 with loss = 0.020846241368571612.\n"
     ]
    },
    {
     "data": {
      "application/vnd.jupyter.widget-view+json": {
       "model_id": "1b2fd5a643824395b4197ae0469394d6",
       "version_major": 2,
       "version_minor": 0
      },
      "text/plain": [
       "  0%|          | 0/500 [00:00<?, ?it/s]"
      ]
     },
     "metadata": {},
     "output_type": "display_data"
    },
    {
     "name": "stdout",
     "output_type": "stream",
     "text": [
      "Early stopping! Model achieved best performance at Epoch 92 with loss = 0.006024415864759539.\n"
     ]
    },
    {
     "data": {
      "application/vnd.jupyter.widget-view+json": {
       "model_id": "6a2544a8095d42cf950bed6a0b097f84",
       "version_major": 2,
       "version_minor": 0
      },
      "text/plain": [
       "  0%|          | 0/500 [00:00<?, ?it/s]"
      ]
     },
     "metadata": {},
     "output_type": "display_data"
    },
    {
     "name": "stdout",
     "output_type": "stream",
     "text": [
      "Early stopping! Model achieved best performance at Epoch 103 with loss = 0.006235257350183609.\n"
     ]
    },
    {
     "data": {
      "application/vnd.jupyter.widget-view+json": {
       "model_id": "347656b70096497597c969655e51c474",
       "version_major": 2,
       "version_minor": 0
      },
      "text/plain": [
       "  0%|          | 0/500 [00:00<?, ?it/s]"
      ]
     },
     "metadata": {},
     "output_type": "display_data"
    },
    {
     "name": "stdout",
     "output_type": "stream",
     "text": [
      "Early stopping! Model achieved best performance at Epoch 55 with loss = 0.01068337261428806.\n"
     ]
    },
    {
     "data": {
      "application/vnd.jupyter.widget-view+json": {
       "model_id": "b79f06e30b124b3f9774f1ba9ad9946e",
       "version_major": 2,
       "version_minor": 0
      },
      "text/plain": [
       "  0%|          | 0/500 [00:00<?, ?it/s]"
      ]
     },
     "metadata": {},
     "output_type": "display_data"
    },
    {
     "name": "stdout",
     "output_type": "stream",
     "text": [
      "Early stopping! Model achieved best performance at Epoch 0 with loss = 0.029261919465215457.\n"
     ]
    },
    {
     "data": {
      "text/html": [
       "<div>\n",
       "<style scoped>\n",
       "    .dataframe tbody tr th:only-of-type {\n",
       "        vertical-align: middle;\n",
       "    }\n",
       "\n",
       "    .dataframe tbody tr th {\n",
       "        vertical-align: top;\n",
       "    }\n",
       "\n",
       "    .dataframe thead th {\n",
       "        text-align: right;\n",
       "    }\n",
       "</style>\n",
       "<table border=\"1\" class=\"dataframe\">\n",
       "  <thead>\n",
       "    <tr style=\"text-align: right;\">\n",
       "      <th></th>\n",
       "      <th>num_layers</th>\n",
       "      <th>width</th>\n",
       "      <th>loss</th>\n",
       "      <th>epoch</th>\n",
       "      <th>time/s</th>\n",
       "      <th>best_hyperparameter</th>\n",
       "    </tr>\n",
       "  </thead>\n",
       "  <tbody>\n",
       "    <tr>\n",
       "      <th>0</th>\n",
       "      <td>2</td>\n",
       "      <td>32</td>\n",
       "      <td>0.006777</td>\n",
       "      <td>76</td>\n",
       "      <td>512.340670</td>\n",
       "      <td>False</td>\n",
       "    </tr>\n",
       "    <tr>\n",
       "      <th>1</th>\n",
       "      <td>2</td>\n",
       "      <td>64</td>\n",
       "      <td>0.006770</td>\n",
       "      <td>90</td>\n",
       "      <td>592.558297</td>\n",
       "      <td>False</td>\n",
       "    </tr>\n",
       "    <tr>\n",
       "      <th>2</th>\n",
       "      <td>2</td>\n",
       "      <td>128</td>\n",
       "      <td>0.008211</td>\n",
       "      <td>157</td>\n",
       "      <td>1004.926380</td>\n",
       "      <td>False</td>\n",
       "    </tr>\n",
       "    <tr>\n",
       "      <th>3</th>\n",
       "      <td>2</td>\n",
       "      <td>256</td>\n",
       "      <td>0.020846</td>\n",
       "      <td>37</td>\n",
       "      <td>263.166778</td>\n",
       "      <td>False</td>\n",
       "    </tr>\n",
       "    <tr>\n",
       "      <th>4</th>\n",
       "      <td>3</td>\n",
       "      <td>32</td>\n",
       "      <td>0.006024</td>\n",
       "      <td>92</td>\n",
       "      <td>594.800603</td>\n",
       "      <td>True</td>\n",
       "    </tr>\n",
       "    <tr>\n",
       "      <th>5</th>\n",
       "      <td>3</td>\n",
       "      <td>64</td>\n",
       "      <td>0.006235</td>\n",
       "      <td>103</td>\n",
       "      <td>675.051737</td>\n",
       "      <td>False</td>\n",
       "    </tr>\n",
       "    <tr>\n",
       "      <th>6</th>\n",
       "      <td>3</td>\n",
       "      <td>128</td>\n",
       "      <td>0.010683</td>\n",
       "      <td>55</td>\n",
       "      <td>380.705074</td>\n",
       "      <td>False</td>\n",
       "    </tr>\n",
       "    <tr>\n",
       "      <th>7</th>\n",
       "      <td>3</td>\n",
       "      <td>256</td>\n",
       "      <td>0.029262</td>\n",
       "      <td>0</td>\n",
       "      <td>44.068197</td>\n",
       "      <td>False</td>\n",
       "    </tr>\n",
       "  </tbody>\n",
       "</table>\n",
       "</div>"
      ],
      "text/plain": [
       "   num_layers  width      loss  epoch       time/s  best_hyperparameter\n",
       "0           2     32  0.006777     76   512.340670                False\n",
       "1           2     64  0.006770     90   592.558297                False\n",
       "2           2    128  0.008211    157  1004.926380                False\n",
       "3           2    256  0.020846     37   263.166778                False\n",
       "4           3     32  0.006024     92   594.800603                 True\n",
       "5           3     64  0.006235    103   675.051737                False\n",
       "6           3    128  0.010683     55   380.705074                False\n",
       "7           3    256  0.029262      0    44.068197                False"
      ]
     },
     "metadata": {},
     "output_type": "display_data"
    },
    {
     "data": {
      "text/plain": [
       "{'t+1': {'num_layers': 3, 'width': 32},\n",
       " 't+2': {'num_layers': 3, 'width': 32},\n",
       " 't+3': {'num_layers': 3, 'width': 32}}"
      ]
     },
     "metadata": {},
     "output_type": "display_data"
    }
   ],
   "source": [
    "if seed==tuning_seed:\n",
    "    all_bnn_best_hp = {}\n",
    "    for time_label, target_cols in tqdm(split_dict[\"target_cols\"].items()):\n",
    "        fp_model = join(fp_cur_model_folder, f\"bnn_{time_label}.pt\")\n",
    "        bnn_tuning_df, bnn_best_hp = tune_bnn_model(\n",
    "            param_grid={\"num_layers\":[2, 3], \"width\":[32, 64, 128, 256]}, \n",
    "            train_df=split_dict[\"train_df\"], valid_df=split_dict[\"valid_df\"], \n",
    "            feat_cols=split_dict[\"feat_cols\"], target_cols=target_cols, \n",
    "            epochs=500, patience=5, seed=seed, batch_size=batch_size, fp_model=fp_model)\n",
    "        display(bnn_tuning_df)\n",
    "        bnn_tuning_df.to_csv(join(fp_cur_tune_folder, f\"tuning_bnn_{time_label}.csv\"))\n",
    "        all_bnn_best_hp[time_label] = bnn_best_hp\n",
    "    joblib.dump(all_bnn_best_hp, join(fp_tuning, \"all_bnn_best_hp.joblib\"))\n",
    "    display(all_bnn_best_hp)"
   ]
  },
  {
   "cell_type": "markdown",
   "id": "176f1ae2",
   "metadata": {},
   "source": [
    "# Training"
   ]
  },
  {
   "cell_type": "code",
   "execution_count": null,
   "id": "aeaf15fe",
   "metadata": {},
   "outputs": [],
   "source": [
    "all_bnn_best_hp = joblib.load(join(fp_tuning, \"all_bnn_best_hp.joblib\"))\n",
    "for time_label, time_info_dict in tqdm(split_dict[\"target_cols\"].items()):\n",
    "    fp_model = join(fp_cur_model_folder, f\"bnn_{time_label}.pt\")\n",
    "    bnn_best_hp = all_bnn_best_hp[time_label]\n",
    "    bnn_model = train_model_w_best_param(\n",
    "        best_param=bnn_best_hp, \n",
    "        train_df=split_dict[\"train_df\"], valid_df=split_dict[\"valid_df\"], \n",
    "        feat_cols=split_dict[\"feat_cols\"], target_cols=target_cols,\n",
    "        epochs=500, patience=5, seed=seed, fp_model=fp_model\n",
    "    )"
   ]
  },
  {
   "cell_type": "markdown",
   "id": "2558386d",
   "metadata": {},
   "source": [
    "# Prediction"
   ]
  },
  {
   "cell_type": "code",
   "execution_count": null,
   "id": "0a174cff",
   "metadata": {},
   "outputs": [],
   "source": [
    "for time_label, time_info_dict in tqdm(split_dict[\"target_cols\"].items()):\n",
    "    fp_model = join(fp_cur_model_folder, f\"bnn_{time_label}.pt\")\n",
    "    bnn_model = torch.load(fp_model)\n",
    "    bnn_valid_df = bnn_model_prediction(\n",
    "        bnn_model, split_dict[\"valid_df\"], \n",
    "        feat_cols=split_dict[\"feat_cols\"], target_cols=target_cols, \n",
    "        T=10, seed=seed, regressor_label=time_label)\n",
    "    bnn_test_df = bnn_model_prediction(\n",
    "        bnn_model, split_dict[\"test_df\"], \n",
    "        feat_cols=split_dict[\"feat_cols\"], target_cols=target_cols, \n",
    "        T=10, seed=seed, regressor_label=time_label)\n",
    "    # display(bnn_test_df)\n",
    "    bnn_valid_df.to_csv(join(fp_cur_predictions_folder, f\"bnn_valid_{time_label[-1]}.csv\"))\n",
    "    bnn_test_df.to_csv(join(fp_cur_predictions_folder, f\"bnn_test_{time_label[-1]}.csv\"))"
   ]
  }
 ],
 "metadata": {
  "kernelspec": {
   "display_name": "main",
   "language": "python",
   "name": "python3"
  },
  "language_info": {
   "codemirror_mode": {
    "name": "ipython",
    "version": 3
   },
   "file_extension": ".py",
   "mimetype": "text/x-python",
   "name": "python",
   "nbconvert_exporter": "python",
   "pygments_lexer": "ipython3",
   "version": "3.10.14"
  }
 },
 "nbformat": 4,
 "nbformat_minor": 5
}
