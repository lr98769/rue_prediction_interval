{
 "cells": [
  {
   "cell_type": "markdown",
   "id": "2f2cd308",
   "metadata": {},
   "source": [
    "# Load Packages"
   ]
  },
  {
   "cell_type": "code",
   "execution_count": 36,
   "id": "30fff032",
   "metadata": {},
   "outputs": [
    {
     "name": "stdout",
     "output_type": "stream",
     "text": [
      "The autoreload extension is already loaded. To reload it, use:\n",
      "  %reload_ext autoreload\n"
     ]
    }
   ],
   "source": [
    "%load_ext autoreload\n",
    "%autoreload 2\n",
    "\n",
    "import sys\n",
    "from os.path import join\n",
    "from tqdm.auto import tqdm\n",
    "import joblib\n",
    "import torch\n",
    "sys.path.append(\"../../\")\n",
    "\n",
    "from src.file_manager.load_data import load_split_dict\n",
    "from src.file_processing.processing_predictions import load_prediction_df_dict, save_pi_df_dict\n",
    "from src.file_manager.save_load_scaler import load_scaler\n",
    "from src.pi_methods.knn import knn_prediction_interval\n",
    "from src.pi_methods.weighted import weighted_prediction_interval\n",
    "from src.pi_methods.cond_gaussian import cond_gauss_prediction_interval\n",
    "from src.pi_methods.gaussian_copula import gauss_copula_prediction_interval\n",
    "from src.pi_methods.conformal_prediction import conformal_prediction_interval\n",
    "from src.misc import create_folder\n",
    "\n",
    "seed = 2023\n",
    "data_label = \"physionet\"\n",
    "batch_size = 64\n",
    "\n",
    "# File paths\n",
    "fp_notebooks_folder = \"../\"\n",
    "fp_project_folder = join(fp_notebooks_folder, \"../\")\n",
    "fp_data_folder = join(fp_project_folder, \"../\", \"data\")\n",
    "fp_output_data_folder = join(fp_data_folder, data_label)\n",
    "fp_checkpoint_folder = join(fp_project_folder, \"checkpoints\")\n",
    "fp_project_checkpoints = join(fp_checkpoint_folder, data_label)\n",
    "fp_tuning = join(fp_project_checkpoints, \"tuning\")\n",
    "fp_models = join(fp_project_checkpoints, \"models\")\n",
    "fp_predictions = join(fp_project_checkpoints, \"predictions\")\n",
    "fp_pi_predictions = join(fp_project_checkpoints, \"pi_predictions\")\n",
    "\n",
    "# Seed filepaths\n",
    "fp_cur_model_folder = join(fp_models, str(seed))\n",
    "create_folder(fp_cur_model_folder)\n",
    "fp_cur_predictions_folder = join(fp_predictions, str(seed))\n",
    "create_folder(fp_cur_predictions_folder)\n",
    "fp_cur_pi_predictions_folder = join(fp_pi_predictions, str(seed))\n",
    "create_folder(fp_cur_pi_predictions_folder)\n",
    "\n",
    "pred_file_names =  [\"rue\", \"gpr\", \"infernoise\", \"der\"] # bnn\n",
    "\n",
    "ue_dict = {\n",
    "    \"RUE\": {\"pred_label\": \"_direct\", \"ue_col\": \"rue\"},\n",
    "    \"MC Dropout\": {\"pred_label\": \"_mean\", \"ue_col\": \"mcd\", },\n",
    "    \"GPR\": {\"pred_label\": \"_gpr\", \"ue_col\": \"gpr_std_mean\", },\n",
    "    \"Infer-Noise\": {\"pred_label\": \"_infernoise\", \"ue_col\": \"infernoise_uncertainty\", },\n",
    "    # \"BNN\": {\"pred_label\": \"_bnn\", \"ue_col\": \"bnn_uncertainty\", },\n",
    "    \"DER\": {\"pred_label\": \"_der\", \"ue_col\": \"der_uncertainty\", }\n",
    "}   "
   ]
  },
  {
   "cell_type": "markdown",
   "id": "5cae1327",
   "metadata": {},
   "source": [
    "# Load Data"
   ]
  },
  {
   "cell_type": "code",
   "execution_count": 37,
   "id": "968d400c",
   "metadata": {},
   "outputs": [],
   "source": [
    "split_dict = load_split_dict(fp_output_data_folder)"
   ]
  },
  {
   "cell_type": "markdown",
   "id": "d4dc0964",
   "metadata": {},
   "source": [
    "# Load All Predictions"
   ]
  },
  {
   "cell_type": "code",
   "execution_count": 38,
   "id": "97163ba4",
   "metadata": {},
   "outputs": [
    {
     "data": {
      "application/vnd.jupyter.widget-view+json": {
       "model_id": "bef5ad5c4d814536b07b5c87eb6dda0b",
       "version_major": 2,
       "version_minor": 0
      },
      "text/plain": [
       "  0%|          | 0/3 [00:00<?, ?it/s]"
      ]
     },
     "metadata": {},
     "output_type": "display_data"
    }
   ],
   "source": [
    "scaler = load_scaler(join(fp_output_data_folder, \"scaler.pickle\"))\n",
    "pred_df_dict = load_prediction_df_dict(\n",
    "    split_dict, fp_cur_predictions_folder, \n",
    "    pred_file_names=pred_file_names) "
   ]
  },
  {
   "cell_type": "markdown",
   "id": "d1e40d5c",
   "metadata": {},
   "source": [
    "# Add KNN PI"
   ]
  },
  {
   "cell_type": "code",
   "execution_count": 39,
   "id": "8d619030",
   "metadata": {},
   "outputs": [
    {
     "data": {
      "application/vnd.jupyter.widget-view+json": {
       "model_id": "be99844ee56e424693eb2c061e99fef0",
       "version_major": 2,
       "version_minor": 0
      },
      "text/plain": [
       "  0%|          | 0/3 [00:00<?, ?it/s]"
      ]
     },
     "metadata": {},
     "output_type": "display_data"
    }
   ],
   "source": [
    "# Apply knn_prediction_interval to all RUE\n",
    "ue_label = \"RUE\"\n",
    "for time_label, time_info in tqdm(pred_df_dict.items()):\n",
    "    val_df, test_df, pred_cols = time_info[\"valid_df\"], time_info[\"test_df\"], time_info[\"pred_cols\"]\n",
    "    pred_label, ue_col = ue_dict[ue_label][\"pred_label\"], ue_dict[ue_label][\"ue_col\"]\n",
    "    pred_df_dict[time_label][\"test_df\"] = knn_prediction_interval(\n",
    "        df_val=val_df, df_test=test_df, \n",
    "        predictors=split_dict[\"feat_cols\"], pred_cols=pred_cols, \n",
    "        pred_label=pred_label, regressor_label=time_label, ue_col=ue_col, \n",
    "        scaler=scaler, seed=seed\n",
    "    )\n"
   ]
  },
  {
   "cell_type": "markdown",
   "id": "0d8aa929",
   "metadata": {},
   "source": [
    "# Add Weighted Percentile PI"
   ]
  },
  {
   "cell_type": "code",
   "execution_count": 40,
   "id": "1099d3ea",
   "metadata": {},
   "outputs": [
    {
     "data": {
      "application/vnd.jupyter.widget-view+json": {
       "model_id": "f43ac5b1d0b841fcbf0281c71f7996a5",
       "version_major": 2,
       "version_minor": 0
      },
      "text/plain": [
       "  0%|          | 0/3 [00:00<?, ?it/s]"
      ]
     },
     "metadata": {},
     "output_type": "display_data"
    },
    {
     "name": "stdout",
     "output_type": "stream",
     "text": [
      "0\n",
      "2.424518261263724e-05\n"
     ]
    },
    {
     "data": {
      "application/vnd.jupyter.widget-view+json": {
       "model_id": "07b17fc511ba4c0eb45a502754421e0f",
       "version_major": 2,
       "version_minor": 0
      },
      "text/plain": [
       "  0%|          | 0/5 [00:00<?, ?it/s]"
      ]
     },
     "metadata": {},
     "output_type": "display_data"
    },
    {
     "name": "stdout",
     "output_type": "stream",
     "text": [
      "0\n",
      "2.045193056612151e-05\n"
     ]
    },
    {
     "data": {
      "application/vnd.jupyter.widget-view+json": {
       "model_id": "b7c851261c634b20a0291cf093d031e7",
       "version_major": 2,
       "version_minor": 0
      },
      "text/plain": [
       "  0%|          | 0/5 [00:00<?, ?it/s]"
      ]
     },
     "metadata": {},
     "output_type": "display_data"
    },
    {
     "name": "stdout",
     "output_type": "stream",
     "text": [
      "0\n",
      "2.147562592395685e-05\n"
     ]
    },
    {
     "data": {
      "application/vnd.jupyter.widget-view+json": {
       "model_id": "c34e34759f9f46b0a3f51fc182b00b62",
       "version_major": 2,
       "version_minor": 0
      },
      "text/plain": [
       "  0%|          | 0/5 [00:00<?, ?it/s]"
      ]
     },
     "metadata": {},
     "output_type": "display_data"
    }
   ],
   "source": [
    "# Apply weighted_prediction_interval to all RUE\n",
    "ue_label = \"RUE\"\n",
    "for time_label, time_info in tqdm(pred_df_dict.items()):\n",
    "    val_df, test_df, pred_cols = time_info[\"valid_df\"], time_info[\"test_df\"], time_info[\"pred_cols\"]\n",
    "    pred_label, ue_col = ue_dict[ue_label][\"pred_label\"], ue_dict[ue_label][\"ue_col\"]\n",
    "    pred_df_dict[time_label][\"test_df\"] = weighted_prediction_interval(\n",
    "        df_val=val_df, df_test=test_df, \n",
    "        predictors=split_dict[\"feat_cols\"], pred_cols=pred_cols, \n",
    "        pred_label=pred_label, regressor_label=time_label, ue_col=ue_col, \n",
    "        scaler=scaler, seed=seed\n",
    "    )"
   ]
  },
  {
   "cell_type": "markdown",
   "id": "256a059c",
   "metadata": {},
   "source": [
    "# Add Cond Gauss PI"
   ]
  },
  {
   "cell_type": "code",
   "execution_count": 41,
   "id": "f9667882",
   "metadata": {},
   "outputs": [
    {
     "data": {
      "application/vnd.jupyter.widget-view+json": {
       "model_id": "bea992ea4cc445f08790800682858281",
       "version_major": 2,
       "version_minor": 0
      },
      "text/plain": [
       "  0%|          | 0/3 [00:00<?, ?it/s]"
      ]
     },
     "metadata": {},
     "output_type": "display_data"
    },
    {
     "data": {
      "application/vnd.jupyter.widget-view+json": {
       "model_id": "7399c391d8174738bd3eba4397141b65",
       "version_major": 2,
       "version_minor": 0
      },
      "text/plain": [
       "  0%|          | 0/5 [00:00<?, ?it/s]"
      ]
     },
     "metadata": {},
     "output_type": "display_data"
    },
    {
     "data": {
      "application/vnd.jupyter.widget-view+json": {
       "model_id": "52dc9fd0f9714a18bf2dff79d8b4ceb8",
       "version_major": 2,
       "version_minor": 0
      },
      "text/plain": [
       "  0%|          | 0/5 [00:00<?, ?it/s]"
      ]
     },
     "metadata": {},
     "output_type": "display_data"
    },
    {
     "data": {
      "application/vnd.jupyter.widget-view+json": {
       "model_id": "3f6e63bfe2224407af45c17481747137",
       "version_major": 2,
       "version_minor": 0
      },
      "text/plain": [
       "  0%|          | 0/5 [00:00<?, ?it/s]"
      ]
     },
     "metadata": {},
     "output_type": "display_data"
    }
   ],
   "source": [
    "# Apply cond_gauss_prediction_interval to all RUE\n",
    "ue_label = \"RUE\"\n",
    "for time_label, time_info in tqdm(pred_df_dict.items()):\n",
    "    val_df, test_df, pred_cols = time_info[\"valid_df\"], time_info[\"test_df\"], time_info[\"pred_cols\"]\n",
    "    pred_label, ue_col = ue_dict[ue_label][\"pred_label\"], ue_dict[ue_label][\"ue_col\"]\n",
    "    pred_df_dict[time_label][\"test_df\"] = cond_gauss_prediction_interval(\n",
    "        df_val=val_df, df_test=test_df, predictors=split_dict[\"feat_cols\"], pred_cols=pred_cols, \n",
    "        pred_label=pred_label, regressor_label=time_label, ue_col=ue_col, \n",
    "        scaler=scaler, seed=seed\n",
    "    )"
   ]
  },
  {
   "cell_type": "markdown",
   "id": "e5376836",
   "metadata": {},
   "source": [
    "# Add Gaussian Copula PI"
   ]
  },
  {
   "cell_type": "code",
   "execution_count": 42,
   "id": "ada273a0",
   "metadata": {},
   "outputs": [
    {
     "data": {
      "application/vnd.jupyter.widget-view+json": {
       "model_id": "a890e9fd8adf4529a220c873cb3556d5",
       "version_major": 2,
       "version_minor": 0
      },
      "text/plain": [
       "  0%|          | 0/3 [00:00<?, ?it/s]"
      ]
     },
     "metadata": {},
     "output_type": "display_data"
    },
    {
     "data": {
      "application/vnd.jupyter.widget-view+json": {
       "model_id": "13f4f742c6d14571aa2dbb6297a149b2",
       "version_major": 2,
       "version_minor": 0
      },
      "text/plain": [
       "  0%|          | 0/5 [00:00<?, ?it/s]"
      ]
     },
     "metadata": {},
     "output_type": "display_data"
    },
    {
     "data": {
      "application/vnd.jupyter.widget-view+json": {
       "model_id": "c6d0e552214c4a5b8f99478c0b9d399a",
       "version_major": 2,
       "version_minor": 0
      },
      "text/plain": [
       "  0%|          | 0/5 [00:00<?, ?it/s]"
      ]
     },
     "metadata": {},
     "output_type": "display_data"
    },
    {
     "data": {
      "application/vnd.jupyter.widget-view+json": {
       "model_id": "01780e60c463470c9fdde50b62e3a404",
       "version_major": 2,
       "version_minor": 0
      },
      "text/plain": [
       "  0%|          | 0/5 [00:00<?, ?it/s]"
      ]
     },
     "metadata": {},
     "output_type": "display_data"
    }
   ],
   "source": [
    "# Apply weighted_prediction_interval to all RUE\n",
    "ue_label = \"RUE\"\n",
    "for time_label, time_info in tqdm(pred_df_dict.items()):\n",
    "    val_df, test_df, pred_cols = time_info[\"valid_df\"], time_info[\"test_df\"], time_info[\"pred_cols\"]\n",
    "    pred_label, ue_col = ue_dict[ue_label][\"pred_label\"], ue_dict[ue_label][\"ue_col\"]\n",
    "    pred_df_dict[time_label][\"test_df\"] = gauss_copula_prediction_interval(\n",
    "        df_val=val_df, df_test=test_df, \n",
    "        predictors=split_dict[\"feat_cols\"], pred_cols=pred_cols, \n",
    "        pred_label=pred_label, regressor_label=time_label, ue_col=ue_col, \n",
    "        scaler=scaler, seed=seed\n",
    "    )"
   ]
  },
  {
   "cell_type": "markdown",
   "id": "b5cebad9",
   "metadata": {},
   "source": [
    "# Add CP"
   ]
  },
  {
   "cell_type": "code",
   "execution_count": 43,
   "id": "e2d55fc7",
   "metadata": {},
   "outputs": [
    {
     "data": {
      "application/vnd.jupyter.widget-view+json": {
       "model_id": "2e857303289d4229b6ee85cdcc66b0b5",
       "version_major": 2,
       "version_minor": 0
      },
      "text/plain": [
       "  0%|          | 0/3 [00:00<?, ?it/s]"
      ]
     },
     "metadata": {},
     "output_type": "display_data"
    }
   ],
   "source": [
    "# Apply conformal prediction to all UEs\n",
    "for time_label, time_info in tqdm(pred_df_dict.items()):\n",
    "    val_df, test_df, pred_cols = time_info[\"valid_df\"], time_info[\"test_df\"], time_info[\"pred_cols\"]\n",
    "    for ue_label, ue_info in ue_dict.items():\n",
    "        pred_label, ue_col = ue_info[\"pred_label\"], ue_info[\"ue_col\"]\n",
    "        pred_df_dict[time_label][\"test_df\"] = conformal_prediction_interval(\n",
    "            df_val=val_df, df_test=test_df, \n",
    "            predictors=split_dict[\"feat_cols\"], pred_cols=pred_cols, \n",
    "            pred_label=pred_label, regressor_label=time_label, ue_col=ue_col, \n",
    "            scaler=scaler, seed=seed\n",
    "        )"
   ]
  },
  {
   "cell_type": "markdown",
   "id": "2906d442",
   "metadata": {},
   "source": [
    "# Export df dict"
   ]
  },
  {
   "cell_type": "code",
   "execution_count": 44,
   "id": "f624cb1c",
   "metadata": {},
   "outputs": [
    {
     "data": {
      "application/vnd.jupyter.widget-view+json": {
       "model_id": "de3611e1f9cc4bad82aae9dfa8c09de5",
       "version_major": 2,
       "version_minor": 0
      },
      "text/plain": [
       "  0%|          | 0/3 [00:00<?, ?it/s]"
      ]
     },
     "metadata": {},
     "output_type": "display_data"
    },
    {
     "name": "stdout",
     "output_type": "stream",
     "text": [
      "Saved df_dict!\n"
     ]
    }
   ],
   "source": [
    "save_pi_df_dict(pred_df_dict, fp_cur_pi_predictions_folder)"
   ]
  },
  {
   "cell_type": "code",
   "execution_count": null,
   "id": "0f968ba8",
   "metadata": {},
   "outputs": [],
   "source": []
  }
 ],
 "metadata": {
  "kernelspec": {
   "display_name": "main",
   "language": "python",
   "name": "python3"
  },
  "language_info": {
   "codemirror_mode": {
    "name": "ipython",
    "version": 3
   },
   "file_extension": ".py",
   "mimetype": "text/x-python",
   "name": "python",
   "nbconvert_exporter": "python",
   "pygments_lexer": "ipython3",
   "version": "3.10.14"
  }
 },
 "nbformat": 4,
 "nbformat_minor": 5
}
