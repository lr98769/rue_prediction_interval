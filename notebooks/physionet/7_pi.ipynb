{
 "cells": [
  {
   "cell_type": "markdown",
   "id": "2f2cd308",
   "metadata": {},
   "source": [
    "# Load Packages"
   ]
  },
  {
   "cell_type": "code",
   "execution_count": 1,
   "id": "30fff032",
   "metadata": {},
   "outputs": [
    {
     "name": "stderr",
     "output_type": "stream",
     "text": [
      "2025-06-05 14:29:06.411436: E external/local_xla/xla/stream_executor/cuda/cuda_fft.cc:485] Unable to register cuFFT factory: Attempting to register factory for plugin cuFFT when one has already been registered\n",
      "2025-06-05 14:29:06.423320: E external/local_xla/xla/stream_executor/cuda/cuda_dnn.cc:8454] Unable to register cuDNN factory: Attempting to register factory for plugin cuDNN when one has already been registered\n",
      "2025-06-05 14:29:06.426903: E external/local_xla/xla/stream_executor/cuda/cuda_blas.cc:1452] Unable to register cuBLAS factory: Attempting to register factory for plugin cuBLAS when one has already been registered\n",
      "2025-06-05 14:29:06.436832: I tensorflow/core/platform/cpu_feature_guard.cc:210] This TensorFlow binary is optimized to use available CPU instructions in performance-critical operations.\n",
      "To enable the following instructions: AVX2 FMA, in other operations, rebuild TensorFlow with the appropriate compiler flags.\n",
      "2025-06-05 14:29:07.059629: W tensorflow/compiler/tf2tensorrt/utils/py_utils.cc:38] TF-TRT Warning: Could not find TensorRT\n"
     ]
    }
   ],
   "source": [
    "\n",
    "%load_ext autoreload\n",
    "%autoreload 2\n",
    "\n",
    "import sys\n",
    "from os.path import join\n",
    "from tqdm.auto import tqdm\n",
    "import joblib\n",
    "import torch\n",
    "sys.path.append(\"../../\")\n",
    "\n",
    "from src.file_manager.load_data import load_split_dict\n",
    "from src.file_processing.processing_predictions import load_prediction_df_dict, save_pi_df_dict\n",
    "from src.file_manager.save_load_scaler import load_scaler\n",
    "from src.pi_methods.knn import knn_prediction_interval\n",
    "from src.pi_methods.weighted import weighted_prediction_interval\n",
    "from src.pi_methods.cond_gaussian import cond_gauss_prediction_interval\n",
    "from src.pi_methods.gaussian_copula import gauss_copula_prediction_interval\n",
    "from src.pi_methods.conformal_prediction import conformal_prediction_interval\n",
    "from src.misc import create_folder\n",
    "from ue_pi_dicts import ue_dict\n",
    "from seed_file import seed\n",
    "\n",
    "# seed = 2023\n",
    "data_label = \"physionet\"\n",
    "batch_size = 64\n",
    "\n",
    "# File paths\n",
    "fp_notebooks_folder = \"../\"\n",
    "fp_project_folder = join(fp_notebooks_folder, \"../\")\n",
    "fp_processed_data_folder = join(fp_project_folder, \"processed_data\")\n",
    "fp_output_data_folder = join(fp_processed_data_folder, \"physionet\")\n",
    "fp_checkpoint_folder = join(fp_project_folder, \"checkpoints\")\n",
    "fp_project_checkpoints = join(fp_checkpoint_folder, data_label)\n",
    "fp_tuning = join(fp_project_checkpoints, \"tuning\")\n",
    "fp_models = join(fp_project_checkpoints, \"models\")\n",
    "fp_predictions = join(fp_project_checkpoints, \"predictions\")\n",
    "fp_pi_predictions = join(fp_project_checkpoints, \"pi_predictions\")\n",
    "\n",
    "# Seed filepaths\n",
    "fp_cur_model_folder = join(fp_models, str(seed))\n",
    "create_folder(fp_cur_model_folder)\n",
    "fp_cur_predictions_folder = join(fp_predictions, str(seed))\n",
    "create_folder(fp_cur_predictions_folder)\n",
    "fp_cur_pi_predictions_folder = join(fp_pi_predictions, str(seed))\n",
    "create_folder(fp_cur_pi_predictions_folder)\n",
    "\n",
    "pred_file_names =  [\"rue\", \"gpr\", \"infernoise\", \"der\", \"bnn\"]"
   ]
  },
  {
   "cell_type": "markdown",
   "id": "5cae1327",
   "metadata": {},
   "source": [
    "# Load Data"
   ]
  },
  {
   "cell_type": "code",
   "execution_count": 2,
   "id": "968d400c",
   "metadata": {},
   "outputs": [],
   "source": [
    "split_dict = load_split_dict(fp_output_data_folder)"
   ]
  },
  {
   "cell_type": "markdown",
   "id": "d4dc0964",
   "metadata": {},
   "source": [
    "# Load All Predictions"
   ]
  },
  {
   "cell_type": "code",
   "execution_count": 3,
   "id": "97163ba4",
   "metadata": {},
   "outputs": [
    {
     "data": {
      "application/vnd.jupyter.widget-view+json": {
       "model_id": "29e845ed9b004053a86a022d0ae71e2f",
       "version_major": 2,
       "version_minor": 0
      },
      "text/plain": [
       "  0%|          | 0/3 [00:00<?, ?it/s]"
      ]
     },
     "metadata": {},
     "output_type": "display_data"
    }
   ],
   "source": [
    "scaler = load_scaler(join(fp_output_data_folder, \"scaler.pickle\"))\n",
    "pred_df_dict = load_prediction_df_dict(\n",
    "    split_dict, fp_cur_predictions_folder, pred_file_names=pred_file_names) "
   ]
  },
  {
   "cell_type": "markdown",
   "id": "d1e40d5c",
   "metadata": {},
   "source": [
    "# Add KNN PI"
   ]
  },
  {
   "cell_type": "code",
   "execution_count": 13,
   "id": "8d619030",
   "metadata": {},
   "outputs": [
    {
     "data": {
      "application/vnd.jupyter.widget-view+json": {
       "model_id": "92c063a8dd3745f891638c8b7afd217b",
       "version_major": 2,
       "version_minor": 0
      },
      "text/plain": [
       "  0%|          | 0/3 [00:00<?, ?it/s]"
      ]
     },
     "metadata": {},
     "output_type": "display_data"
    }
   ],
   "source": [
    "# Apply knn_prediction_interval to all RUE\n",
    "ue_label = \"RUE\"\n",
    "for time_label, time_info in tqdm(pred_df_dict.items()):\n",
    "    val_df, test_df, pred_cols = time_info[\"valid_df\"], time_info[\"test_df\"], time_info[\"pred_cols\"]\n",
    "    pred_label, ue_col = ue_dict[ue_label][\"pred_label\"], ue_dict[ue_label][\"ue_col\"]\n",
    "    pred_df_dict[time_label][\"test_df\"] = knn_prediction_interval(\n",
    "        df_val=val_df, df_test=test_df, \n",
    "        predictors=split_dict[\"feat_cols\"], pred_cols=pred_cols, \n",
    "        pred_label=pred_label, regressor_label=time_label, ue_col=ue_col, \n",
    "        scaler=scaler, seed=seed\n",
    "    )\n"
   ]
  },
  {
   "cell_type": "markdown",
   "id": "0d8aa929",
   "metadata": {},
   "source": [
    "# Add Weighted Percentile PI"
   ]
  },
  {
   "cell_type": "code",
   "execution_count": 14,
   "id": "1099d3ea",
   "metadata": {},
   "outputs": [
    {
     "data": {
      "application/vnd.jupyter.widget-view+json": {
       "model_id": "47c4f43c9daf46e3b226654136a2bd78",
       "version_major": 2,
       "version_minor": 0
      },
      "text/plain": [
       "  0%|          | 0/3 [00:00<?, ?it/s]"
      ]
     },
     "metadata": {},
     "output_type": "display_data"
    },
    {
     "name": "stdout",
     "output_type": "stream",
     "text": [
      "0\n",
      "1.5339514699400601e-06\n"
     ]
    },
    {
     "data": {
      "application/vnd.jupyter.widget-view+json": {
       "model_id": "a0936985739c411d819021a0609a7dd9",
       "version_major": 2,
       "version_minor": 0
      },
      "text/plain": [
       "  0%|          | 0/5 [00:00<?, ?it/s]"
      ]
     },
     "metadata": {},
     "output_type": "display_data"
    },
    {
     "name": "stdout",
     "output_type": "stream",
     "text": [
      "0\n",
      "1.303178103646748e-06\n"
     ]
    },
    {
     "data": {
      "application/vnd.jupyter.widget-view+json": {
       "model_id": "cf71abe503514b2eba2a652856d573e9",
       "version_major": 2,
       "version_minor": 0
      },
      "text/plain": [
       "  0%|          | 0/5 [00:00<?, ?it/s]"
      ]
     },
     "metadata": {},
     "output_type": "display_data"
    },
    {
     "name": "stdout",
     "output_type": "stream",
     "text": [
      "0\n",
      "1.3402297783367728e-06\n"
     ]
    },
    {
     "data": {
      "application/vnd.jupyter.widget-view+json": {
       "model_id": "5bc496427c684ad8a9f68f3a86595518",
       "version_major": 2,
       "version_minor": 0
      },
      "text/plain": [
       "  0%|          | 0/5 [00:00<?, ?it/s]"
      ]
     },
     "metadata": {},
     "output_type": "display_data"
    }
   ],
   "source": [
    "# Apply weighted_prediction_interval to all RUE\n",
    "ue_label = \"RUE\"\n",
    "for time_label, time_info in tqdm(pred_df_dict.items()):\n",
    "    val_df, test_df, pred_cols = time_info[\"valid_df\"], time_info[\"test_df\"], time_info[\"pred_cols\"]\n",
    "    pred_label, ue_col = ue_dict[ue_label][\"pred_label\"], ue_dict[ue_label][\"ue_col\"]\n",
    "    pred_df_dict[time_label][\"test_df\"] = weighted_prediction_interval(\n",
    "        df_val=val_df, df_test=test_df, \n",
    "        predictors=split_dict[\"feat_cols\"], pred_cols=pred_cols, \n",
    "        pred_label=pred_label, regressor_label=time_label, ue_col=ue_col, \n",
    "        scaler=scaler, seed=seed\n",
    "    )"
   ]
  },
  {
   "cell_type": "markdown",
   "id": "256a059c",
   "metadata": {},
   "source": [
    "# Add Cond Gauss PI"
   ]
  },
  {
   "cell_type": "code",
   "execution_count": 15,
   "id": "f9667882",
   "metadata": {},
   "outputs": [
    {
     "data": {
      "application/vnd.jupyter.widget-view+json": {
       "model_id": "3b23819eb1724390872617caa6515318",
       "version_major": 2,
       "version_minor": 0
      },
      "text/plain": [
       "  0%|          | 0/3 [00:00<?, ?it/s]"
      ]
     },
     "metadata": {},
     "output_type": "display_data"
    },
    {
     "data": {
      "application/vnd.jupyter.widget-view+json": {
       "model_id": "ec6d5d15833646d1ba23ed28bb2bac6c",
       "version_major": 2,
       "version_minor": 0
      },
      "text/plain": [
       "  0%|          | 0/5 [00:00<?, ?it/s]"
      ]
     },
     "metadata": {},
     "output_type": "display_data"
    },
    {
     "data": {
      "application/vnd.jupyter.widget-view+json": {
       "model_id": "4aca4edbbf844c5c8933c063afa303ae",
       "version_major": 2,
       "version_minor": 0
      },
      "text/plain": [
       "  0%|          | 0/5 [00:00<?, ?it/s]"
      ]
     },
     "metadata": {},
     "output_type": "display_data"
    },
    {
     "data": {
      "application/vnd.jupyter.widget-view+json": {
       "model_id": "a21a7788df3440e8bf87b8869ee9e85a",
       "version_major": 2,
       "version_minor": 0
      },
      "text/plain": [
       "  0%|          | 0/5 [00:00<?, ?it/s]"
      ]
     },
     "metadata": {},
     "output_type": "display_data"
    }
   ],
   "source": [
    "# Apply cond_gauss_prediction_interval to all RUE\n",
    "ue_label = \"RUE\"\n",
    "for time_label, time_info in tqdm(pred_df_dict.items()):\n",
    "    val_df, test_df, pred_cols = time_info[\"valid_df\"], time_info[\"test_df\"], time_info[\"pred_cols\"]\n",
    "    pred_label, ue_col = ue_dict[ue_label][\"pred_label\"], ue_dict[ue_label][\"ue_col\"]\n",
    "    pred_df_dict[time_label][\"test_df\"] = cond_gauss_prediction_interval(\n",
    "        df_val=val_df, df_test=test_df, predictors=split_dict[\"feat_cols\"], pred_cols=pred_cols, \n",
    "        pred_label=pred_label, regressor_label=time_label, ue_col=ue_col, \n",
    "        scaler=scaler, seed=seed\n",
    "    )"
   ]
  },
  {
   "cell_type": "markdown",
   "id": "e5376836",
   "metadata": {},
   "source": [
    "# Add Gaussian Copula PI"
   ]
  },
  {
   "cell_type": "code",
   "execution_count": 16,
   "id": "ada273a0",
   "metadata": {},
   "outputs": [
    {
     "data": {
      "application/vnd.jupyter.widget-view+json": {
       "model_id": "cc80a713a71e4e2fbde2768a7f0ebe0b",
       "version_major": 2,
       "version_minor": 0
      },
      "text/plain": [
       "  0%|          | 0/3 [00:00<?, ?it/s]"
      ]
     },
     "metadata": {},
     "output_type": "display_data"
    },
    {
     "data": {
      "application/vnd.jupyter.widget-view+json": {
       "model_id": "64bd58b20e68412bb6ab0184a4f90567",
       "version_major": 2,
       "version_minor": 0
      },
      "text/plain": [
       "  0%|          | 0/5 [00:00<?, ?it/s]"
      ]
     },
     "metadata": {},
     "output_type": "display_data"
    },
    {
     "data": {
      "application/vnd.jupyter.widget-view+json": {
       "model_id": "5c46c0dbe208449ab7f2302f734b1d1a",
       "version_major": 2,
       "version_minor": 0
      },
      "text/plain": [
       "  0%|          | 0/5 [00:00<?, ?it/s]"
      ]
     },
     "metadata": {},
     "output_type": "display_data"
    },
    {
     "data": {
      "application/vnd.jupyter.widget-view+json": {
       "model_id": "9d096c76930140249d67346b08546702",
       "version_major": 2,
       "version_minor": 0
      },
      "text/plain": [
       "  0%|          | 0/5 [00:00<?, ?it/s]"
      ]
     },
     "metadata": {},
     "output_type": "display_data"
    }
   ],
   "source": [
    "ue_label = \"RUE\"\n",
    "for time_label, time_info in tqdm(pred_df_dict.items()):\n",
    "    val_df, test_df, pred_cols = time_info[\"valid_df\"], time_info[\"test_df\"], time_info[\"pred_cols\"]\n",
    "    pred_label, ue_col = ue_dict[ue_label][\"pred_label\"], ue_dict[ue_label][\"ue_col\"]\n",
    "    pred_df_dict[time_label][\"test_df\"] = gauss_copula_prediction_interval(\n",
    "        df_val=val_df, df_test=test_df, \n",
    "        predictors=split_dict[\"feat_cols\"], pred_cols=pred_cols, \n",
    "        pred_label=pred_label, regressor_label=time_label, ue_col=ue_col, \n",
    "        scaler=scaler, seed=seed\n",
    "    )"
   ]
  },
  {
   "cell_type": "markdown",
   "id": "b5cebad9",
   "metadata": {},
   "source": [
    "# Add CP"
   ]
  },
  {
   "cell_type": "code",
   "execution_count": 17,
   "id": "e2d55fc7",
   "metadata": {},
   "outputs": [
    {
     "data": {
      "application/vnd.jupyter.widget-view+json": {
       "model_id": "15742f3633544af8a05675fa7461f3a8",
       "version_major": 2,
       "version_minor": 0
      },
      "text/plain": [
       "  0%|          | 0/3 [00:00<?, ?it/s]"
      ]
     },
     "metadata": {},
     "output_type": "display_data"
    }
   ],
   "source": [
    "# Apply conformal prediction to all UEs\n",
    "for time_label, time_info in tqdm(pred_df_dict.items()):\n",
    "    val_df, test_df, pred_cols = time_info[\"valid_df\"], time_info[\"test_df\"], time_info[\"pred_cols\"]\n",
    "    for ue_label, ue_info in ue_dict.items():\n",
    "        val_df, test_df, pred_cols = time_info[\"valid_df\"], time_info[\"test_df\"], time_info[\"pred_cols\"]\n",
    "        pred_label, ue_col = ue_info[\"pred_label\"], ue_info[\"ue_col\"]\n",
    "        pred_df_dict[time_label][\"test_df\"] = conformal_prediction_interval(\n",
    "            df_val=val_df, df_test=test_df, \n",
    "            predictors=split_dict[\"feat_cols\"], pred_cols=pred_cols, \n",
    "            pred_label=pred_label, regressor_label=time_label, ue_col=ue_col, \n",
    "            scaler=scaler, seed=seed\n",
    "        )"
   ]
  },
  {
   "cell_type": "markdown",
   "id": "2906d442",
   "metadata": {},
   "source": [
    "# Export df dict"
   ]
  },
  {
   "cell_type": "code",
   "execution_count": 18,
   "id": "f624cb1c",
   "metadata": {},
   "outputs": [
    {
     "data": {
      "application/vnd.jupyter.widget-view+json": {
       "model_id": "720a452bb747442c87a19dfda3f14ab1",
       "version_major": 2,
       "version_minor": 0
      },
      "text/plain": [
       "  0%|          | 0/3 [00:00<?, ?it/s]"
      ]
     },
     "metadata": {},
     "output_type": "display_data"
    },
    {
     "name": "stdout",
     "output_type": "stream",
     "text": [
      "Saved df_dict!\n"
     ]
    }
   ],
   "source": [
    "save_pi_df_dict(pred_df_dict, fp_cur_pi_predictions_folder)"
   ]
  },
  {
   "cell_type": "code",
   "execution_count": null,
   "id": "f144ac51",
   "metadata": {},
   "outputs": [],
   "source": []
  }
 ],
 "metadata": {
  "kernelspec": {
   "display_name": "main",
   "language": "python",
   "name": "python3"
  },
  "language_info": {
   "codemirror_mode": {
    "name": "ipython",
    "version": 3
   },
   "file_extension": ".py",
   "mimetype": "text/x-python",
   "name": "python",
   "nbconvert_exporter": "python",
   "pygments_lexer": "ipython3",
   "version": "3.10.14"
  }
 },
 "nbformat": 4,
 "nbformat_minor": 5
}
