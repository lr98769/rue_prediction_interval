{
 "cells": [
  {
   "cell_type": "markdown",
   "id": "2f2cd308",
   "metadata": {},
   "source": [
    "# Load Packages"
   ]
  },
  {
   "cell_type": "code",
   "execution_count": 45,
   "id": "30fff032",
   "metadata": {},
   "outputs": [
    {
     "name": "stdout",
     "output_type": "stream",
     "text": [
      "The autoreload extension is already loaded. To reload it, use:\n",
      "  %reload_ext autoreload\n"
     ]
    }
   ],
   "source": [
    "%load_ext autoreload\n",
    "%autoreload 2\n",
    "\n",
    "import sys\n",
    "from os.path import join\n",
    "from tqdm.auto import tqdm\n",
    "import joblib\n",
    "import torch\n",
    "sys.path.append(\"../../\")\n",
    "\n",
    "from src.file_manager.load_data import load_split_dict\n",
    "from src.file_processing.processing_predictions import load_prediction_df_dict, save_pi_df_dict\n",
    "from src.file_manager.save_load_scaler import load_scaler\n",
    "from src.pi_methods.knn import knn_prediction_interval\n",
    "from src.pi_methods.weighted import weighted_prediction_interval\n",
    "from src.pi_methods.cond_gaussian import cond_gauss_prediction_interval\n",
    "from src.pi_methods.gaussian_copula import gauss_copula_prediction_interval\n",
    "from src.pi_methods.conformal_prediction import conformal_prediction_interval\n",
    "from src.misc import create_folder\n",
    "\n",
    "seed = 2023\n",
    "data_label = \"physionet\"\n",
    "batch_size = 64\n",
    "\n",
    "# File paths\n",
    "fp_notebooks_folder = \"../\"\n",
    "fp_project_folder = join(fp_notebooks_folder, \"../\")\n",
    "fp_data_folder = join(fp_project_folder, \"../\", \"data\")\n",
    "fp_output_data_folder = join(fp_data_folder, data_label)\n",
    "fp_checkpoint_folder = join(fp_project_folder, \"checkpoints\")\n",
    "fp_project_checkpoints = join(fp_checkpoint_folder, data_label)\n",
    "fp_tuning = join(fp_project_checkpoints, \"tuning\")\n",
    "fp_models = join(fp_project_checkpoints, \"models\")\n",
    "fp_predictions = join(fp_project_checkpoints, \"predictions\")\n",
    "fp_pi_predictions = join(fp_project_checkpoints, \"pi_predictions\")\n",
    "\n",
    "# Seed filepaths\n",
    "fp_cur_model_folder = join(fp_models, str(seed))\n",
    "create_folder(fp_cur_model_folder)\n",
    "fp_cur_predictions_folder = join(fp_predictions, str(seed))\n",
    "create_folder(fp_cur_predictions_folder)\n",
    "fp_cur_pi_predictions_folder = join(fp_pi_predictions, str(seed))\n",
    "create_folder(fp_cur_pi_predictions_folder)\n",
    "\n",
    "pred_file_names =  [\"rue\", \"gpr\", \"infernoise\", \"der\"] # bnn\n",
    "\n",
    "ue_dict = {\n",
    "    \"RUE\": {\"pred_label\": \"_direct\", \"ue_col\": \"rue\"},\n",
    "    \"MC Dropout\": {\"pred_label\": \"_mean\", \"ue_col\": \"mcd\", },\n",
    "    \"GPR\": {\"pred_label\": \"_gpr\", \"ue_col\": \"gpr_std_mean\", },\n",
    "    \"Infer-Noise\": {\"pred_label\": \"_infernoise\", \"ue_col\": \"infernoise_uncertainty\", },\n",
    "    # \"BNN\": {\"pred_label\": \"_bnn\", \"ue_col\": \"bnn_uncertainty\", },\n",
    "    \"DER\": {\"pred_label\": \"_der\", \"ue_col\": \"der_uncertainty\", }\n",
    "}   "
   ]
  },
  {
   "cell_type": "markdown",
   "id": "5cae1327",
   "metadata": {},
   "source": [
    "# Load Data"
   ]
  },
  {
   "cell_type": "code",
   "execution_count": 46,
   "id": "968d400c",
   "metadata": {},
   "outputs": [],
   "source": [
    "split_dict = load_split_dict(fp_output_data_folder)"
   ]
  },
  {
   "cell_type": "markdown",
   "id": "d4dc0964",
   "metadata": {},
   "source": [
    "# Load All Predictions"
   ]
  },
  {
   "cell_type": "code",
   "execution_count": 47,
   "id": "97163ba4",
   "metadata": {},
   "outputs": [
    {
     "data": {
      "application/vnd.jupyter.widget-view+json": {
       "model_id": "5edcd1e0bd91427188fcb2c40af7774a",
       "version_major": 2,
       "version_minor": 0
      },
      "text/plain": [
       "  0%|          | 0/3 [00:00<?, ?it/s]"
      ]
     },
     "metadata": {},
     "output_type": "display_data"
    }
   ],
   "source": [
    "scaler = load_scaler(join(fp_output_data_folder, \"scaler.pickle\"))\n",
    "pred_df_dict = load_prediction_df_dict(\n",
    "    split_dict, fp_cur_predictions_folder, \n",
    "    pred_file_names=pred_file_names) "
   ]
  },
  {
   "cell_type": "markdown",
   "id": "d1e40d5c",
   "metadata": {},
   "source": [
    "# Add KNN PI"
   ]
  },
  {
   "cell_type": "code",
   "execution_count": 48,
   "id": "8d619030",
   "metadata": {},
   "outputs": [
    {
     "data": {
      "application/vnd.jupyter.widget-view+json": {
       "model_id": "7c9a0c4a57614078b50a4667880ecc1a",
       "version_major": 2,
       "version_minor": 0
      },
      "text/plain": [
       "  0%|          | 0/3 [00:00<?, ?it/s]"
      ]
     },
     "metadata": {},
     "output_type": "display_data"
    }
   ],
   "source": [
    "# Apply knn_prediction_interval to all RUE\n",
    "ue_label = \"RUE\"\n",
    "for time_label, time_info in tqdm(pred_df_dict.items()):\n",
    "    val_df, test_df, pred_cols = time_info[\"valid_df\"], time_info[\"test_df\"], time_info[\"pred_cols\"]\n",
    "    pred_label, ue_col = ue_dict[ue_label][\"pred_label\"], ue_dict[ue_label][\"ue_col\"]\n",
    "    pred_df_dict[time_label][\"test_df\"] = knn_prediction_interval(\n",
    "        df_val=val_df, df_test=test_df, \n",
    "        predictors=split_dict[\"feat_cols\"], pred_cols=pred_cols, \n",
    "        pred_label=pred_label, regressor_label=time_label, ue_col=ue_col, \n",
    "        scaler=scaler, seed=seed\n",
    "    )\n"
   ]
  },
  {
   "cell_type": "markdown",
   "id": "0d8aa929",
   "metadata": {},
   "source": [
    "# Add Weighted Percentile PI"
   ]
  },
  {
   "cell_type": "code",
   "execution_count": 49,
   "id": "1099d3ea",
   "metadata": {},
   "outputs": [
    {
     "data": {
      "application/vnd.jupyter.widget-view+json": {
       "model_id": "09113ba1e7174eb19ea3107de58412ff",
       "version_major": 2,
       "version_minor": 0
      },
      "text/plain": [
       "  0%|          | 0/3 [00:00<?, ?it/s]"
      ]
     },
     "metadata": {},
     "output_type": "display_data"
    },
    {
     "name": "stdout",
     "output_type": "stream",
     "text": [
      "0\n",
      "2.424518261263724e-05\n"
     ]
    },
    {
     "data": {
      "application/vnd.jupyter.widget-view+json": {
       "model_id": "b9c56ae760f244a2b5b0c7ad69567296",
       "version_major": 2,
       "version_minor": 0
      },
      "text/plain": [
       "  0%|          | 0/5 [00:00<?, ?it/s]"
      ]
     },
     "metadata": {},
     "output_type": "display_data"
    },
    {
     "name": "stdout",
     "output_type": "stream",
     "text": [
      "0\n",
      "2.045193056612151e-05\n"
     ]
    },
    {
     "data": {
      "application/vnd.jupyter.widget-view+json": {
       "model_id": "6416e0d5e81c40eeb9c0c68f87d5fb44",
       "version_major": 2,
       "version_minor": 0
      },
      "text/plain": [
       "  0%|          | 0/5 [00:00<?, ?it/s]"
      ]
     },
     "metadata": {},
     "output_type": "display_data"
    },
    {
     "name": "stdout",
     "output_type": "stream",
     "text": [
      "0\n",
      "2.147562592395685e-05\n"
     ]
    },
    {
     "data": {
      "application/vnd.jupyter.widget-view+json": {
       "model_id": "190614f0c5ed4a6cb5f1b17fc196c2a3",
       "version_major": 2,
       "version_minor": 0
      },
      "text/plain": [
       "  0%|          | 0/5 [00:00<?, ?it/s]"
      ]
     },
     "metadata": {},
     "output_type": "display_data"
    }
   ],
   "source": [
    "# Apply weighted_prediction_interval to all RUE\n",
    "ue_label = \"RUE\"\n",
    "for time_label, time_info in tqdm(pred_df_dict.items()):\n",
    "    val_df, test_df, pred_cols = time_info[\"valid_df\"], time_info[\"test_df\"], time_info[\"pred_cols\"]\n",
    "    pred_label, ue_col = ue_dict[ue_label][\"pred_label\"], ue_dict[ue_label][\"ue_col\"]\n",
    "    pred_df_dict[time_label][\"test_df\"] = weighted_prediction_interval(\n",
    "        df_val=val_df, df_test=test_df, \n",
    "        predictors=split_dict[\"feat_cols\"], pred_cols=pred_cols, \n",
    "        pred_label=pred_label, regressor_label=time_label, ue_col=ue_col, \n",
    "        scaler=scaler, seed=seed\n",
    "    )"
   ]
  },
  {
   "cell_type": "markdown",
   "id": "256a059c",
   "metadata": {},
   "source": [
    "# Add Cond Gauss PI"
   ]
  },
  {
   "cell_type": "code",
   "execution_count": 50,
   "id": "f9667882",
   "metadata": {},
   "outputs": [
    {
     "data": {
      "application/vnd.jupyter.widget-view+json": {
       "model_id": "03d61d8e17644034a1eba74588216fc4",
       "version_major": 2,
       "version_minor": 0
      },
      "text/plain": [
       "  0%|          | 0/3 [00:00<?, ?it/s]"
      ]
     },
     "metadata": {},
     "output_type": "display_data"
    },
    {
     "data": {
      "application/vnd.jupyter.widget-view+json": {
       "model_id": "1f32bd3aed0f43c4ac99b734ce07baa7",
       "version_major": 2,
       "version_minor": 0
      },
      "text/plain": [
       "  0%|          | 0/5 [00:00<?, ?it/s]"
      ]
     },
     "metadata": {},
     "output_type": "display_data"
    },
    {
     "data": {
      "application/vnd.jupyter.widget-view+json": {
       "model_id": "14de2e9b749a4c0b8c2eccb3d082b6a0",
       "version_major": 2,
       "version_minor": 0
      },
      "text/plain": [
       "  0%|          | 0/5 [00:00<?, ?it/s]"
      ]
     },
     "metadata": {},
     "output_type": "display_data"
    },
    {
     "data": {
      "application/vnd.jupyter.widget-view+json": {
       "model_id": "e9997ec3a65841e29ae91f912a202521",
       "version_major": 2,
       "version_minor": 0
      },
      "text/plain": [
       "  0%|          | 0/5 [00:00<?, ?it/s]"
      ]
     },
     "metadata": {},
     "output_type": "display_data"
    }
   ],
   "source": [
    "# Apply cond_gauss_prediction_interval to all RUE\n",
    "ue_label = \"RUE\"\n",
    "for time_label, time_info in tqdm(pred_df_dict.items()):\n",
    "    val_df, test_df, pred_cols = time_info[\"valid_df\"], time_info[\"test_df\"], time_info[\"pred_cols\"]\n",
    "    pred_label, ue_col = ue_dict[ue_label][\"pred_label\"], ue_dict[ue_label][\"ue_col\"]\n",
    "    pred_df_dict[time_label][\"test_df\"] = cond_gauss_prediction_interval(\n",
    "        df_val=val_df, df_test=test_df, predictors=split_dict[\"feat_cols\"], pred_cols=pred_cols, \n",
    "        pred_label=pred_label, regressor_label=time_label, ue_col=ue_col, \n",
    "        scaler=scaler, seed=seed\n",
    "    )"
   ]
  },
  {
   "cell_type": "markdown",
   "id": "e5376836",
   "metadata": {},
   "source": [
    "# Add Gaussian Copula PI"
   ]
  },
  {
   "cell_type": "code",
   "execution_count": 51,
   "id": "ada273a0",
   "metadata": {},
   "outputs": [
    {
     "data": {
      "application/vnd.jupyter.widget-view+json": {
       "model_id": "f7a7f77290054c4983e082500216ab0c",
       "version_major": 2,
       "version_minor": 0
      },
      "text/plain": [
       "  0%|          | 0/3 [00:00<?, ?it/s]"
      ]
     },
     "metadata": {},
     "output_type": "display_data"
    },
    {
     "data": {
      "application/vnd.jupyter.widget-view+json": {
       "model_id": "3ab10cf2aec54d8884b82f90115e7678",
       "version_major": 2,
       "version_minor": 0
      },
      "text/plain": [
       "  0%|          | 0/5 [00:00<?, ?it/s]"
      ]
     },
     "metadata": {},
     "output_type": "display_data"
    },
    {
     "data": {
      "application/vnd.jupyter.widget-view+json": {
       "model_id": "2d159fbf9a924809946d5115cafa2165",
       "version_major": 2,
       "version_minor": 0
      },
      "text/plain": [
       "  0%|          | 0/5 [00:00<?, ?it/s]"
      ]
     },
     "metadata": {},
     "output_type": "display_data"
    },
    {
     "data": {
      "application/vnd.jupyter.widget-view+json": {
       "model_id": "c56d9d3e49f3474887565c8f2d3ac6be",
       "version_major": 2,
       "version_minor": 0
      },
      "text/plain": [
       "  0%|          | 0/5 [00:00<?, ?it/s]"
      ]
     },
     "metadata": {},
     "output_type": "display_data"
    }
   ],
   "source": [
    "# Apply weighted_prediction_interval to all RUE\n",
    "ue_label = \"RUE\"\n",
    "for time_label, time_info in tqdm(pred_df_dict.items()):\n",
    "    val_df, test_df, pred_cols = time_info[\"valid_df\"], time_info[\"test_df\"], time_info[\"pred_cols\"]\n",
    "    pred_label, ue_col = ue_dict[ue_label][\"pred_label\"], ue_dict[ue_label][\"ue_col\"]\n",
    "    pred_df_dict[time_label][\"test_df\"] = gauss_copula_prediction_interval(\n",
    "        df_val=val_df, df_test=test_df, \n",
    "        predictors=split_dict[\"feat_cols\"], pred_cols=pred_cols, \n",
    "        pred_label=pred_label, regressor_label=time_label, ue_col=ue_col, \n",
    "        scaler=scaler, seed=seed\n",
    "    )"
   ]
  },
  {
   "cell_type": "markdown",
   "id": "b5cebad9",
   "metadata": {},
   "source": [
    "# Add CP"
   ]
  },
  {
   "cell_type": "code",
   "execution_count": 52,
   "id": "e2d55fc7",
   "metadata": {},
   "outputs": [
    {
     "data": {
      "application/vnd.jupyter.widget-view+json": {
       "model_id": "ccadc962ba344d73a707ee916d21722c",
       "version_major": 2,
       "version_minor": 0
      },
      "text/plain": [
       "  0%|          | 0/3 [00:00<?, ?it/s]"
      ]
     },
     "metadata": {},
     "output_type": "display_data"
    }
   ],
   "source": [
    "# Apply conformal prediction to all UEs\n",
    "for time_label, time_info in tqdm(pred_df_dict.items()):\n",
    "    val_df, test_df, pred_cols = time_info[\"valid_df\"], time_info[\"test_df\"], time_info[\"pred_cols\"]\n",
    "    for ue_label, ue_info in ue_dict.items():\n",
    "        val_df, test_df, pred_cols = time_info[\"valid_df\"], time_info[\"test_df\"], time_info[\"pred_cols\"]\n",
    "        pred_label, ue_col = ue_info[\"pred_label\"], ue_info[\"ue_col\"]\n",
    "        pred_df_dict[time_label][\"test_df\"] = conformal_prediction_interval(\n",
    "            df_val=val_df, df_test=test_df, \n",
    "            predictors=split_dict[\"feat_cols\"], pred_cols=pred_cols, \n",
    "            pred_label=pred_label, regressor_label=time_label, ue_col=ue_col, \n",
    "            scaler=scaler, seed=seed\n",
    "        )"
   ]
  },
  {
   "cell_type": "markdown",
   "id": "2906d442",
   "metadata": {},
   "source": [
    "# Export df dict"
   ]
  },
  {
   "cell_type": "code",
   "execution_count": 54,
   "id": "f624cb1c",
   "metadata": {},
   "outputs": [
    {
     "data": {
      "application/vnd.jupyter.widget-view+json": {
       "model_id": "35e3549f565247978ca0df22342b199c",
       "version_major": 2,
       "version_minor": 0
      },
      "text/plain": [
       "  0%|          | 0/3 [00:00<?, ?it/s]"
      ]
     },
     "metadata": {},
     "output_type": "display_data"
    },
    {
     "name": "stdout",
     "output_type": "stream",
     "text": [
      "Saved df_dict!\n"
     ]
    }
   ],
   "source": [
    "save_pi_df_dict(pred_df_dict, fp_cur_pi_predictions_folder)"
   ]
  },
  {
   "cell_type": "code",
   "execution_count": null,
   "id": "0f968ba8",
   "metadata": {},
   "outputs": [],
   "source": []
  }
 ],
 "metadata": {
  "kernelspec": {
   "display_name": "main",
   "language": "python",
   "name": "python3"
  },
  "language_info": {
   "codemirror_mode": {
    "name": "ipython",
    "version": 3
   },
   "file_extension": ".py",
   "mimetype": "text/x-python",
   "name": "python",
   "nbconvert_exporter": "python",
   "pygments_lexer": "ipython3",
   "version": "3.10.14"
  }
 },
 "nbformat": 4,
 "nbformat_minor": 5
}
